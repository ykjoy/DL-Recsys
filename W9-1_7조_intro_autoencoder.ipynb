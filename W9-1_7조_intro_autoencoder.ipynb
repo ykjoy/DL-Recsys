{
  "nbformat": 4,
  "nbformat_minor": 0,
  "metadata": {
    "colab": {
      "provenance": [],
      "toc_visible": true
    },
    "kernelspec": {
      "name": "python3",
      "display_name": "Python 3"
    },
    "language_info": {
      "name": "python"
    }
  },
  "cells": [
    {
      "cell_type": "markdown",
      "source": [
        "# **오토인코더의 작업 과정**"
      ],
      "metadata": {
        "id": "6pRw7rThU05n"
      }
    },
    {
      "cell_type": "markdown",
      "source": [
        "오토인코더의 주요 목적은 원본 데이터를 효과적으로 압축하면서, 원본 데이터를 가능한 한 잘 복원할 수 있는 낮은 차원의 표현(D)를 학습 하는 것이다. (ex:문장축소를 통해 중요한 문장 출력)\n",
        "\n",
        "기본아이디어 : '고차원 데이터에서 저차원 표현을 학습하는 것’"
      ],
      "metadata": {
        "id": "hgllcdIAVC4y"
      }
    },
    {
      "cell_type": "code",
      "source": [
        "##필요한 라이브러리 가져오기\n",
        "from plotly.offline import init_notebook_mode, iplot\n",
        "import plotly.graph_objs as go\n",
        "import numpy as np\n",
        "init_notebook_mode(connected=True)\n",
        "\n",
        "## 무작위 데이터 생성\n",
        "N = 50\n",
        "random_x = np.linspace(2, 10, N)\n",
        "random_y1 = np.linspace(2, 10, N)\n",
        "random_y2 = np.linspace(2, 10, N)\n",
        "\n",
        "##두 개의 산점도(추적) 생성\n",
        "trace1 = go.Scatter(x = random_x, y = random_y1, mode=\"markers\", name=\"Actual Data\")\n",
        "trace2 = go.Scatter(x = random_x, y = random_y2, mode=\"lines\", name=\"Model\")\n",
        "\n",
        "##플롯트(Plot)의 레이아웃 정의\n",
        "layout = go.Layout(title=\"2D Data Repersentation Space\", xaxis=dict(title=\"x2\", range=(0,12)),\n",
        "                   yaxis=dict(title=\"x1\", range=(0,12)), height=400,\n",
        "                   annotations=[dict(x=5, y=5, xref='x', yref='y', text='This 1D line is the Data Manifold (where data resides)',\n",
        "                   showarrow=True, align='center', arrowhead=2, arrowsize=1, arrowwidth=2, arrowcolor='#636363',\n",
        "                   ax=-120, ay=-30, bordercolor='#c7c7c7', borderwidth=2, borderpad=4, bgcolor='orange', opacity=0.8)])\n",
        "figure = go.Figure(data = [trace1], layout = layout)\n",
        "iplot(figure)"
      ],
      "metadata": {
        "colab": {
          "base_uri": "https://localhost:8080/",
          "height": 417
        },
        "id": "bxXPFhli3KhD",
        "outputId": "df0825d6-8deb-42a0-dfaa-2a470f6bfc15"
      },
      "execution_count": null,
      "outputs": [
        {
          "output_type": "display_data",
          "data": {
            "text/html": [
              "        <script type=\"text/javascript\">\n",
              "        window.PlotlyConfig = {MathJaxConfig: 'local'};\n",
              "        if (window.MathJax && window.MathJax.Hub && window.MathJax.Hub.Config) {window.MathJax.Hub.Config({SVG: {font: \"STIX-Web\"}});}\n",
              "        if (typeof require !== 'undefined') {\n",
              "        require.undef(\"plotly\");\n",
              "        requirejs.config({\n",
              "            paths: {\n",
              "                'plotly': ['https://cdn.plot.ly/plotly-2.24.1.min']\n",
              "            }\n",
              "        });\n",
              "        require(['plotly'], function(Plotly) {\n",
              "            window._Plotly = Plotly;\n",
              "        });\n",
              "        }\n",
              "        </script>\n",
              "        "
            ]
          },
          "metadata": {}
        },
        {
          "output_type": "display_data",
          "data": {
            "application/vnd.plotly.v1+json": {
              "data": [
                {
                  "mode": "markers",
                  "name": "Actual Data",
                  "x": [
                    2,
                    2.163265306122449,
                    2.326530612244898,
                    2.489795918367347,
                    2.6530612244897958,
                    2.816326530612245,
                    2.979591836734694,
                    3.142857142857143,
                    3.3061224489795915,
                    3.4693877551020407,
                    3.63265306122449,
                    3.7959183673469385,
                    3.9591836734693877,
                    4.122448979591836,
                    4.285714285714286,
                    4.448979591836734,
                    4.612244897959183,
                    4.775510204081632,
                    4.938775510204081,
                    5.1020408163265305,
                    5.26530612244898,
                    5.428571428571429,
                    5.591836734693877,
                    5.755102040816326,
                    5.918367346938775,
                    6.081632653061225,
                    6.244897959183673,
                    6.408163265306122,
                    6.571428571428571,
                    6.73469387755102,
                    6.897959183673469,
                    7.061224489795918,
                    7.224489795918367,
                    7.387755102040816,
                    7.551020408163265,
                    7.7142857142857135,
                    7.877551020408163,
                    8.040816326530612,
                    8.204081632653061,
                    8.367346938775508,
                    8.53061224489796,
                    8.693877551020407,
                    8.857142857142858,
                    9.020408163265305,
                    9.183673469387754,
                    9.346938775510203,
                    9.510204081632653,
                    9.673469387755102,
                    9.83673469387755,
                    10
                  ],
                  "y": [
                    2,
                    2.163265306122449,
                    2.326530612244898,
                    2.489795918367347,
                    2.6530612244897958,
                    2.816326530612245,
                    2.979591836734694,
                    3.142857142857143,
                    3.3061224489795915,
                    3.4693877551020407,
                    3.63265306122449,
                    3.7959183673469385,
                    3.9591836734693877,
                    4.122448979591836,
                    4.285714285714286,
                    4.448979591836734,
                    4.612244897959183,
                    4.775510204081632,
                    4.938775510204081,
                    5.1020408163265305,
                    5.26530612244898,
                    5.428571428571429,
                    5.591836734693877,
                    5.755102040816326,
                    5.918367346938775,
                    6.081632653061225,
                    6.244897959183673,
                    6.408163265306122,
                    6.571428571428571,
                    6.73469387755102,
                    6.897959183673469,
                    7.061224489795918,
                    7.224489795918367,
                    7.387755102040816,
                    7.551020408163265,
                    7.7142857142857135,
                    7.877551020408163,
                    8.040816326530612,
                    8.204081632653061,
                    8.367346938775508,
                    8.53061224489796,
                    8.693877551020407,
                    8.857142857142858,
                    9.020408163265305,
                    9.183673469387754,
                    9.346938775510203,
                    9.510204081632653,
                    9.673469387755102,
                    9.83673469387755,
                    10
                  ],
                  "type": "scatter"
                }
              ],
              "layout": {
                "annotations": [
                  {
                    "align": "center",
                    "arrowcolor": "#636363",
                    "arrowhead": 2,
                    "arrowsize": 1,
                    "arrowwidth": 2,
                    "ax": -120,
                    "ay": -30,
                    "bgcolor": "orange",
                    "bordercolor": "#c7c7c7",
                    "borderpad": 4,
                    "borderwidth": 2,
                    "opacity": 0.8,
                    "showarrow": true,
                    "text": "This 1D line is the Data Manifold (where data resides)",
                    "x": 5,
                    "xref": "x",
                    "y": 5,
                    "yref": "y"
                  }
                ],
                "height": 400,
                "template": {
                  "data": {
                    "barpolar": [
                      {
                        "marker": {
                          "line": {
                            "color": "#E5ECF6",
                            "width": 0.5
                          },
                          "pattern": {
                            "fillmode": "overlay",
                            "size": 10,
                            "solidity": 0.2
                          }
                        },
                        "type": "barpolar"
                      }
                    ],
                    "bar": [
                      {
                        "error_x": {
                          "color": "#2a3f5f"
                        },
                        "error_y": {
                          "color": "#2a3f5f"
                        },
                        "marker": {
                          "line": {
                            "color": "#E5ECF6",
                            "width": 0.5
                          },
                          "pattern": {
                            "fillmode": "overlay",
                            "size": 10,
                            "solidity": 0.2
                          }
                        },
                        "type": "bar"
                      }
                    ],
                    "carpet": [
                      {
                        "aaxis": {
                          "endlinecolor": "#2a3f5f",
                          "gridcolor": "white",
                          "linecolor": "white",
                          "minorgridcolor": "white",
                          "startlinecolor": "#2a3f5f"
                        },
                        "baxis": {
                          "endlinecolor": "#2a3f5f",
                          "gridcolor": "white",
                          "linecolor": "white",
                          "minorgridcolor": "white",
                          "startlinecolor": "#2a3f5f"
                        },
                        "type": "carpet"
                      }
                    ],
                    "choropleth": [
                      {
                        "colorbar": {
                          "outlinewidth": 0,
                          "ticks": ""
                        },
                        "type": "choropleth"
                      }
                    ],
                    "contourcarpet": [
                      {
                        "colorbar": {
                          "outlinewidth": 0,
                          "ticks": ""
                        },
                        "type": "contourcarpet"
                      }
                    ],
                    "contour": [
                      {
                        "colorbar": {
                          "outlinewidth": 0,
                          "ticks": ""
                        },
                        "colorscale": [
                          [
                            0,
                            "#0d0887"
                          ],
                          [
                            0.1111111111111111,
                            "#46039f"
                          ],
                          [
                            0.2222222222222222,
                            "#7201a8"
                          ],
                          [
                            0.3333333333333333,
                            "#9c179e"
                          ],
                          [
                            0.4444444444444444,
                            "#bd3786"
                          ],
                          [
                            0.5555555555555556,
                            "#d8576b"
                          ],
                          [
                            0.6666666666666666,
                            "#ed7953"
                          ],
                          [
                            0.7777777777777778,
                            "#fb9f3a"
                          ],
                          [
                            0.8888888888888888,
                            "#fdca26"
                          ],
                          [
                            1,
                            "#f0f921"
                          ]
                        ],
                        "type": "contour"
                      }
                    ],
                    "heatmapgl": [
                      {
                        "colorbar": {
                          "outlinewidth": 0,
                          "ticks": ""
                        },
                        "colorscale": [
                          [
                            0,
                            "#0d0887"
                          ],
                          [
                            0.1111111111111111,
                            "#46039f"
                          ],
                          [
                            0.2222222222222222,
                            "#7201a8"
                          ],
                          [
                            0.3333333333333333,
                            "#9c179e"
                          ],
                          [
                            0.4444444444444444,
                            "#bd3786"
                          ],
                          [
                            0.5555555555555556,
                            "#d8576b"
                          ],
                          [
                            0.6666666666666666,
                            "#ed7953"
                          ],
                          [
                            0.7777777777777778,
                            "#fb9f3a"
                          ],
                          [
                            0.8888888888888888,
                            "#fdca26"
                          ],
                          [
                            1,
                            "#f0f921"
                          ]
                        ],
                        "type": "heatmapgl"
                      }
                    ],
                    "heatmap": [
                      {
                        "colorbar": {
                          "outlinewidth": 0,
                          "ticks": ""
                        },
                        "colorscale": [
                          [
                            0,
                            "#0d0887"
                          ],
                          [
                            0.1111111111111111,
                            "#46039f"
                          ],
                          [
                            0.2222222222222222,
                            "#7201a8"
                          ],
                          [
                            0.3333333333333333,
                            "#9c179e"
                          ],
                          [
                            0.4444444444444444,
                            "#bd3786"
                          ],
                          [
                            0.5555555555555556,
                            "#d8576b"
                          ],
                          [
                            0.6666666666666666,
                            "#ed7953"
                          ],
                          [
                            0.7777777777777778,
                            "#fb9f3a"
                          ],
                          [
                            0.8888888888888888,
                            "#fdca26"
                          ],
                          [
                            1,
                            "#f0f921"
                          ]
                        ],
                        "type": "heatmap"
                      }
                    ],
                    "histogram2dcontour": [
                      {
                        "colorbar": {
                          "outlinewidth": 0,
                          "ticks": ""
                        },
                        "colorscale": [
                          [
                            0,
                            "#0d0887"
                          ],
                          [
                            0.1111111111111111,
                            "#46039f"
                          ],
                          [
                            0.2222222222222222,
                            "#7201a8"
                          ],
                          [
                            0.3333333333333333,
                            "#9c179e"
                          ],
                          [
                            0.4444444444444444,
                            "#bd3786"
                          ],
                          [
                            0.5555555555555556,
                            "#d8576b"
                          ],
                          [
                            0.6666666666666666,
                            "#ed7953"
                          ],
                          [
                            0.7777777777777778,
                            "#fb9f3a"
                          ],
                          [
                            0.8888888888888888,
                            "#fdca26"
                          ],
                          [
                            1,
                            "#f0f921"
                          ]
                        ],
                        "type": "histogram2dcontour"
                      }
                    ],
                    "histogram2d": [
                      {
                        "colorbar": {
                          "outlinewidth": 0,
                          "ticks": ""
                        },
                        "colorscale": [
                          [
                            0,
                            "#0d0887"
                          ],
                          [
                            0.1111111111111111,
                            "#46039f"
                          ],
                          [
                            0.2222222222222222,
                            "#7201a8"
                          ],
                          [
                            0.3333333333333333,
                            "#9c179e"
                          ],
                          [
                            0.4444444444444444,
                            "#bd3786"
                          ],
                          [
                            0.5555555555555556,
                            "#d8576b"
                          ],
                          [
                            0.6666666666666666,
                            "#ed7953"
                          ],
                          [
                            0.7777777777777778,
                            "#fb9f3a"
                          ],
                          [
                            0.8888888888888888,
                            "#fdca26"
                          ],
                          [
                            1,
                            "#f0f921"
                          ]
                        ],
                        "type": "histogram2d"
                      }
                    ],
                    "histogram": [
                      {
                        "marker": {
                          "pattern": {
                            "fillmode": "overlay",
                            "size": 10,
                            "solidity": 0.2
                          }
                        },
                        "type": "histogram"
                      }
                    ],
                    "mesh3d": [
                      {
                        "colorbar": {
                          "outlinewidth": 0,
                          "ticks": ""
                        },
                        "type": "mesh3d"
                      }
                    ],
                    "parcoords": [
                      {
                        "line": {
                          "colorbar": {
                            "outlinewidth": 0,
                            "ticks": ""
                          }
                        },
                        "type": "parcoords"
                      }
                    ],
                    "pie": [
                      {
                        "automargin": true,
                        "type": "pie"
                      }
                    ],
                    "scatter3d": [
                      {
                        "line": {
                          "colorbar": {
                            "outlinewidth": 0,
                            "ticks": ""
                          }
                        },
                        "marker": {
                          "colorbar": {
                            "outlinewidth": 0,
                            "ticks": ""
                          }
                        },
                        "type": "scatter3d"
                      }
                    ],
                    "scattercarpet": [
                      {
                        "marker": {
                          "colorbar": {
                            "outlinewidth": 0,
                            "ticks": ""
                          }
                        },
                        "type": "scattercarpet"
                      }
                    ],
                    "scattergeo": [
                      {
                        "marker": {
                          "colorbar": {
                            "outlinewidth": 0,
                            "ticks": ""
                          }
                        },
                        "type": "scattergeo"
                      }
                    ],
                    "scattergl": [
                      {
                        "marker": {
                          "colorbar": {
                            "outlinewidth": 0,
                            "ticks": ""
                          }
                        },
                        "type": "scattergl"
                      }
                    ],
                    "scattermapbox": [
                      {
                        "marker": {
                          "colorbar": {
                            "outlinewidth": 0,
                            "ticks": ""
                          }
                        },
                        "type": "scattermapbox"
                      }
                    ],
                    "scatterpolargl": [
                      {
                        "marker": {
                          "colorbar": {
                            "outlinewidth": 0,
                            "ticks": ""
                          }
                        },
                        "type": "scatterpolargl"
                      }
                    ],
                    "scatterpolar": [
                      {
                        "marker": {
                          "colorbar": {
                            "outlinewidth": 0,
                            "ticks": ""
                          }
                        },
                        "type": "scatterpolar"
                      }
                    ],
                    "scatter": [
                      {
                        "fillpattern": {
                          "fillmode": "overlay",
                          "size": 10,
                          "solidity": 0.2
                        },
                        "type": "scatter"
                      }
                    ],
                    "scatterternary": [
                      {
                        "marker": {
                          "colorbar": {
                            "outlinewidth": 0,
                            "ticks": ""
                          }
                        },
                        "type": "scatterternary"
                      }
                    ],
                    "surface": [
                      {
                        "colorbar": {
                          "outlinewidth": 0,
                          "ticks": ""
                        },
                        "colorscale": [
                          [
                            0,
                            "#0d0887"
                          ],
                          [
                            0.1111111111111111,
                            "#46039f"
                          ],
                          [
                            0.2222222222222222,
                            "#7201a8"
                          ],
                          [
                            0.3333333333333333,
                            "#9c179e"
                          ],
                          [
                            0.4444444444444444,
                            "#bd3786"
                          ],
                          [
                            0.5555555555555556,
                            "#d8576b"
                          ],
                          [
                            0.6666666666666666,
                            "#ed7953"
                          ],
                          [
                            0.7777777777777778,
                            "#fb9f3a"
                          ],
                          [
                            0.8888888888888888,
                            "#fdca26"
                          ],
                          [
                            1,
                            "#f0f921"
                          ]
                        ],
                        "type": "surface"
                      }
                    ],
                    "table": [
                      {
                        "cells": {
                          "fill": {
                            "color": "#EBF0F8"
                          },
                          "line": {
                            "color": "white"
                          }
                        },
                        "header": {
                          "fill": {
                            "color": "#C8D4E3"
                          },
                          "line": {
                            "color": "white"
                          }
                        },
                        "type": "table"
                      }
                    ]
                  },
                  "layout": {
                    "annotationdefaults": {
                      "arrowcolor": "#2a3f5f",
                      "arrowhead": 0,
                      "arrowwidth": 1
                    },
                    "autotypenumbers": "strict",
                    "coloraxis": {
                      "colorbar": {
                        "outlinewidth": 0,
                        "ticks": ""
                      }
                    },
                    "colorscale": {
                      "diverging": [
                        [
                          0,
                          "#8e0152"
                        ],
                        [
                          0.1,
                          "#c51b7d"
                        ],
                        [
                          0.2,
                          "#de77ae"
                        ],
                        [
                          0.3,
                          "#f1b6da"
                        ],
                        [
                          0.4,
                          "#fde0ef"
                        ],
                        [
                          0.5,
                          "#f7f7f7"
                        ],
                        [
                          0.6,
                          "#e6f5d0"
                        ],
                        [
                          0.7,
                          "#b8e186"
                        ],
                        [
                          0.8,
                          "#7fbc41"
                        ],
                        [
                          0.9,
                          "#4d9221"
                        ],
                        [
                          1,
                          "#276419"
                        ]
                      ],
                      "sequential": [
                        [
                          0,
                          "#0d0887"
                        ],
                        [
                          0.1111111111111111,
                          "#46039f"
                        ],
                        [
                          0.2222222222222222,
                          "#7201a8"
                        ],
                        [
                          0.3333333333333333,
                          "#9c179e"
                        ],
                        [
                          0.4444444444444444,
                          "#bd3786"
                        ],
                        [
                          0.5555555555555556,
                          "#d8576b"
                        ],
                        [
                          0.6666666666666666,
                          "#ed7953"
                        ],
                        [
                          0.7777777777777778,
                          "#fb9f3a"
                        ],
                        [
                          0.8888888888888888,
                          "#fdca26"
                        ],
                        [
                          1,
                          "#f0f921"
                        ]
                      ],
                      "sequentialminus": [
                        [
                          0,
                          "#0d0887"
                        ],
                        [
                          0.1111111111111111,
                          "#46039f"
                        ],
                        [
                          0.2222222222222222,
                          "#7201a8"
                        ],
                        [
                          0.3333333333333333,
                          "#9c179e"
                        ],
                        [
                          0.4444444444444444,
                          "#bd3786"
                        ],
                        [
                          0.5555555555555556,
                          "#d8576b"
                        ],
                        [
                          0.6666666666666666,
                          "#ed7953"
                        ],
                        [
                          0.7777777777777778,
                          "#fb9f3a"
                        ],
                        [
                          0.8888888888888888,
                          "#fdca26"
                        ],
                        [
                          1,
                          "#f0f921"
                        ]
                      ]
                    },
                    "colorway": [
                      "#636efa",
                      "#EF553B",
                      "#00cc96",
                      "#ab63fa",
                      "#FFA15A",
                      "#19d3f3",
                      "#FF6692",
                      "#B6E880",
                      "#FF97FF",
                      "#FECB52"
                    ],
                    "font": {
                      "color": "#2a3f5f"
                    },
                    "geo": {
                      "bgcolor": "white",
                      "lakecolor": "white",
                      "landcolor": "#E5ECF6",
                      "showlakes": true,
                      "showland": true,
                      "subunitcolor": "white"
                    },
                    "hoverlabel": {
                      "align": "left"
                    },
                    "hovermode": "closest",
                    "mapbox": {
                      "style": "light"
                    },
                    "paper_bgcolor": "white",
                    "plot_bgcolor": "#E5ECF6",
                    "polar": {
                      "angularaxis": {
                        "gridcolor": "white",
                        "linecolor": "white",
                        "ticks": ""
                      },
                      "bgcolor": "#E5ECF6",
                      "radialaxis": {
                        "gridcolor": "white",
                        "linecolor": "white",
                        "ticks": ""
                      }
                    },
                    "scene": {
                      "xaxis": {
                        "backgroundcolor": "#E5ECF6",
                        "gridcolor": "white",
                        "gridwidth": 2,
                        "linecolor": "white",
                        "showbackground": true,
                        "ticks": "",
                        "zerolinecolor": "white"
                      },
                      "yaxis": {
                        "backgroundcolor": "#E5ECF6",
                        "gridcolor": "white",
                        "gridwidth": 2,
                        "linecolor": "white",
                        "showbackground": true,
                        "ticks": "",
                        "zerolinecolor": "white"
                      },
                      "zaxis": {
                        "backgroundcolor": "#E5ECF6",
                        "gridcolor": "white",
                        "gridwidth": 2,
                        "linecolor": "white",
                        "showbackground": true,
                        "ticks": "",
                        "zerolinecolor": "white"
                      }
                    },
                    "shapedefaults": {
                      "line": {
                        "color": "#2a3f5f"
                      }
                    },
                    "ternary": {
                      "aaxis": {
                        "gridcolor": "white",
                        "linecolor": "white",
                        "ticks": ""
                      },
                      "baxis": {
                        "gridcolor": "white",
                        "linecolor": "white",
                        "ticks": ""
                      },
                      "bgcolor": "#E5ECF6",
                      "caxis": {
                        "gridcolor": "white",
                        "linecolor": "white",
                        "ticks": ""
                      }
                    },
                    "title": {
                      "x": 0.05
                    },
                    "xaxis": {
                      "automargin": true,
                      "gridcolor": "white",
                      "linecolor": "white",
                      "ticks": "",
                      "title": {
                        "standoff": 15
                      },
                      "zerolinecolor": "white",
                      "zerolinewidth": 2
                    },
                    "yaxis": {
                      "automargin": true,
                      "gridcolor": "white",
                      "linecolor": "white",
                      "ticks": "",
                      "title": {
                        "standoff": 15
                      },
                      "zerolinecolor": "white",
                      "zerolinewidth": 2
                    }
                  }
                },
                "title": {
                  "text": "2D Data Repersentation Space"
                },
                "xaxis": {
                  "range": [
                    0,
                    12
                  ],
                  "title": {
                    "text": "x2"
                  }
                },
                "yaxis": {
                  "range": [
                    0,
                    12
                  ],
                  "title": {
                    "text": "x1"
                  }
                }
              },
              "config": {
                "showLink": false,
                "linkText": "Export to plot.ly",
                "plotlyServerURL": "https://plot.ly"
              }
            },
            "text/html": [
              "<div>                            <div id=\"a4fb92b1-8b34-4f09-b288-8586bd79b6de\" class=\"plotly-graph-div\" style=\"height:400px; width:100%;\"></div>            <script type=\"text/javascript\">                require([\"plotly\"], function(Plotly) {                    window.PLOTLYENV=window.PLOTLYENV || {};                                    if (document.getElementById(\"a4fb92b1-8b34-4f09-b288-8586bd79b6de\")) {                    Plotly.newPlot(                        \"a4fb92b1-8b34-4f09-b288-8586bd79b6de\",                        [{\"mode\":\"markers\",\"name\":\"Actual Data\",\"x\":[2.0,2.163265306122449,2.326530612244898,2.489795918367347,2.6530612244897958,2.816326530612245,2.979591836734694,3.142857142857143,3.3061224489795915,3.4693877551020407,3.63265306122449,3.7959183673469385,3.9591836734693877,4.122448979591836,4.285714285714286,4.448979591836734,4.612244897959183,4.775510204081632,4.938775510204081,5.1020408163265305,5.26530612244898,5.428571428571429,5.591836734693877,5.755102040816326,5.918367346938775,6.081632653061225,6.244897959183673,6.408163265306122,6.571428571428571,6.73469387755102,6.897959183673469,7.061224489795918,7.224489795918367,7.387755102040816,7.551020408163265,7.7142857142857135,7.877551020408163,8.040816326530612,8.204081632653061,8.367346938775508,8.53061224489796,8.693877551020407,8.857142857142858,9.020408163265305,9.183673469387754,9.346938775510203,9.510204081632653,9.673469387755102,9.83673469387755,10.0],\"y\":[2.0,2.163265306122449,2.326530612244898,2.489795918367347,2.6530612244897958,2.816326530612245,2.979591836734694,3.142857142857143,3.3061224489795915,3.4693877551020407,3.63265306122449,3.7959183673469385,3.9591836734693877,4.122448979591836,4.285714285714286,4.448979591836734,4.612244897959183,4.775510204081632,4.938775510204081,5.1020408163265305,5.26530612244898,5.428571428571429,5.591836734693877,5.755102040816326,5.918367346938775,6.081632653061225,6.244897959183673,6.408163265306122,6.571428571428571,6.73469387755102,6.897959183673469,7.061224489795918,7.224489795918367,7.387755102040816,7.551020408163265,7.7142857142857135,7.877551020408163,8.040816326530612,8.204081632653061,8.367346938775508,8.53061224489796,8.693877551020407,8.857142857142858,9.020408163265305,9.183673469387754,9.346938775510203,9.510204081632653,9.673469387755102,9.83673469387755,10.0],\"type\":\"scatter\"}],                        {\"annotations\":[{\"align\":\"center\",\"arrowcolor\":\"#636363\",\"arrowhead\":2,\"arrowsize\":1,\"arrowwidth\":2,\"ax\":-120,\"ay\":-30,\"bgcolor\":\"orange\",\"bordercolor\":\"#c7c7c7\",\"borderpad\":4,\"borderwidth\":2,\"opacity\":0.8,\"showarrow\":true,\"text\":\"This 1D line is the Data Manifold (where data resides)\",\"x\":5,\"xref\":\"x\",\"y\":5,\"yref\":\"y\"}],\"height\":400,\"template\":{\"data\":{\"barpolar\":[{\"marker\":{\"line\":{\"color\":\"#E5ECF6\",\"width\":0.5},\"pattern\":{\"fillmode\":\"overlay\",\"size\":10,\"solidity\":0.2}},\"type\":\"barpolar\"}],\"bar\":[{\"error_x\":{\"color\":\"#2a3f5f\"},\"error_y\":{\"color\":\"#2a3f5f\"},\"marker\":{\"line\":{\"color\":\"#E5ECF6\",\"width\":0.5},\"pattern\":{\"fillmode\":\"overlay\",\"size\":10,\"solidity\":0.2}},\"type\":\"bar\"}],\"carpet\":[{\"aaxis\":{\"endlinecolor\":\"#2a3f5f\",\"gridcolor\":\"white\",\"linecolor\":\"white\",\"minorgridcolor\":\"white\",\"startlinecolor\":\"#2a3f5f\"},\"baxis\":{\"endlinecolor\":\"#2a3f5f\",\"gridcolor\":\"white\",\"linecolor\":\"white\",\"minorgridcolor\":\"white\",\"startlinecolor\":\"#2a3f5f\"},\"type\":\"carpet\"}],\"choropleth\":[{\"colorbar\":{\"outlinewidth\":0,\"ticks\":\"\"},\"type\":\"choropleth\"}],\"contourcarpet\":[{\"colorbar\":{\"outlinewidth\":0,\"ticks\":\"\"},\"type\":\"contourcarpet\"}],\"contour\":[{\"colorbar\":{\"outlinewidth\":0,\"ticks\":\"\"},\"colorscale\":[[0.0,\"#0d0887\"],[0.1111111111111111,\"#46039f\"],[0.2222222222222222,\"#7201a8\"],[0.3333333333333333,\"#9c179e\"],[0.4444444444444444,\"#bd3786\"],[0.5555555555555556,\"#d8576b\"],[0.6666666666666666,\"#ed7953\"],[0.7777777777777778,\"#fb9f3a\"],[0.8888888888888888,\"#fdca26\"],[1.0,\"#f0f921\"]],\"type\":\"contour\"}],\"heatmapgl\":[{\"colorbar\":{\"outlinewidth\":0,\"ticks\":\"\"},\"colorscale\":[[0.0,\"#0d0887\"],[0.1111111111111111,\"#46039f\"],[0.2222222222222222,\"#7201a8\"],[0.3333333333333333,\"#9c179e\"],[0.4444444444444444,\"#bd3786\"],[0.5555555555555556,\"#d8576b\"],[0.6666666666666666,\"#ed7953\"],[0.7777777777777778,\"#fb9f3a\"],[0.8888888888888888,\"#fdca26\"],[1.0,\"#f0f921\"]],\"type\":\"heatmapgl\"}],\"heatmap\":[{\"colorbar\":{\"outlinewidth\":0,\"ticks\":\"\"},\"colorscale\":[[0.0,\"#0d0887\"],[0.1111111111111111,\"#46039f\"],[0.2222222222222222,\"#7201a8\"],[0.3333333333333333,\"#9c179e\"],[0.4444444444444444,\"#bd3786\"],[0.5555555555555556,\"#d8576b\"],[0.6666666666666666,\"#ed7953\"],[0.7777777777777778,\"#fb9f3a\"],[0.8888888888888888,\"#fdca26\"],[1.0,\"#f0f921\"]],\"type\":\"heatmap\"}],\"histogram2dcontour\":[{\"colorbar\":{\"outlinewidth\":0,\"ticks\":\"\"},\"colorscale\":[[0.0,\"#0d0887\"],[0.1111111111111111,\"#46039f\"],[0.2222222222222222,\"#7201a8\"],[0.3333333333333333,\"#9c179e\"],[0.4444444444444444,\"#bd3786\"],[0.5555555555555556,\"#d8576b\"],[0.6666666666666666,\"#ed7953\"],[0.7777777777777778,\"#fb9f3a\"],[0.8888888888888888,\"#fdca26\"],[1.0,\"#f0f921\"]],\"type\":\"histogram2dcontour\"}],\"histogram2d\":[{\"colorbar\":{\"outlinewidth\":0,\"ticks\":\"\"},\"colorscale\":[[0.0,\"#0d0887\"],[0.1111111111111111,\"#46039f\"],[0.2222222222222222,\"#7201a8\"],[0.3333333333333333,\"#9c179e\"],[0.4444444444444444,\"#bd3786\"],[0.5555555555555556,\"#d8576b\"],[0.6666666666666666,\"#ed7953\"],[0.7777777777777778,\"#fb9f3a\"],[0.8888888888888888,\"#fdca26\"],[1.0,\"#f0f921\"]],\"type\":\"histogram2d\"}],\"histogram\":[{\"marker\":{\"pattern\":{\"fillmode\":\"overlay\",\"size\":10,\"solidity\":0.2}},\"type\":\"histogram\"}],\"mesh3d\":[{\"colorbar\":{\"outlinewidth\":0,\"ticks\":\"\"},\"type\":\"mesh3d\"}],\"parcoords\":[{\"line\":{\"colorbar\":{\"outlinewidth\":0,\"ticks\":\"\"}},\"type\":\"parcoords\"}],\"pie\":[{\"automargin\":true,\"type\":\"pie\"}],\"scatter3d\":[{\"line\":{\"colorbar\":{\"outlinewidth\":0,\"ticks\":\"\"}},\"marker\":{\"colorbar\":{\"outlinewidth\":0,\"ticks\":\"\"}},\"type\":\"scatter3d\"}],\"scattercarpet\":[{\"marker\":{\"colorbar\":{\"outlinewidth\":0,\"ticks\":\"\"}},\"type\":\"scattercarpet\"}],\"scattergeo\":[{\"marker\":{\"colorbar\":{\"outlinewidth\":0,\"ticks\":\"\"}},\"type\":\"scattergeo\"}],\"scattergl\":[{\"marker\":{\"colorbar\":{\"outlinewidth\":0,\"ticks\":\"\"}},\"type\":\"scattergl\"}],\"scattermapbox\":[{\"marker\":{\"colorbar\":{\"outlinewidth\":0,\"ticks\":\"\"}},\"type\":\"scattermapbox\"}],\"scatterpolargl\":[{\"marker\":{\"colorbar\":{\"outlinewidth\":0,\"ticks\":\"\"}},\"type\":\"scatterpolargl\"}],\"scatterpolar\":[{\"marker\":{\"colorbar\":{\"outlinewidth\":0,\"ticks\":\"\"}},\"type\":\"scatterpolar\"}],\"scatter\":[{\"fillpattern\":{\"fillmode\":\"overlay\",\"size\":10,\"solidity\":0.2},\"type\":\"scatter\"}],\"scatterternary\":[{\"marker\":{\"colorbar\":{\"outlinewidth\":0,\"ticks\":\"\"}},\"type\":\"scatterternary\"}],\"surface\":[{\"colorbar\":{\"outlinewidth\":0,\"ticks\":\"\"},\"colorscale\":[[0.0,\"#0d0887\"],[0.1111111111111111,\"#46039f\"],[0.2222222222222222,\"#7201a8\"],[0.3333333333333333,\"#9c179e\"],[0.4444444444444444,\"#bd3786\"],[0.5555555555555556,\"#d8576b\"],[0.6666666666666666,\"#ed7953\"],[0.7777777777777778,\"#fb9f3a\"],[0.8888888888888888,\"#fdca26\"],[1.0,\"#f0f921\"]],\"type\":\"surface\"}],\"table\":[{\"cells\":{\"fill\":{\"color\":\"#EBF0F8\"},\"line\":{\"color\":\"white\"}},\"header\":{\"fill\":{\"color\":\"#C8D4E3\"},\"line\":{\"color\":\"white\"}},\"type\":\"table\"}]},\"layout\":{\"annotationdefaults\":{\"arrowcolor\":\"#2a3f5f\",\"arrowhead\":0,\"arrowwidth\":1},\"autotypenumbers\":\"strict\",\"coloraxis\":{\"colorbar\":{\"outlinewidth\":0,\"ticks\":\"\"}},\"colorscale\":{\"diverging\":[[0,\"#8e0152\"],[0.1,\"#c51b7d\"],[0.2,\"#de77ae\"],[0.3,\"#f1b6da\"],[0.4,\"#fde0ef\"],[0.5,\"#f7f7f7\"],[0.6,\"#e6f5d0\"],[0.7,\"#b8e186\"],[0.8,\"#7fbc41\"],[0.9,\"#4d9221\"],[1,\"#276419\"]],\"sequential\":[[0.0,\"#0d0887\"],[0.1111111111111111,\"#46039f\"],[0.2222222222222222,\"#7201a8\"],[0.3333333333333333,\"#9c179e\"],[0.4444444444444444,\"#bd3786\"],[0.5555555555555556,\"#d8576b\"],[0.6666666666666666,\"#ed7953\"],[0.7777777777777778,\"#fb9f3a\"],[0.8888888888888888,\"#fdca26\"],[1.0,\"#f0f921\"]],\"sequentialminus\":[[0.0,\"#0d0887\"],[0.1111111111111111,\"#46039f\"],[0.2222222222222222,\"#7201a8\"],[0.3333333333333333,\"#9c179e\"],[0.4444444444444444,\"#bd3786\"],[0.5555555555555556,\"#d8576b\"],[0.6666666666666666,\"#ed7953\"],[0.7777777777777778,\"#fb9f3a\"],[0.8888888888888888,\"#fdca26\"],[1.0,\"#f0f921\"]]},\"colorway\":[\"#636efa\",\"#EF553B\",\"#00cc96\",\"#ab63fa\",\"#FFA15A\",\"#19d3f3\",\"#FF6692\",\"#B6E880\",\"#FF97FF\",\"#FECB52\"],\"font\":{\"color\":\"#2a3f5f\"},\"geo\":{\"bgcolor\":\"white\",\"lakecolor\":\"white\",\"landcolor\":\"#E5ECF6\",\"showlakes\":true,\"showland\":true,\"subunitcolor\":\"white\"},\"hoverlabel\":{\"align\":\"left\"},\"hovermode\":\"closest\",\"mapbox\":{\"style\":\"light\"},\"paper_bgcolor\":\"white\",\"plot_bgcolor\":\"#E5ECF6\",\"polar\":{\"angularaxis\":{\"gridcolor\":\"white\",\"linecolor\":\"white\",\"ticks\":\"\"},\"bgcolor\":\"#E5ECF6\",\"radialaxis\":{\"gridcolor\":\"white\",\"linecolor\":\"white\",\"ticks\":\"\"}},\"scene\":{\"xaxis\":{\"backgroundcolor\":\"#E5ECF6\",\"gridcolor\":\"white\",\"gridwidth\":2,\"linecolor\":\"white\",\"showbackground\":true,\"ticks\":\"\",\"zerolinecolor\":\"white\"},\"yaxis\":{\"backgroundcolor\":\"#E5ECF6\",\"gridcolor\":\"white\",\"gridwidth\":2,\"linecolor\":\"white\",\"showbackground\":true,\"ticks\":\"\",\"zerolinecolor\":\"white\"},\"zaxis\":{\"backgroundcolor\":\"#E5ECF6\",\"gridcolor\":\"white\",\"gridwidth\":2,\"linecolor\":\"white\",\"showbackground\":true,\"ticks\":\"\",\"zerolinecolor\":\"white\"}},\"shapedefaults\":{\"line\":{\"color\":\"#2a3f5f\"}},\"ternary\":{\"aaxis\":{\"gridcolor\":\"white\",\"linecolor\":\"white\",\"ticks\":\"\"},\"baxis\":{\"gridcolor\":\"white\",\"linecolor\":\"white\",\"ticks\":\"\"},\"bgcolor\":\"#E5ECF6\",\"caxis\":{\"gridcolor\":\"white\",\"linecolor\":\"white\",\"ticks\":\"\"}},\"title\":{\"x\":0.05},\"xaxis\":{\"automargin\":true,\"gridcolor\":\"white\",\"linecolor\":\"white\",\"ticks\":\"\",\"title\":{\"standoff\":15},\"zerolinecolor\":\"white\",\"zerolinewidth\":2},\"yaxis\":{\"automargin\":true,\"gridcolor\":\"white\",\"linecolor\":\"white\",\"ticks\":\"\",\"title\":{\"standoff\":15},\"zerolinecolor\":\"white\",\"zerolinewidth\":2}}},\"title\":{\"text\":\"2D Data Repersentation Space\"},\"xaxis\":{\"range\":[0,12],\"title\":{\"text\":\"x2\"}},\"yaxis\":{\"range\":[0,12],\"title\":{\"text\":\"x1\"}}},                        {\"responsive\": true}                    ).then(function(){\n",
              "                            \n",
              "var gd = document.getElementById('a4fb92b1-8b34-4f09-b288-8586bd79b6de');\n",
              "var x = new MutationObserver(function (mutations, observer) {{\n",
              "        var display = window.getComputedStyle(gd).display;\n",
              "        if (!display || display === 'none') {{\n",
              "            console.log([gd, 'removed!']);\n",
              "            Plotly.purge(gd);\n",
              "            observer.disconnect();\n",
              "        }}\n",
              "}});\n",
              "\n",
              "// Listen for the removal of the full notebook cells\n",
              "var notebookContainer = gd.closest('#notebook-container');\n",
              "if (notebookContainer) {{\n",
              "    x.observe(notebookContainer, {childList: true});\n",
              "}}\n",
              "\n",
              "// Listen for the clearing of the current output cell\n",
              "var outputEl = gd.closest('.output');\n",
              "if (outputEl) {{\n",
              "    x.observe(outputEl, {childList: true});\n",
              "}}\n",
              "\n",
              "                        })                };                });            </script>        </div>"
            ]
          },
          "metadata": {}
        }
      ]
    },
    {
      "cell_type": "code",
      "source": [
        "## 첫번째 그래프 세트\n",
        "## 무작위 데이터 생성\n",
        "random_y3 = [2 for i in range(100)]\n",
        "random_y4 = random_y2 + 1\n",
        "\n",
        "## 네 개의 산점도(추적)를 생성\n",
        "trace4 = go.Scatter(x = random_x[4:24], y = random_y4[4:300], mode=\"lines\")\n",
        "trace3 = go.Scatter(x = random_x, y = random_y3, mode=\"lines\")\n",
        "trace1 = go.Scatter(x = random_x, y = random_y1, mode=\"markers\")\n",
        "trace2 = go.Scatter(x = random_x, y = random_y2, mode=\"lines\")\n",
        "\n",
        "##그래프의 레이아웃을 정의\n",
        "layout = go.Layout(xaxis=dict(title=\"x1\", range=(0,12)), yaxis=dict(title=\"x2\", range=(0,12)), height=400,\n",
        "                   annotations=[dict(x=2, y=2, xref='x', yref='y', text='A', showarrow=True, align='center', arrowhead=2, arrowsize=1, arrowwidth=2,\n",
        "                                     arrowcolor='#636363', ax=20, ay=-30, bordercolor='#c7c7c7', borderwidth=2, borderpad=4, bgcolor='orange', opacity=0.8),\n",
        "                                dict(x=6, y=6, xref='x', yref='y', text='B', showarrow=True, align='center', arrowhead=2, arrowsize=1, arrowwidth=2, arrowcolor='#636363',\n",
        "                                     ax=20, ay=-30, bordercolor='#c7c7c7', borderwidth=2, borderpad=4, bgcolor='yellow', opacity=0.8), dict(\n",
        "                                     x=4, y=5, xref='x', yref='y',text='d', ay=-40),\n",
        "                                dict(x=2, y=2, xref='x', yref='y', text='angle L', ax=80, ay=-10)], title=\"2D Data Repersentation Space\", showlegend=False)\n",
        "\n",
        "data = [trace1, trace2, trace3, trace4]\n",
        "figure = go.Figure(data = data, layout = layout)\n",
        "iplot(figure)\n",
        "\n",
        "\n",
        "#################\n",
        "## 두번째 그래프 세트\n",
        "## 무작위 데이터 생성\n",
        "random_y3 = [2 for i in range(100)]\n",
        "random_y4 = random_y2 + 1\n",
        "\n",
        "## 네 개의 산점도(추적)를 생성\n",
        "trace4 = go.Scatter(x = random_x[4:24], y = random_y4[4:300], mode=\"lines\")\n",
        "trace3 = go.Scatter(x = random_x, y = random_y3, mode=\"lines\")\n",
        "trace1 = go.Scatter(x = random_x, y = random_y1, mode=\"markers\")\n",
        "trace2 = go.Scatter(x = random_x, y = random_y2, mode=\"lines\")\n",
        "\n",
        "##그래프의 레이아웃을 정의\n",
        "layout = go.Layout(xaxis=dict(title=\"u1\", range=(1.5,12)), yaxis=dict(title=\"u2\", range=(1.5,12)), height=400,\n",
        "                   annotations=[dict(x=2, y=2, xref='x', yref='y', text='A', showarrow=True, align='center', arrowhead=2, arrowsize=1, arrowwidth=2,\n",
        "                                     arrowcolor='#636363', ax=20, ay=-30, bordercolor='#c7c7c7', borderwidth=2, borderpad=4, bgcolor='orange', opacity=0.8),\n",
        "                                dict(x=6, y=6, xref='x', yref='y', text='B', showarrow=True, align='center', arrowhead=2, arrowsize=1, arrowwidth=2, arrowcolor='#636363',\n",
        "                                     ax=20, ay=-30, bordercolor='#c7c7c7', borderwidth=2, borderpad=4, bgcolor='yellow', opacity=0.8), dict(\n",
        "                                     x=4, y=5, xref='x', yref='y',text='d', ay=-40),\n",
        "                                dict(x=2, y=2, xref='x', yref='y', text='angle L', ax=80, ay=-10)], title=\"Latent Distance View Space\", showlegend=False)\n",
        "data = [trace1, trace2, trace3, trace4]\n",
        "figure = go.Figure(data = data, layout = layout)\n",
        "iplot(figure)"
      ],
      "metadata": {
        "colab": {
          "base_uri": "https://localhost:8080/",
          "height": 817
        },
        "id": "1l4GE7Sc3Gxs",
        "outputId": "d2f42edc-d52c-408e-fa30-e629b9f6c9f0"
      },
      "execution_count": null,
      "outputs": [
        {
          "output_type": "display_data",
          "data": {
            "application/vnd.plotly.v1+json": {
              "data": [
                {
                  "mode": "markers",
                  "x": [
                    2,
                    2.163265306122449,
                    2.326530612244898,
                    2.489795918367347,
                    2.6530612244897958,
                    2.816326530612245,
                    2.979591836734694,
                    3.142857142857143,
                    3.3061224489795915,
                    3.4693877551020407,
                    3.63265306122449,
                    3.7959183673469385,
                    3.9591836734693877,
                    4.122448979591836,
                    4.285714285714286,
                    4.448979591836734,
                    4.612244897959183,
                    4.775510204081632,
                    4.938775510204081,
                    5.1020408163265305,
                    5.26530612244898,
                    5.428571428571429,
                    5.591836734693877,
                    5.755102040816326,
                    5.918367346938775,
                    6.081632653061225,
                    6.244897959183673,
                    6.408163265306122,
                    6.571428571428571,
                    6.73469387755102,
                    6.897959183673469,
                    7.061224489795918,
                    7.224489795918367,
                    7.387755102040816,
                    7.551020408163265,
                    7.7142857142857135,
                    7.877551020408163,
                    8.040816326530612,
                    8.204081632653061,
                    8.367346938775508,
                    8.53061224489796,
                    8.693877551020407,
                    8.857142857142858,
                    9.020408163265305,
                    9.183673469387754,
                    9.346938775510203,
                    9.510204081632653,
                    9.673469387755102,
                    9.83673469387755,
                    10
                  ],
                  "y": [
                    2,
                    2.163265306122449,
                    2.326530612244898,
                    2.489795918367347,
                    2.6530612244897958,
                    2.816326530612245,
                    2.979591836734694,
                    3.142857142857143,
                    3.3061224489795915,
                    3.4693877551020407,
                    3.63265306122449,
                    3.7959183673469385,
                    3.9591836734693877,
                    4.122448979591836,
                    4.285714285714286,
                    4.448979591836734,
                    4.612244897959183,
                    4.775510204081632,
                    4.938775510204081,
                    5.1020408163265305,
                    5.26530612244898,
                    5.428571428571429,
                    5.591836734693877,
                    5.755102040816326,
                    5.918367346938775,
                    6.081632653061225,
                    6.244897959183673,
                    6.408163265306122,
                    6.571428571428571,
                    6.73469387755102,
                    6.897959183673469,
                    7.061224489795918,
                    7.224489795918367,
                    7.387755102040816,
                    7.551020408163265,
                    7.7142857142857135,
                    7.877551020408163,
                    8.040816326530612,
                    8.204081632653061,
                    8.367346938775508,
                    8.53061224489796,
                    8.693877551020407,
                    8.857142857142858,
                    9.020408163265305,
                    9.183673469387754,
                    9.346938775510203,
                    9.510204081632653,
                    9.673469387755102,
                    9.83673469387755,
                    10
                  ],
                  "type": "scatter"
                },
                {
                  "mode": "lines",
                  "x": [
                    2,
                    2.163265306122449,
                    2.326530612244898,
                    2.489795918367347,
                    2.6530612244897958,
                    2.816326530612245,
                    2.979591836734694,
                    3.142857142857143,
                    3.3061224489795915,
                    3.4693877551020407,
                    3.63265306122449,
                    3.7959183673469385,
                    3.9591836734693877,
                    4.122448979591836,
                    4.285714285714286,
                    4.448979591836734,
                    4.612244897959183,
                    4.775510204081632,
                    4.938775510204081,
                    5.1020408163265305,
                    5.26530612244898,
                    5.428571428571429,
                    5.591836734693877,
                    5.755102040816326,
                    5.918367346938775,
                    6.081632653061225,
                    6.244897959183673,
                    6.408163265306122,
                    6.571428571428571,
                    6.73469387755102,
                    6.897959183673469,
                    7.061224489795918,
                    7.224489795918367,
                    7.387755102040816,
                    7.551020408163265,
                    7.7142857142857135,
                    7.877551020408163,
                    8.040816326530612,
                    8.204081632653061,
                    8.367346938775508,
                    8.53061224489796,
                    8.693877551020407,
                    8.857142857142858,
                    9.020408163265305,
                    9.183673469387754,
                    9.346938775510203,
                    9.510204081632653,
                    9.673469387755102,
                    9.83673469387755,
                    10
                  ],
                  "y": [
                    2,
                    2.163265306122449,
                    2.326530612244898,
                    2.489795918367347,
                    2.6530612244897958,
                    2.816326530612245,
                    2.979591836734694,
                    3.142857142857143,
                    3.3061224489795915,
                    3.4693877551020407,
                    3.63265306122449,
                    3.7959183673469385,
                    3.9591836734693877,
                    4.122448979591836,
                    4.285714285714286,
                    4.448979591836734,
                    4.612244897959183,
                    4.775510204081632,
                    4.938775510204081,
                    5.1020408163265305,
                    5.26530612244898,
                    5.428571428571429,
                    5.591836734693877,
                    5.755102040816326,
                    5.918367346938775,
                    6.081632653061225,
                    6.244897959183673,
                    6.408163265306122,
                    6.571428571428571,
                    6.73469387755102,
                    6.897959183673469,
                    7.061224489795918,
                    7.224489795918367,
                    7.387755102040816,
                    7.551020408163265,
                    7.7142857142857135,
                    7.877551020408163,
                    8.040816326530612,
                    8.204081632653061,
                    8.367346938775508,
                    8.53061224489796,
                    8.693877551020407,
                    8.857142857142858,
                    9.020408163265305,
                    9.183673469387754,
                    9.346938775510203,
                    9.510204081632653,
                    9.673469387755102,
                    9.83673469387755,
                    10
                  ],
                  "type": "scatter"
                },
                {
                  "mode": "lines",
                  "x": [
                    2,
                    2.163265306122449,
                    2.326530612244898,
                    2.489795918367347,
                    2.6530612244897958,
                    2.816326530612245,
                    2.979591836734694,
                    3.142857142857143,
                    3.3061224489795915,
                    3.4693877551020407,
                    3.63265306122449,
                    3.7959183673469385,
                    3.9591836734693877,
                    4.122448979591836,
                    4.285714285714286,
                    4.448979591836734,
                    4.612244897959183,
                    4.775510204081632,
                    4.938775510204081,
                    5.1020408163265305,
                    5.26530612244898,
                    5.428571428571429,
                    5.591836734693877,
                    5.755102040816326,
                    5.918367346938775,
                    6.081632653061225,
                    6.244897959183673,
                    6.408163265306122,
                    6.571428571428571,
                    6.73469387755102,
                    6.897959183673469,
                    7.061224489795918,
                    7.224489795918367,
                    7.387755102040816,
                    7.551020408163265,
                    7.7142857142857135,
                    7.877551020408163,
                    8.040816326530612,
                    8.204081632653061,
                    8.367346938775508,
                    8.53061224489796,
                    8.693877551020407,
                    8.857142857142858,
                    9.020408163265305,
                    9.183673469387754,
                    9.346938775510203,
                    9.510204081632653,
                    9.673469387755102,
                    9.83673469387755,
                    10
                  ],
                  "y": [
                    2,
                    2,
                    2,
                    2,
                    2,
                    2,
                    2,
                    2,
                    2,
                    2,
                    2,
                    2,
                    2,
                    2,
                    2,
                    2,
                    2,
                    2,
                    2,
                    2,
                    2,
                    2,
                    2,
                    2,
                    2,
                    2,
                    2,
                    2,
                    2,
                    2,
                    2,
                    2,
                    2,
                    2,
                    2,
                    2,
                    2,
                    2,
                    2,
                    2,
                    2,
                    2,
                    2,
                    2,
                    2,
                    2,
                    2,
                    2,
                    2,
                    2,
                    2,
                    2,
                    2,
                    2,
                    2,
                    2,
                    2,
                    2,
                    2,
                    2,
                    2,
                    2,
                    2,
                    2,
                    2,
                    2,
                    2,
                    2,
                    2,
                    2,
                    2,
                    2,
                    2,
                    2,
                    2,
                    2,
                    2,
                    2,
                    2,
                    2,
                    2,
                    2,
                    2,
                    2,
                    2,
                    2,
                    2,
                    2,
                    2,
                    2,
                    2,
                    2,
                    2,
                    2,
                    2,
                    2,
                    2,
                    2,
                    2,
                    2
                  ],
                  "type": "scatter"
                },
                {
                  "mode": "lines",
                  "x": [
                    2.6530612244897958,
                    2.816326530612245,
                    2.979591836734694,
                    3.142857142857143,
                    3.3061224489795915,
                    3.4693877551020407,
                    3.63265306122449,
                    3.7959183673469385,
                    3.9591836734693877,
                    4.122448979591836,
                    4.285714285714286,
                    4.448979591836734,
                    4.612244897959183,
                    4.775510204081632,
                    4.938775510204081,
                    5.1020408163265305,
                    5.26530612244898,
                    5.428571428571429,
                    5.591836734693877,
                    5.755102040816326
                  ],
                  "y": [
                    3.6530612244897958,
                    3.816326530612245,
                    3.979591836734694,
                    4.142857142857142,
                    4.3061224489795915,
                    4.469387755102041,
                    4.63265306122449,
                    4.795918367346939,
                    4.959183673469388,
                    5.122448979591836,
                    5.285714285714286,
                    5.448979591836734,
                    5.612244897959183,
                    5.775510204081632,
                    5.938775510204081,
                    6.1020408163265305,
                    6.26530612244898,
                    6.428571428571429,
                    6.591836734693877,
                    6.755102040816326,
                    6.918367346938775,
                    7.081632653061225,
                    7.244897959183673,
                    7.408163265306122,
                    7.571428571428571,
                    7.73469387755102,
                    7.897959183673469,
                    8.061224489795919,
                    8.224489795918366,
                    8.387755102040817,
                    8.551020408163264,
                    8.714285714285714,
                    8.877551020408163,
                    9.040816326530612,
                    9.204081632653061,
                    9.367346938775508,
                    9.53061224489796,
                    9.693877551020407,
                    9.857142857142858,
                    10.020408163265305,
                    10.183673469387754,
                    10.346938775510203,
                    10.510204081632653,
                    10.673469387755102,
                    10.83673469387755,
                    11
                  ],
                  "type": "scatter"
                }
              ],
              "layout": {
                "annotations": [
                  {
                    "align": "center",
                    "arrowcolor": "#636363",
                    "arrowhead": 2,
                    "arrowsize": 1,
                    "arrowwidth": 2,
                    "ax": 20,
                    "ay": -30,
                    "bgcolor": "orange",
                    "bordercolor": "#c7c7c7",
                    "borderpad": 4,
                    "borderwidth": 2,
                    "opacity": 0.8,
                    "showarrow": true,
                    "text": "A",
                    "x": 2,
                    "xref": "x",
                    "y": 2,
                    "yref": "y"
                  },
                  {
                    "align": "center",
                    "arrowcolor": "#636363",
                    "arrowhead": 2,
                    "arrowsize": 1,
                    "arrowwidth": 2,
                    "ax": 20,
                    "ay": -30,
                    "bgcolor": "yellow",
                    "bordercolor": "#c7c7c7",
                    "borderpad": 4,
                    "borderwidth": 2,
                    "opacity": 0.8,
                    "showarrow": true,
                    "text": "B",
                    "x": 6,
                    "xref": "x",
                    "y": 6,
                    "yref": "y"
                  },
                  {
                    "ay": -40,
                    "text": "d",
                    "x": 4,
                    "xref": "x",
                    "y": 5,
                    "yref": "y"
                  },
                  {
                    "ax": 80,
                    "ay": -10,
                    "text": "angle L",
                    "x": 2,
                    "xref": "x",
                    "y": 2,
                    "yref": "y"
                  }
                ],
                "height": 400,
                "showlegend": false,
                "template": {
                  "data": {
                    "barpolar": [
                      {
                        "marker": {
                          "line": {
                            "color": "#E5ECF6",
                            "width": 0.5
                          },
                          "pattern": {
                            "fillmode": "overlay",
                            "size": 10,
                            "solidity": 0.2
                          }
                        },
                        "type": "barpolar"
                      }
                    ],
                    "bar": [
                      {
                        "error_x": {
                          "color": "#2a3f5f"
                        },
                        "error_y": {
                          "color": "#2a3f5f"
                        },
                        "marker": {
                          "line": {
                            "color": "#E5ECF6",
                            "width": 0.5
                          },
                          "pattern": {
                            "fillmode": "overlay",
                            "size": 10,
                            "solidity": 0.2
                          }
                        },
                        "type": "bar"
                      }
                    ],
                    "carpet": [
                      {
                        "aaxis": {
                          "endlinecolor": "#2a3f5f",
                          "gridcolor": "white",
                          "linecolor": "white",
                          "minorgridcolor": "white",
                          "startlinecolor": "#2a3f5f"
                        },
                        "baxis": {
                          "endlinecolor": "#2a3f5f",
                          "gridcolor": "white",
                          "linecolor": "white",
                          "minorgridcolor": "white",
                          "startlinecolor": "#2a3f5f"
                        },
                        "type": "carpet"
                      }
                    ],
                    "choropleth": [
                      {
                        "colorbar": {
                          "outlinewidth": 0,
                          "ticks": ""
                        },
                        "type": "choropleth"
                      }
                    ],
                    "contourcarpet": [
                      {
                        "colorbar": {
                          "outlinewidth": 0,
                          "ticks": ""
                        },
                        "type": "contourcarpet"
                      }
                    ],
                    "contour": [
                      {
                        "colorbar": {
                          "outlinewidth": 0,
                          "ticks": ""
                        },
                        "colorscale": [
                          [
                            0,
                            "#0d0887"
                          ],
                          [
                            0.1111111111111111,
                            "#46039f"
                          ],
                          [
                            0.2222222222222222,
                            "#7201a8"
                          ],
                          [
                            0.3333333333333333,
                            "#9c179e"
                          ],
                          [
                            0.4444444444444444,
                            "#bd3786"
                          ],
                          [
                            0.5555555555555556,
                            "#d8576b"
                          ],
                          [
                            0.6666666666666666,
                            "#ed7953"
                          ],
                          [
                            0.7777777777777778,
                            "#fb9f3a"
                          ],
                          [
                            0.8888888888888888,
                            "#fdca26"
                          ],
                          [
                            1,
                            "#f0f921"
                          ]
                        ],
                        "type": "contour"
                      }
                    ],
                    "heatmapgl": [
                      {
                        "colorbar": {
                          "outlinewidth": 0,
                          "ticks": ""
                        },
                        "colorscale": [
                          [
                            0,
                            "#0d0887"
                          ],
                          [
                            0.1111111111111111,
                            "#46039f"
                          ],
                          [
                            0.2222222222222222,
                            "#7201a8"
                          ],
                          [
                            0.3333333333333333,
                            "#9c179e"
                          ],
                          [
                            0.4444444444444444,
                            "#bd3786"
                          ],
                          [
                            0.5555555555555556,
                            "#d8576b"
                          ],
                          [
                            0.6666666666666666,
                            "#ed7953"
                          ],
                          [
                            0.7777777777777778,
                            "#fb9f3a"
                          ],
                          [
                            0.8888888888888888,
                            "#fdca26"
                          ],
                          [
                            1,
                            "#f0f921"
                          ]
                        ],
                        "type": "heatmapgl"
                      }
                    ],
                    "heatmap": [
                      {
                        "colorbar": {
                          "outlinewidth": 0,
                          "ticks": ""
                        },
                        "colorscale": [
                          [
                            0,
                            "#0d0887"
                          ],
                          [
                            0.1111111111111111,
                            "#46039f"
                          ],
                          [
                            0.2222222222222222,
                            "#7201a8"
                          ],
                          [
                            0.3333333333333333,
                            "#9c179e"
                          ],
                          [
                            0.4444444444444444,
                            "#bd3786"
                          ],
                          [
                            0.5555555555555556,
                            "#d8576b"
                          ],
                          [
                            0.6666666666666666,
                            "#ed7953"
                          ],
                          [
                            0.7777777777777778,
                            "#fb9f3a"
                          ],
                          [
                            0.8888888888888888,
                            "#fdca26"
                          ],
                          [
                            1,
                            "#f0f921"
                          ]
                        ],
                        "type": "heatmap"
                      }
                    ],
                    "histogram2dcontour": [
                      {
                        "colorbar": {
                          "outlinewidth": 0,
                          "ticks": ""
                        },
                        "colorscale": [
                          [
                            0,
                            "#0d0887"
                          ],
                          [
                            0.1111111111111111,
                            "#46039f"
                          ],
                          [
                            0.2222222222222222,
                            "#7201a8"
                          ],
                          [
                            0.3333333333333333,
                            "#9c179e"
                          ],
                          [
                            0.4444444444444444,
                            "#bd3786"
                          ],
                          [
                            0.5555555555555556,
                            "#d8576b"
                          ],
                          [
                            0.6666666666666666,
                            "#ed7953"
                          ],
                          [
                            0.7777777777777778,
                            "#fb9f3a"
                          ],
                          [
                            0.8888888888888888,
                            "#fdca26"
                          ],
                          [
                            1,
                            "#f0f921"
                          ]
                        ],
                        "type": "histogram2dcontour"
                      }
                    ],
                    "histogram2d": [
                      {
                        "colorbar": {
                          "outlinewidth": 0,
                          "ticks": ""
                        },
                        "colorscale": [
                          [
                            0,
                            "#0d0887"
                          ],
                          [
                            0.1111111111111111,
                            "#46039f"
                          ],
                          [
                            0.2222222222222222,
                            "#7201a8"
                          ],
                          [
                            0.3333333333333333,
                            "#9c179e"
                          ],
                          [
                            0.4444444444444444,
                            "#bd3786"
                          ],
                          [
                            0.5555555555555556,
                            "#d8576b"
                          ],
                          [
                            0.6666666666666666,
                            "#ed7953"
                          ],
                          [
                            0.7777777777777778,
                            "#fb9f3a"
                          ],
                          [
                            0.8888888888888888,
                            "#fdca26"
                          ],
                          [
                            1,
                            "#f0f921"
                          ]
                        ],
                        "type": "histogram2d"
                      }
                    ],
                    "histogram": [
                      {
                        "marker": {
                          "pattern": {
                            "fillmode": "overlay",
                            "size": 10,
                            "solidity": 0.2
                          }
                        },
                        "type": "histogram"
                      }
                    ],
                    "mesh3d": [
                      {
                        "colorbar": {
                          "outlinewidth": 0,
                          "ticks": ""
                        },
                        "type": "mesh3d"
                      }
                    ],
                    "parcoords": [
                      {
                        "line": {
                          "colorbar": {
                            "outlinewidth": 0,
                            "ticks": ""
                          }
                        },
                        "type": "parcoords"
                      }
                    ],
                    "pie": [
                      {
                        "automargin": true,
                        "type": "pie"
                      }
                    ],
                    "scatter3d": [
                      {
                        "line": {
                          "colorbar": {
                            "outlinewidth": 0,
                            "ticks": ""
                          }
                        },
                        "marker": {
                          "colorbar": {
                            "outlinewidth": 0,
                            "ticks": ""
                          }
                        },
                        "type": "scatter3d"
                      }
                    ],
                    "scattercarpet": [
                      {
                        "marker": {
                          "colorbar": {
                            "outlinewidth": 0,
                            "ticks": ""
                          }
                        },
                        "type": "scattercarpet"
                      }
                    ],
                    "scattergeo": [
                      {
                        "marker": {
                          "colorbar": {
                            "outlinewidth": 0,
                            "ticks": ""
                          }
                        },
                        "type": "scattergeo"
                      }
                    ],
                    "scattergl": [
                      {
                        "marker": {
                          "colorbar": {
                            "outlinewidth": 0,
                            "ticks": ""
                          }
                        },
                        "type": "scattergl"
                      }
                    ],
                    "scattermapbox": [
                      {
                        "marker": {
                          "colorbar": {
                            "outlinewidth": 0,
                            "ticks": ""
                          }
                        },
                        "type": "scattermapbox"
                      }
                    ],
                    "scatterpolargl": [
                      {
                        "marker": {
                          "colorbar": {
                            "outlinewidth": 0,
                            "ticks": ""
                          }
                        },
                        "type": "scatterpolargl"
                      }
                    ],
                    "scatterpolar": [
                      {
                        "marker": {
                          "colorbar": {
                            "outlinewidth": 0,
                            "ticks": ""
                          }
                        },
                        "type": "scatterpolar"
                      }
                    ],
                    "scatter": [
                      {
                        "fillpattern": {
                          "fillmode": "overlay",
                          "size": 10,
                          "solidity": 0.2
                        },
                        "type": "scatter"
                      }
                    ],
                    "scatterternary": [
                      {
                        "marker": {
                          "colorbar": {
                            "outlinewidth": 0,
                            "ticks": ""
                          }
                        },
                        "type": "scatterternary"
                      }
                    ],
                    "surface": [
                      {
                        "colorbar": {
                          "outlinewidth": 0,
                          "ticks": ""
                        },
                        "colorscale": [
                          [
                            0,
                            "#0d0887"
                          ],
                          [
                            0.1111111111111111,
                            "#46039f"
                          ],
                          [
                            0.2222222222222222,
                            "#7201a8"
                          ],
                          [
                            0.3333333333333333,
                            "#9c179e"
                          ],
                          [
                            0.4444444444444444,
                            "#bd3786"
                          ],
                          [
                            0.5555555555555556,
                            "#d8576b"
                          ],
                          [
                            0.6666666666666666,
                            "#ed7953"
                          ],
                          [
                            0.7777777777777778,
                            "#fb9f3a"
                          ],
                          [
                            0.8888888888888888,
                            "#fdca26"
                          ],
                          [
                            1,
                            "#f0f921"
                          ]
                        ],
                        "type": "surface"
                      }
                    ],
                    "table": [
                      {
                        "cells": {
                          "fill": {
                            "color": "#EBF0F8"
                          },
                          "line": {
                            "color": "white"
                          }
                        },
                        "header": {
                          "fill": {
                            "color": "#C8D4E3"
                          },
                          "line": {
                            "color": "white"
                          }
                        },
                        "type": "table"
                      }
                    ]
                  },
                  "layout": {
                    "annotationdefaults": {
                      "arrowcolor": "#2a3f5f",
                      "arrowhead": 0,
                      "arrowwidth": 1
                    },
                    "autotypenumbers": "strict",
                    "coloraxis": {
                      "colorbar": {
                        "outlinewidth": 0,
                        "ticks": ""
                      }
                    },
                    "colorscale": {
                      "diverging": [
                        [
                          0,
                          "#8e0152"
                        ],
                        [
                          0.1,
                          "#c51b7d"
                        ],
                        [
                          0.2,
                          "#de77ae"
                        ],
                        [
                          0.3,
                          "#f1b6da"
                        ],
                        [
                          0.4,
                          "#fde0ef"
                        ],
                        [
                          0.5,
                          "#f7f7f7"
                        ],
                        [
                          0.6,
                          "#e6f5d0"
                        ],
                        [
                          0.7,
                          "#b8e186"
                        ],
                        [
                          0.8,
                          "#7fbc41"
                        ],
                        [
                          0.9,
                          "#4d9221"
                        ],
                        [
                          1,
                          "#276419"
                        ]
                      ],
                      "sequential": [
                        [
                          0,
                          "#0d0887"
                        ],
                        [
                          0.1111111111111111,
                          "#46039f"
                        ],
                        [
                          0.2222222222222222,
                          "#7201a8"
                        ],
                        [
                          0.3333333333333333,
                          "#9c179e"
                        ],
                        [
                          0.4444444444444444,
                          "#bd3786"
                        ],
                        [
                          0.5555555555555556,
                          "#d8576b"
                        ],
                        [
                          0.6666666666666666,
                          "#ed7953"
                        ],
                        [
                          0.7777777777777778,
                          "#fb9f3a"
                        ],
                        [
                          0.8888888888888888,
                          "#fdca26"
                        ],
                        [
                          1,
                          "#f0f921"
                        ]
                      ],
                      "sequentialminus": [
                        [
                          0,
                          "#0d0887"
                        ],
                        [
                          0.1111111111111111,
                          "#46039f"
                        ],
                        [
                          0.2222222222222222,
                          "#7201a8"
                        ],
                        [
                          0.3333333333333333,
                          "#9c179e"
                        ],
                        [
                          0.4444444444444444,
                          "#bd3786"
                        ],
                        [
                          0.5555555555555556,
                          "#d8576b"
                        ],
                        [
                          0.6666666666666666,
                          "#ed7953"
                        ],
                        [
                          0.7777777777777778,
                          "#fb9f3a"
                        ],
                        [
                          0.8888888888888888,
                          "#fdca26"
                        ],
                        [
                          1,
                          "#f0f921"
                        ]
                      ]
                    },
                    "colorway": [
                      "#636efa",
                      "#EF553B",
                      "#00cc96",
                      "#ab63fa",
                      "#FFA15A",
                      "#19d3f3",
                      "#FF6692",
                      "#B6E880",
                      "#FF97FF",
                      "#FECB52"
                    ],
                    "font": {
                      "color": "#2a3f5f"
                    },
                    "geo": {
                      "bgcolor": "white",
                      "lakecolor": "white",
                      "landcolor": "#E5ECF6",
                      "showlakes": true,
                      "showland": true,
                      "subunitcolor": "white"
                    },
                    "hoverlabel": {
                      "align": "left"
                    },
                    "hovermode": "closest",
                    "mapbox": {
                      "style": "light"
                    },
                    "paper_bgcolor": "white",
                    "plot_bgcolor": "#E5ECF6",
                    "polar": {
                      "angularaxis": {
                        "gridcolor": "white",
                        "linecolor": "white",
                        "ticks": ""
                      },
                      "bgcolor": "#E5ECF6",
                      "radialaxis": {
                        "gridcolor": "white",
                        "linecolor": "white",
                        "ticks": ""
                      }
                    },
                    "scene": {
                      "xaxis": {
                        "backgroundcolor": "#E5ECF6",
                        "gridcolor": "white",
                        "gridwidth": 2,
                        "linecolor": "white",
                        "showbackground": true,
                        "ticks": "",
                        "zerolinecolor": "white"
                      },
                      "yaxis": {
                        "backgroundcolor": "#E5ECF6",
                        "gridcolor": "white",
                        "gridwidth": 2,
                        "linecolor": "white",
                        "showbackground": true,
                        "ticks": "",
                        "zerolinecolor": "white"
                      },
                      "zaxis": {
                        "backgroundcolor": "#E5ECF6",
                        "gridcolor": "white",
                        "gridwidth": 2,
                        "linecolor": "white",
                        "showbackground": true,
                        "ticks": "",
                        "zerolinecolor": "white"
                      }
                    },
                    "shapedefaults": {
                      "line": {
                        "color": "#2a3f5f"
                      }
                    },
                    "ternary": {
                      "aaxis": {
                        "gridcolor": "white",
                        "linecolor": "white",
                        "ticks": ""
                      },
                      "baxis": {
                        "gridcolor": "white",
                        "linecolor": "white",
                        "ticks": ""
                      },
                      "bgcolor": "#E5ECF6",
                      "caxis": {
                        "gridcolor": "white",
                        "linecolor": "white",
                        "ticks": ""
                      }
                    },
                    "title": {
                      "x": 0.05
                    },
                    "xaxis": {
                      "automargin": true,
                      "gridcolor": "white",
                      "linecolor": "white",
                      "ticks": "",
                      "title": {
                        "standoff": 15
                      },
                      "zerolinecolor": "white",
                      "zerolinewidth": 2
                    },
                    "yaxis": {
                      "automargin": true,
                      "gridcolor": "white",
                      "linecolor": "white",
                      "ticks": "",
                      "title": {
                        "standoff": 15
                      },
                      "zerolinecolor": "white",
                      "zerolinewidth": 2
                    }
                  }
                },
                "title": {
                  "text": "2D Data Repersentation Space"
                },
                "xaxis": {
                  "range": [
                    0,
                    12
                  ],
                  "title": {
                    "text": "x1"
                  }
                },
                "yaxis": {
                  "range": [
                    0,
                    12
                  ],
                  "title": {
                    "text": "x2"
                  }
                }
              },
              "config": {
                "showLink": false,
                "linkText": "Export to plot.ly",
                "plotlyServerURL": "https://plot.ly"
              }
            },
            "text/html": [
              "<div>                            <div id=\"edab515a-6a6b-44b1-9ef2-7993c27eea13\" class=\"plotly-graph-div\" style=\"height:400px; width:100%;\"></div>            <script type=\"text/javascript\">                require([\"plotly\"], function(Plotly) {                    window.PLOTLYENV=window.PLOTLYENV || {};                                    if (document.getElementById(\"edab515a-6a6b-44b1-9ef2-7993c27eea13\")) {                    Plotly.newPlot(                        \"edab515a-6a6b-44b1-9ef2-7993c27eea13\",                        [{\"mode\":\"markers\",\"x\":[2.0,2.163265306122449,2.326530612244898,2.489795918367347,2.6530612244897958,2.816326530612245,2.979591836734694,3.142857142857143,3.3061224489795915,3.4693877551020407,3.63265306122449,3.7959183673469385,3.9591836734693877,4.122448979591836,4.285714285714286,4.448979591836734,4.612244897959183,4.775510204081632,4.938775510204081,5.1020408163265305,5.26530612244898,5.428571428571429,5.591836734693877,5.755102040816326,5.918367346938775,6.081632653061225,6.244897959183673,6.408163265306122,6.571428571428571,6.73469387755102,6.897959183673469,7.061224489795918,7.224489795918367,7.387755102040816,7.551020408163265,7.7142857142857135,7.877551020408163,8.040816326530612,8.204081632653061,8.367346938775508,8.53061224489796,8.693877551020407,8.857142857142858,9.020408163265305,9.183673469387754,9.346938775510203,9.510204081632653,9.673469387755102,9.83673469387755,10.0],\"y\":[2.0,2.163265306122449,2.326530612244898,2.489795918367347,2.6530612244897958,2.816326530612245,2.979591836734694,3.142857142857143,3.3061224489795915,3.4693877551020407,3.63265306122449,3.7959183673469385,3.9591836734693877,4.122448979591836,4.285714285714286,4.448979591836734,4.612244897959183,4.775510204081632,4.938775510204081,5.1020408163265305,5.26530612244898,5.428571428571429,5.591836734693877,5.755102040816326,5.918367346938775,6.081632653061225,6.244897959183673,6.408163265306122,6.571428571428571,6.73469387755102,6.897959183673469,7.061224489795918,7.224489795918367,7.387755102040816,7.551020408163265,7.7142857142857135,7.877551020408163,8.040816326530612,8.204081632653061,8.367346938775508,8.53061224489796,8.693877551020407,8.857142857142858,9.020408163265305,9.183673469387754,9.346938775510203,9.510204081632653,9.673469387755102,9.83673469387755,10.0],\"type\":\"scatter\"},{\"mode\":\"lines\",\"x\":[2.0,2.163265306122449,2.326530612244898,2.489795918367347,2.6530612244897958,2.816326530612245,2.979591836734694,3.142857142857143,3.3061224489795915,3.4693877551020407,3.63265306122449,3.7959183673469385,3.9591836734693877,4.122448979591836,4.285714285714286,4.448979591836734,4.612244897959183,4.775510204081632,4.938775510204081,5.1020408163265305,5.26530612244898,5.428571428571429,5.591836734693877,5.755102040816326,5.918367346938775,6.081632653061225,6.244897959183673,6.408163265306122,6.571428571428571,6.73469387755102,6.897959183673469,7.061224489795918,7.224489795918367,7.387755102040816,7.551020408163265,7.7142857142857135,7.877551020408163,8.040816326530612,8.204081632653061,8.367346938775508,8.53061224489796,8.693877551020407,8.857142857142858,9.020408163265305,9.183673469387754,9.346938775510203,9.510204081632653,9.673469387755102,9.83673469387755,10.0],\"y\":[2.0,2.163265306122449,2.326530612244898,2.489795918367347,2.6530612244897958,2.816326530612245,2.979591836734694,3.142857142857143,3.3061224489795915,3.4693877551020407,3.63265306122449,3.7959183673469385,3.9591836734693877,4.122448979591836,4.285714285714286,4.448979591836734,4.612244897959183,4.775510204081632,4.938775510204081,5.1020408163265305,5.26530612244898,5.428571428571429,5.591836734693877,5.755102040816326,5.918367346938775,6.081632653061225,6.244897959183673,6.408163265306122,6.571428571428571,6.73469387755102,6.897959183673469,7.061224489795918,7.224489795918367,7.387755102040816,7.551020408163265,7.7142857142857135,7.877551020408163,8.040816326530612,8.204081632653061,8.367346938775508,8.53061224489796,8.693877551020407,8.857142857142858,9.020408163265305,9.183673469387754,9.346938775510203,9.510204081632653,9.673469387755102,9.83673469387755,10.0],\"type\":\"scatter\"},{\"mode\":\"lines\",\"x\":[2.0,2.163265306122449,2.326530612244898,2.489795918367347,2.6530612244897958,2.816326530612245,2.979591836734694,3.142857142857143,3.3061224489795915,3.4693877551020407,3.63265306122449,3.7959183673469385,3.9591836734693877,4.122448979591836,4.285714285714286,4.448979591836734,4.612244897959183,4.775510204081632,4.938775510204081,5.1020408163265305,5.26530612244898,5.428571428571429,5.591836734693877,5.755102040816326,5.918367346938775,6.081632653061225,6.244897959183673,6.408163265306122,6.571428571428571,6.73469387755102,6.897959183673469,7.061224489795918,7.224489795918367,7.387755102040816,7.551020408163265,7.7142857142857135,7.877551020408163,8.040816326530612,8.204081632653061,8.367346938775508,8.53061224489796,8.693877551020407,8.857142857142858,9.020408163265305,9.183673469387754,9.346938775510203,9.510204081632653,9.673469387755102,9.83673469387755,10.0],\"y\":[2,2,2,2,2,2,2,2,2,2,2,2,2,2,2,2,2,2,2,2,2,2,2,2,2,2,2,2,2,2,2,2,2,2,2,2,2,2,2,2,2,2,2,2,2,2,2,2,2,2,2,2,2,2,2,2,2,2,2,2,2,2,2,2,2,2,2,2,2,2,2,2,2,2,2,2,2,2,2,2,2,2,2,2,2,2,2,2,2,2,2,2,2,2,2,2,2,2,2,2],\"type\":\"scatter\"},{\"mode\":\"lines\",\"x\":[2.6530612244897958,2.816326530612245,2.979591836734694,3.142857142857143,3.3061224489795915,3.4693877551020407,3.63265306122449,3.7959183673469385,3.9591836734693877,4.122448979591836,4.285714285714286,4.448979591836734,4.612244897959183,4.775510204081632,4.938775510204081,5.1020408163265305,5.26530612244898,5.428571428571429,5.591836734693877,5.755102040816326],\"y\":[3.6530612244897958,3.816326530612245,3.979591836734694,4.142857142857142,4.3061224489795915,4.469387755102041,4.63265306122449,4.795918367346939,4.959183673469388,5.122448979591836,5.285714285714286,5.448979591836734,5.612244897959183,5.775510204081632,5.938775510204081,6.1020408163265305,6.26530612244898,6.428571428571429,6.591836734693877,6.755102040816326,6.918367346938775,7.081632653061225,7.244897959183673,7.408163265306122,7.571428571428571,7.73469387755102,7.897959183673469,8.061224489795919,8.224489795918366,8.387755102040817,8.551020408163264,8.714285714285714,8.877551020408163,9.040816326530612,9.204081632653061,9.367346938775508,9.53061224489796,9.693877551020407,9.857142857142858,10.020408163265305,10.183673469387754,10.346938775510203,10.510204081632653,10.673469387755102,10.83673469387755,11.0],\"type\":\"scatter\"}],                        {\"annotations\":[{\"align\":\"center\",\"arrowcolor\":\"#636363\",\"arrowhead\":2,\"arrowsize\":1,\"arrowwidth\":2,\"ax\":20,\"ay\":-30,\"bgcolor\":\"orange\",\"bordercolor\":\"#c7c7c7\",\"borderpad\":4,\"borderwidth\":2,\"opacity\":0.8,\"showarrow\":true,\"text\":\"A\",\"x\":2,\"xref\":\"x\",\"y\":2,\"yref\":\"y\"},{\"align\":\"center\",\"arrowcolor\":\"#636363\",\"arrowhead\":2,\"arrowsize\":1,\"arrowwidth\":2,\"ax\":20,\"ay\":-30,\"bgcolor\":\"yellow\",\"bordercolor\":\"#c7c7c7\",\"borderpad\":4,\"borderwidth\":2,\"opacity\":0.8,\"showarrow\":true,\"text\":\"B\",\"x\":6,\"xref\":\"x\",\"y\":6,\"yref\":\"y\"},{\"ay\":-40,\"text\":\"d\",\"x\":4,\"xref\":\"x\",\"y\":5,\"yref\":\"y\"},{\"ax\":80,\"ay\":-10,\"text\":\"angle L\",\"x\":2,\"xref\":\"x\",\"y\":2,\"yref\":\"y\"}],\"height\":400,\"showlegend\":false,\"template\":{\"data\":{\"barpolar\":[{\"marker\":{\"line\":{\"color\":\"#E5ECF6\",\"width\":0.5},\"pattern\":{\"fillmode\":\"overlay\",\"size\":10,\"solidity\":0.2}},\"type\":\"barpolar\"}],\"bar\":[{\"error_x\":{\"color\":\"#2a3f5f\"},\"error_y\":{\"color\":\"#2a3f5f\"},\"marker\":{\"line\":{\"color\":\"#E5ECF6\",\"width\":0.5},\"pattern\":{\"fillmode\":\"overlay\",\"size\":10,\"solidity\":0.2}},\"type\":\"bar\"}],\"carpet\":[{\"aaxis\":{\"endlinecolor\":\"#2a3f5f\",\"gridcolor\":\"white\",\"linecolor\":\"white\",\"minorgridcolor\":\"white\",\"startlinecolor\":\"#2a3f5f\"},\"baxis\":{\"endlinecolor\":\"#2a3f5f\",\"gridcolor\":\"white\",\"linecolor\":\"white\",\"minorgridcolor\":\"white\",\"startlinecolor\":\"#2a3f5f\"},\"type\":\"carpet\"}],\"choropleth\":[{\"colorbar\":{\"outlinewidth\":0,\"ticks\":\"\"},\"type\":\"choropleth\"}],\"contourcarpet\":[{\"colorbar\":{\"outlinewidth\":0,\"ticks\":\"\"},\"type\":\"contourcarpet\"}],\"contour\":[{\"colorbar\":{\"outlinewidth\":0,\"ticks\":\"\"},\"colorscale\":[[0.0,\"#0d0887\"],[0.1111111111111111,\"#46039f\"],[0.2222222222222222,\"#7201a8\"],[0.3333333333333333,\"#9c179e\"],[0.4444444444444444,\"#bd3786\"],[0.5555555555555556,\"#d8576b\"],[0.6666666666666666,\"#ed7953\"],[0.7777777777777778,\"#fb9f3a\"],[0.8888888888888888,\"#fdca26\"],[1.0,\"#f0f921\"]],\"type\":\"contour\"}],\"heatmapgl\":[{\"colorbar\":{\"outlinewidth\":0,\"ticks\":\"\"},\"colorscale\":[[0.0,\"#0d0887\"],[0.1111111111111111,\"#46039f\"],[0.2222222222222222,\"#7201a8\"],[0.3333333333333333,\"#9c179e\"],[0.4444444444444444,\"#bd3786\"],[0.5555555555555556,\"#d8576b\"],[0.6666666666666666,\"#ed7953\"],[0.7777777777777778,\"#fb9f3a\"],[0.8888888888888888,\"#fdca26\"],[1.0,\"#f0f921\"]],\"type\":\"heatmapgl\"}],\"heatmap\":[{\"colorbar\":{\"outlinewidth\":0,\"ticks\":\"\"},\"colorscale\":[[0.0,\"#0d0887\"],[0.1111111111111111,\"#46039f\"],[0.2222222222222222,\"#7201a8\"],[0.3333333333333333,\"#9c179e\"],[0.4444444444444444,\"#bd3786\"],[0.5555555555555556,\"#d8576b\"],[0.6666666666666666,\"#ed7953\"],[0.7777777777777778,\"#fb9f3a\"],[0.8888888888888888,\"#fdca26\"],[1.0,\"#f0f921\"]],\"type\":\"heatmap\"}],\"histogram2dcontour\":[{\"colorbar\":{\"outlinewidth\":0,\"ticks\":\"\"},\"colorscale\":[[0.0,\"#0d0887\"],[0.1111111111111111,\"#46039f\"],[0.2222222222222222,\"#7201a8\"],[0.3333333333333333,\"#9c179e\"],[0.4444444444444444,\"#bd3786\"],[0.5555555555555556,\"#d8576b\"],[0.6666666666666666,\"#ed7953\"],[0.7777777777777778,\"#fb9f3a\"],[0.8888888888888888,\"#fdca26\"],[1.0,\"#f0f921\"]],\"type\":\"histogram2dcontour\"}],\"histogram2d\":[{\"colorbar\":{\"outlinewidth\":0,\"ticks\":\"\"},\"colorscale\":[[0.0,\"#0d0887\"],[0.1111111111111111,\"#46039f\"],[0.2222222222222222,\"#7201a8\"],[0.3333333333333333,\"#9c179e\"],[0.4444444444444444,\"#bd3786\"],[0.5555555555555556,\"#d8576b\"],[0.6666666666666666,\"#ed7953\"],[0.7777777777777778,\"#fb9f3a\"],[0.8888888888888888,\"#fdca26\"],[1.0,\"#f0f921\"]],\"type\":\"histogram2d\"}],\"histogram\":[{\"marker\":{\"pattern\":{\"fillmode\":\"overlay\",\"size\":10,\"solidity\":0.2}},\"type\":\"histogram\"}],\"mesh3d\":[{\"colorbar\":{\"outlinewidth\":0,\"ticks\":\"\"},\"type\":\"mesh3d\"}],\"parcoords\":[{\"line\":{\"colorbar\":{\"outlinewidth\":0,\"ticks\":\"\"}},\"type\":\"parcoords\"}],\"pie\":[{\"automargin\":true,\"type\":\"pie\"}],\"scatter3d\":[{\"line\":{\"colorbar\":{\"outlinewidth\":0,\"ticks\":\"\"}},\"marker\":{\"colorbar\":{\"outlinewidth\":0,\"ticks\":\"\"}},\"type\":\"scatter3d\"}],\"scattercarpet\":[{\"marker\":{\"colorbar\":{\"outlinewidth\":0,\"ticks\":\"\"}},\"type\":\"scattercarpet\"}],\"scattergeo\":[{\"marker\":{\"colorbar\":{\"outlinewidth\":0,\"ticks\":\"\"}},\"type\":\"scattergeo\"}],\"scattergl\":[{\"marker\":{\"colorbar\":{\"outlinewidth\":0,\"ticks\":\"\"}},\"type\":\"scattergl\"}],\"scattermapbox\":[{\"marker\":{\"colorbar\":{\"outlinewidth\":0,\"ticks\":\"\"}},\"type\":\"scattermapbox\"}],\"scatterpolargl\":[{\"marker\":{\"colorbar\":{\"outlinewidth\":0,\"ticks\":\"\"}},\"type\":\"scatterpolargl\"}],\"scatterpolar\":[{\"marker\":{\"colorbar\":{\"outlinewidth\":0,\"ticks\":\"\"}},\"type\":\"scatterpolar\"}],\"scatter\":[{\"fillpattern\":{\"fillmode\":\"overlay\",\"size\":10,\"solidity\":0.2},\"type\":\"scatter\"}],\"scatterternary\":[{\"marker\":{\"colorbar\":{\"outlinewidth\":0,\"ticks\":\"\"}},\"type\":\"scatterternary\"}],\"surface\":[{\"colorbar\":{\"outlinewidth\":0,\"ticks\":\"\"},\"colorscale\":[[0.0,\"#0d0887\"],[0.1111111111111111,\"#46039f\"],[0.2222222222222222,\"#7201a8\"],[0.3333333333333333,\"#9c179e\"],[0.4444444444444444,\"#bd3786\"],[0.5555555555555556,\"#d8576b\"],[0.6666666666666666,\"#ed7953\"],[0.7777777777777778,\"#fb9f3a\"],[0.8888888888888888,\"#fdca26\"],[1.0,\"#f0f921\"]],\"type\":\"surface\"}],\"table\":[{\"cells\":{\"fill\":{\"color\":\"#EBF0F8\"},\"line\":{\"color\":\"white\"}},\"header\":{\"fill\":{\"color\":\"#C8D4E3\"},\"line\":{\"color\":\"white\"}},\"type\":\"table\"}]},\"layout\":{\"annotationdefaults\":{\"arrowcolor\":\"#2a3f5f\",\"arrowhead\":0,\"arrowwidth\":1},\"autotypenumbers\":\"strict\",\"coloraxis\":{\"colorbar\":{\"outlinewidth\":0,\"ticks\":\"\"}},\"colorscale\":{\"diverging\":[[0,\"#8e0152\"],[0.1,\"#c51b7d\"],[0.2,\"#de77ae\"],[0.3,\"#f1b6da\"],[0.4,\"#fde0ef\"],[0.5,\"#f7f7f7\"],[0.6,\"#e6f5d0\"],[0.7,\"#b8e186\"],[0.8,\"#7fbc41\"],[0.9,\"#4d9221\"],[1,\"#276419\"]],\"sequential\":[[0.0,\"#0d0887\"],[0.1111111111111111,\"#46039f\"],[0.2222222222222222,\"#7201a8\"],[0.3333333333333333,\"#9c179e\"],[0.4444444444444444,\"#bd3786\"],[0.5555555555555556,\"#d8576b\"],[0.6666666666666666,\"#ed7953\"],[0.7777777777777778,\"#fb9f3a\"],[0.8888888888888888,\"#fdca26\"],[1.0,\"#f0f921\"]],\"sequentialminus\":[[0.0,\"#0d0887\"],[0.1111111111111111,\"#46039f\"],[0.2222222222222222,\"#7201a8\"],[0.3333333333333333,\"#9c179e\"],[0.4444444444444444,\"#bd3786\"],[0.5555555555555556,\"#d8576b\"],[0.6666666666666666,\"#ed7953\"],[0.7777777777777778,\"#fb9f3a\"],[0.8888888888888888,\"#fdca26\"],[1.0,\"#f0f921\"]]},\"colorway\":[\"#636efa\",\"#EF553B\",\"#00cc96\",\"#ab63fa\",\"#FFA15A\",\"#19d3f3\",\"#FF6692\",\"#B6E880\",\"#FF97FF\",\"#FECB52\"],\"font\":{\"color\":\"#2a3f5f\"},\"geo\":{\"bgcolor\":\"white\",\"lakecolor\":\"white\",\"landcolor\":\"#E5ECF6\",\"showlakes\":true,\"showland\":true,\"subunitcolor\":\"white\"},\"hoverlabel\":{\"align\":\"left\"},\"hovermode\":\"closest\",\"mapbox\":{\"style\":\"light\"},\"paper_bgcolor\":\"white\",\"plot_bgcolor\":\"#E5ECF6\",\"polar\":{\"angularaxis\":{\"gridcolor\":\"white\",\"linecolor\":\"white\",\"ticks\":\"\"},\"bgcolor\":\"#E5ECF6\",\"radialaxis\":{\"gridcolor\":\"white\",\"linecolor\":\"white\",\"ticks\":\"\"}},\"scene\":{\"xaxis\":{\"backgroundcolor\":\"#E5ECF6\",\"gridcolor\":\"white\",\"gridwidth\":2,\"linecolor\":\"white\",\"showbackground\":true,\"ticks\":\"\",\"zerolinecolor\":\"white\"},\"yaxis\":{\"backgroundcolor\":\"#E5ECF6\",\"gridcolor\":\"white\",\"gridwidth\":2,\"linecolor\":\"white\",\"showbackground\":true,\"ticks\":\"\",\"zerolinecolor\":\"white\"},\"zaxis\":{\"backgroundcolor\":\"#E5ECF6\",\"gridcolor\":\"white\",\"gridwidth\":2,\"linecolor\":\"white\",\"showbackground\":true,\"ticks\":\"\",\"zerolinecolor\":\"white\"}},\"shapedefaults\":{\"line\":{\"color\":\"#2a3f5f\"}},\"ternary\":{\"aaxis\":{\"gridcolor\":\"white\",\"linecolor\":\"white\",\"ticks\":\"\"},\"baxis\":{\"gridcolor\":\"white\",\"linecolor\":\"white\",\"ticks\":\"\"},\"bgcolor\":\"#E5ECF6\",\"caxis\":{\"gridcolor\":\"white\",\"linecolor\":\"white\",\"ticks\":\"\"}},\"title\":{\"x\":0.05},\"xaxis\":{\"automargin\":true,\"gridcolor\":\"white\",\"linecolor\":\"white\",\"ticks\":\"\",\"title\":{\"standoff\":15},\"zerolinecolor\":\"white\",\"zerolinewidth\":2},\"yaxis\":{\"automargin\":true,\"gridcolor\":\"white\",\"linecolor\":\"white\",\"ticks\":\"\",\"title\":{\"standoff\":15},\"zerolinecolor\":\"white\",\"zerolinewidth\":2}}},\"title\":{\"text\":\"2D Data Repersentation Space\"},\"xaxis\":{\"range\":[0,12],\"title\":{\"text\":\"x1\"}},\"yaxis\":{\"range\":[0,12],\"title\":{\"text\":\"x2\"}}},                        {\"responsive\": true}                    ).then(function(){\n",
              "                            \n",
              "var gd = document.getElementById('edab515a-6a6b-44b1-9ef2-7993c27eea13');\n",
              "var x = new MutationObserver(function (mutations, observer) {{\n",
              "        var display = window.getComputedStyle(gd).display;\n",
              "        if (!display || display === 'none') {{\n",
              "            console.log([gd, 'removed!']);\n",
              "            Plotly.purge(gd);\n",
              "            observer.disconnect();\n",
              "        }}\n",
              "}});\n",
              "\n",
              "// Listen for the removal of the full notebook cells\n",
              "var notebookContainer = gd.closest('#notebook-container');\n",
              "if (notebookContainer) {{\n",
              "    x.observe(notebookContainer, {childList: true});\n",
              "}}\n",
              "\n",
              "// Listen for the clearing of the current output cell\n",
              "var outputEl = gd.closest('.output');\n",
              "if (outputEl) {{\n",
              "    x.observe(outputEl, {childList: true});\n",
              "}}\n",
              "\n",
              "                        })                };                });            </script>        </div>"
            ]
          },
          "metadata": {}
        },
        {
          "output_type": "display_data",
          "data": {
            "application/vnd.plotly.v1+json": {
              "data": [
                {
                  "mode": "markers",
                  "x": [
                    2,
                    2.163265306122449,
                    2.326530612244898,
                    2.489795918367347,
                    2.6530612244897958,
                    2.816326530612245,
                    2.979591836734694,
                    3.142857142857143,
                    3.3061224489795915,
                    3.4693877551020407,
                    3.63265306122449,
                    3.7959183673469385,
                    3.9591836734693877,
                    4.122448979591836,
                    4.285714285714286,
                    4.448979591836734,
                    4.612244897959183,
                    4.775510204081632,
                    4.938775510204081,
                    5.1020408163265305,
                    5.26530612244898,
                    5.428571428571429,
                    5.591836734693877,
                    5.755102040816326,
                    5.918367346938775,
                    6.081632653061225,
                    6.244897959183673,
                    6.408163265306122,
                    6.571428571428571,
                    6.73469387755102,
                    6.897959183673469,
                    7.061224489795918,
                    7.224489795918367,
                    7.387755102040816,
                    7.551020408163265,
                    7.7142857142857135,
                    7.877551020408163,
                    8.040816326530612,
                    8.204081632653061,
                    8.367346938775508,
                    8.53061224489796,
                    8.693877551020407,
                    8.857142857142858,
                    9.020408163265305,
                    9.183673469387754,
                    9.346938775510203,
                    9.510204081632653,
                    9.673469387755102,
                    9.83673469387755,
                    10
                  ],
                  "y": [
                    2,
                    2.163265306122449,
                    2.326530612244898,
                    2.489795918367347,
                    2.6530612244897958,
                    2.816326530612245,
                    2.979591836734694,
                    3.142857142857143,
                    3.3061224489795915,
                    3.4693877551020407,
                    3.63265306122449,
                    3.7959183673469385,
                    3.9591836734693877,
                    4.122448979591836,
                    4.285714285714286,
                    4.448979591836734,
                    4.612244897959183,
                    4.775510204081632,
                    4.938775510204081,
                    5.1020408163265305,
                    5.26530612244898,
                    5.428571428571429,
                    5.591836734693877,
                    5.755102040816326,
                    5.918367346938775,
                    6.081632653061225,
                    6.244897959183673,
                    6.408163265306122,
                    6.571428571428571,
                    6.73469387755102,
                    6.897959183673469,
                    7.061224489795918,
                    7.224489795918367,
                    7.387755102040816,
                    7.551020408163265,
                    7.7142857142857135,
                    7.877551020408163,
                    8.040816326530612,
                    8.204081632653061,
                    8.367346938775508,
                    8.53061224489796,
                    8.693877551020407,
                    8.857142857142858,
                    9.020408163265305,
                    9.183673469387754,
                    9.346938775510203,
                    9.510204081632653,
                    9.673469387755102,
                    9.83673469387755,
                    10
                  ],
                  "type": "scatter"
                },
                {
                  "mode": "lines",
                  "x": [
                    2,
                    2.163265306122449,
                    2.326530612244898,
                    2.489795918367347,
                    2.6530612244897958,
                    2.816326530612245,
                    2.979591836734694,
                    3.142857142857143,
                    3.3061224489795915,
                    3.4693877551020407,
                    3.63265306122449,
                    3.7959183673469385,
                    3.9591836734693877,
                    4.122448979591836,
                    4.285714285714286,
                    4.448979591836734,
                    4.612244897959183,
                    4.775510204081632,
                    4.938775510204081,
                    5.1020408163265305,
                    5.26530612244898,
                    5.428571428571429,
                    5.591836734693877,
                    5.755102040816326,
                    5.918367346938775,
                    6.081632653061225,
                    6.244897959183673,
                    6.408163265306122,
                    6.571428571428571,
                    6.73469387755102,
                    6.897959183673469,
                    7.061224489795918,
                    7.224489795918367,
                    7.387755102040816,
                    7.551020408163265,
                    7.7142857142857135,
                    7.877551020408163,
                    8.040816326530612,
                    8.204081632653061,
                    8.367346938775508,
                    8.53061224489796,
                    8.693877551020407,
                    8.857142857142858,
                    9.020408163265305,
                    9.183673469387754,
                    9.346938775510203,
                    9.510204081632653,
                    9.673469387755102,
                    9.83673469387755,
                    10
                  ],
                  "y": [
                    2,
                    2.163265306122449,
                    2.326530612244898,
                    2.489795918367347,
                    2.6530612244897958,
                    2.816326530612245,
                    2.979591836734694,
                    3.142857142857143,
                    3.3061224489795915,
                    3.4693877551020407,
                    3.63265306122449,
                    3.7959183673469385,
                    3.9591836734693877,
                    4.122448979591836,
                    4.285714285714286,
                    4.448979591836734,
                    4.612244897959183,
                    4.775510204081632,
                    4.938775510204081,
                    5.1020408163265305,
                    5.26530612244898,
                    5.428571428571429,
                    5.591836734693877,
                    5.755102040816326,
                    5.918367346938775,
                    6.081632653061225,
                    6.244897959183673,
                    6.408163265306122,
                    6.571428571428571,
                    6.73469387755102,
                    6.897959183673469,
                    7.061224489795918,
                    7.224489795918367,
                    7.387755102040816,
                    7.551020408163265,
                    7.7142857142857135,
                    7.877551020408163,
                    8.040816326530612,
                    8.204081632653061,
                    8.367346938775508,
                    8.53061224489796,
                    8.693877551020407,
                    8.857142857142858,
                    9.020408163265305,
                    9.183673469387754,
                    9.346938775510203,
                    9.510204081632653,
                    9.673469387755102,
                    9.83673469387755,
                    10
                  ],
                  "type": "scatter"
                },
                {
                  "mode": "lines",
                  "x": [
                    2,
                    2.163265306122449,
                    2.326530612244898,
                    2.489795918367347,
                    2.6530612244897958,
                    2.816326530612245,
                    2.979591836734694,
                    3.142857142857143,
                    3.3061224489795915,
                    3.4693877551020407,
                    3.63265306122449,
                    3.7959183673469385,
                    3.9591836734693877,
                    4.122448979591836,
                    4.285714285714286,
                    4.448979591836734,
                    4.612244897959183,
                    4.775510204081632,
                    4.938775510204081,
                    5.1020408163265305,
                    5.26530612244898,
                    5.428571428571429,
                    5.591836734693877,
                    5.755102040816326,
                    5.918367346938775,
                    6.081632653061225,
                    6.244897959183673,
                    6.408163265306122,
                    6.571428571428571,
                    6.73469387755102,
                    6.897959183673469,
                    7.061224489795918,
                    7.224489795918367,
                    7.387755102040816,
                    7.551020408163265,
                    7.7142857142857135,
                    7.877551020408163,
                    8.040816326530612,
                    8.204081632653061,
                    8.367346938775508,
                    8.53061224489796,
                    8.693877551020407,
                    8.857142857142858,
                    9.020408163265305,
                    9.183673469387754,
                    9.346938775510203,
                    9.510204081632653,
                    9.673469387755102,
                    9.83673469387755,
                    10
                  ],
                  "y": [
                    2,
                    2,
                    2,
                    2,
                    2,
                    2,
                    2,
                    2,
                    2,
                    2,
                    2,
                    2,
                    2,
                    2,
                    2,
                    2,
                    2,
                    2,
                    2,
                    2,
                    2,
                    2,
                    2,
                    2,
                    2,
                    2,
                    2,
                    2,
                    2,
                    2,
                    2,
                    2,
                    2,
                    2,
                    2,
                    2,
                    2,
                    2,
                    2,
                    2,
                    2,
                    2,
                    2,
                    2,
                    2,
                    2,
                    2,
                    2,
                    2,
                    2,
                    2,
                    2,
                    2,
                    2,
                    2,
                    2,
                    2,
                    2,
                    2,
                    2,
                    2,
                    2,
                    2,
                    2,
                    2,
                    2,
                    2,
                    2,
                    2,
                    2,
                    2,
                    2,
                    2,
                    2,
                    2,
                    2,
                    2,
                    2,
                    2,
                    2,
                    2,
                    2,
                    2,
                    2,
                    2,
                    2,
                    2,
                    2,
                    2,
                    2,
                    2,
                    2,
                    2,
                    2,
                    2,
                    2,
                    2,
                    2,
                    2,
                    2
                  ],
                  "type": "scatter"
                },
                {
                  "mode": "lines",
                  "x": [
                    2.6530612244897958,
                    2.816326530612245,
                    2.979591836734694,
                    3.142857142857143,
                    3.3061224489795915,
                    3.4693877551020407,
                    3.63265306122449,
                    3.7959183673469385,
                    3.9591836734693877,
                    4.122448979591836,
                    4.285714285714286,
                    4.448979591836734,
                    4.612244897959183,
                    4.775510204081632,
                    4.938775510204081,
                    5.1020408163265305,
                    5.26530612244898,
                    5.428571428571429,
                    5.591836734693877,
                    5.755102040816326
                  ],
                  "y": [
                    3.6530612244897958,
                    3.816326530612245,
                    3.979591836734694,
                    4.142857142857142,
                    4.3061224489795915,
                    4.469387755102041,
                    4.63265306122449,
                    4.795918367346939,
                    4.959183673469388,
                    5.122448979591836,
                    5.285714285714286,
                    5.448979591836734,
                    5.612244897959183,
                    5.775510204081632,
                    5.938775510204081,
                    6.1020408163265305,
                    6.26530612244898,
                    6.428571428571429,
                    6.591836734693877,
                    6.755102040816326,
                    6.918367346938775,
                    7.081632653061225,
                    7.244897959183673,
                    7.408163265306122,
                    7.571428571428571,
                    7.73469387755102,
                    7.897959183673469,
                    8.061224489795919,
                    8.224489795918366,
                    8.387755102040817,
                    8.551020408163264,
                    8.714285714285714,
                    8.877551020408163,
                    9.040816326530612,
                    9.204081632653061,
                    9.367346938775508,
                    9.53061224489796,
                    9.693877551020407,
                    9.857142857142858,
                    10.020408163265305,
                    10.183673469387754,
                    10.346938775510203,
                    10.510204081632653,
                    10.673469387755102,
                    10.83673469387755,
                    11
                  ],
                  "type": "scatter"
                }
              ],
              "layout": {
                "annotations": [
                  {
                    "align": "center",
                    "arrowcolor": "#636363",
                    "arrowhead": 2,
                    "arrowsize": 1,
                    "arrowwidth": 2,
                    "ax": 20,
                    "ay": -30,
                    "bgcolor": "orange",
                    "bordercolor": "#c7c7c7",
                    "borderpad": 4,
                    "borderwidth": 2,
                    "opacity": 0.8,
                    "showarrow": true,
                    "text": "A",
                    "x": 2,
                    "xref": "x",
                    "y": 2,
                    "yref": "y"
                  },
                  {
                    "align": "center",
                    "arrowcolor": "#636363",
                    "arrowhead": 2,
                    "arrowsize": 1,
                    "arrowwidth": 2,
                    "ax": 20,
                    "ay": -30,
                    "bgcolor": "yellow",
                    "bordercolor": "#c7c7c7",
                    "borderpad": 4,
                    "borderwidth": 2,
                    "opacity": 0.8,
                    "showarrow": true,
                    "text": "B",
                    "x": 6,
                    "xref": "x",
                    "y": 6,
                    "yref": "y"
                  },
                  {
                    "ay": -40,
                    "text": "d",
                    "x": 4,
                    "xref": "x",
                    "y": 5,
                    "yref": "y"
                  },
                  {
                    "ax": 80,
                    "ay": -10,
                    "text": "angle L",
                    "x": 2,
                    "xref": "x",
                    "y": 2,
                    "yref": "y"
                  }
                ],
                "height": 400,
                "showlegend": false,
                "template": {
                  "data": {
                    "barpolar": [
                      {
                        "marker": {
                          "line": {
                            "color": "#E5ECF6",
                            "width": 0.5
                          },
                          "pattern": {
                            "fillmode": "overlay",
                            "size": 10,
                            "solidity": 0.2
                          }
                        },
                        "type": "barpolar"
                      }
                    ],
                    "bar": [
                      {
                        "error_x": {
                          "color": "#2a3f5f"
                        },
                        "error_y": {
                          "color": "#2a3f5f"
                        },
                        "marker": {
                          "line": {
                            "color": "#E5ECF6",
                            "width": 0.5
                          },
                          "pattern": {
                            "fillmode": "overlay",
                            "size": 10,
                            "solidity": 0.2
                          }
                        },
                        "type": "bar"
                      }
                    ],
                    "carpet": [
                      {
                        "aaxis": {
                          "endlinecolor": "#2a3f5f",
                          "gridcolor": "white",
                          "linecolor": "white",
                          "minorgridcolor": "white",
                          "startlinecolor": "#2a3f5f"
                        },
                        "baxis": {
                          "endlinecolor": "#2a3f5f",
                          "gridcolor": "white",
                          "linecolor": "white",
                          "minorgridcolor": "white",
                          "startlinecolor": "#2a3f5f"
                        },
                        "type": "carpet"
                      }
                    ],
                    "choropleth": [
                      {
                        "colorbar": {
                          "outlinewidth": 0,
                          "ticks": ""
                        },
                        "type": "choropleth"
                      }
                    ],
                    "contourcarpet": [
                      {
                        "colorbar": {
                          "outlinewidth": 0,
                          "ticks": ""
                        },
                        "type": "contourcarpet"
                      }
                    ],
                    "contour": [
                      {
                        "colorbar": {
                          "outlinewidth": 0,
                          "ticks": ""
                        },
                        "colorscale": [
                          [
                            0,
                            "#0d0887"
                          ],
                          [
                            0.1111111111111111,
                            "#46039f"
                          ],
                          [
                            0.2222222222222222,
                            "#7201a8"
                          ],
                          [
                            0.3333333333333333,
                            "#9c179e"
                          ],
                          [
                            0.4444444444444444,
                            "#bd3786"
                          ],
                          [
                            0.5555555555555556,
                            "#d8576b"
                          ],
                          [
                            0.6666666666666666,
                            "#ed7953"
                          ],
                          [
                            0.7777777777777778,
                            "#fb9f3a"
                          ],
                          [
                            0.8888888888888888,
                            "#fdca26"
                          ],
                          [
                            1,
                            "#f0f921"
                          ]
                        ],
                        "type": "contour"
                      }
                    ],
                    "heatmapgl": [
                      {
                        "colorbar": {
                          "outlinewidth": 0,
                          "ticks": ""
                        },
                        "colorscale": [
                          [
                            0,
                            "#0d0887"
                          ],
                          [
                            0.1111111111111111,
                            "#46039f"
                          ],
                          [
                            0.2222222222222222,
                            "#7201a8"
                          ],
                          [
                            0.3333333333333333,
                            "#9c179e"
                          ],
                          [
                            0.4444444444444444,
                            "#bd3786"
                          ],
                          [
                            0.5555555555555556,
                            "#d8576b"
                          ],
                          [
                            0.6666666666666666,
                            "#ed7953"
                          ],
                          [
                            0.7777777777777778,
                            "#fb9f3a"
                          ],
                          [
                            0.8888888888888888,
                            "#fdca26"
                          ],
                          [
                            1,
                            "#f0f921"
                          ]
                        ],
                        "type": "heatmapgl"
                      }
                    ],
                    "heatmap": [
                      {
                        "colorbar": {
                          "outlinewidth": 0,
                          "ticks": ""
                        },
                        "colorscale": [
                          [
                            0,
                            "#0d0887"
                          ],
                          [
                            0.1111111111111111,
                            "#46039f"
                          ],
                          [
                            0.2222222222222222,
                            "#7201a8"
                          ],
                          [
                            0.3333333333333333,
                            "#9c179e"
                          ],
                          [
                            0.4444444444444444,
                            "#bd3786"
                          ],
                          [
                            0.5555555555555556,
                            "#d8576b"
                          ],
                          [
                            0.6666666666666666,
                            "#ed7953"
                          ],
                          [
                            0.7777777777777778,
                            "#fb9f3a"
                          ],
                          [
                            0.8888888888888888,
                            "#fdca26"
                          ],
                          [
                            1,
                            "#f0f921"
                          ]
                        ],
                        "type": "heatmap"
                      }
                    ],
                    "histogram2dcontour": [
                      {
                        "colorbar": {
                          "outlinewidth": 0,
                          "ticks": ""
                        },
                        "colorscale": [
                          [
                            0,
                            "#0d0887"
                          ],
                          [
                            0.1111111111111111,
                            "#46039f"
                          ],
                          [
                            0.2222222222222222,
                            "#7201a8"
                          ],
                          [
                            0.3333333333333333,
                            "#9c179e"
                          ],
                          [
                            0.4444444444444444,
                            "#bd3786"
                          ],
                          [
                            0.5555555555555556,
                            "#d8576b"
                          ],
                          [
                            0.6666666666666666,
                            "#ed7953"
                          ],
                          [
                            0.7777777777777778,
                            "#fb9f3a"
                          ],
                          [
                            0.8888888888888888,
                            "#fdca26"
                          ],
                          [
                            1,
                            "#f0f921"
                          ]
                        ],
                        "type": "histogram2dcontour"
                      }
                    ],
                    "histogram2d": [
                      {
                        "colorbar": {
                          "outlinewidth": 0,
                          "ticks": ""
                        },
                        "colorscale": [
                          [
                            0,
                            "#0d0887"
                          ],
                          [
                            0.1111111111111111,
                            "#46039f"
                          ],
                          [
                            0.2222222222222222,
                            "#7201a8"
                          ],
                          [
                            0.3333333333333333,
                            "#9c179e"
                          ],
                          [
                            0.4444444444444444,
                            "#bd3786"
                          ],
                          [
                            0.5555555555555556,
                            "#d8576b"
                          ],
                          [
                            0.6666666666666666,
                            "#ed7953"
                          ],
                          [
                            0.7777777777777778,
                            "#fb9f3a"
                          ],
                          [
                            0.8888888888888888,
                            "#fdca26"
                          ],
                          [
                            1,
                            "#f0f921"
                          ]
                        ],
                        "type": "histogram2d"
                      }
                    ],
                    "histogram": [
                      {
                        "marker": {
                          "pattern": {
                            "fillmode": "overlay",
                            "size": 10,
                            "solidity": 0.2
                          }
                        },
                        "type": "histogram"
                      }
                    ],
                    "mesh3d": [
                      {
                        "colorbar": {
                          "outlinewidth": 0,
                          "ticks": ""
                        },
                        "type": "mesh3d"
                      }
                    ],
                    "parcoords": [
                      {
                        "line": {
                          "colorbar": {
                            "outlinewidth": 0,
                            "ticks": ""
                          }
                        },
                        "type": "parcoords"
                      }
                    ],
                    "pie": [
                      {
                        "automargin": true,
                        "type": "pie"
                      }
                    ],
                    "scatter3d": [
                      {
                        "line": {
                          "colorbar": {
                            "outlinewidth": 0,
                            "ticks": ""
                          }
                        },
                        "marker": {
                          "colorbar": {
                            "outlinewidth": 0,
                            "ticks": ""
                          }
                        },
                        "type": "scatter3d"
                      }
                    ],
                    "scattercarpet": [
                      {
                        "marker": {
                          "colorbar": {
                            "outlinewidth": 0,
                            "ticks": ""
                          }
                        },
                        "type": "scattercarpet"
                      }
                    ],
                    "scattergeo": [
                      {
                        "marker": {
                          "colorbar": {
                            "outlinewidth": 0,
                            "ticks": ""
                          }
                        },
                        "type": "scattergeo"
                      }
                    ],
                    "scattergl": [
                      {
                        "marker": {
                          "colorbar": {
                            "outlinewidth": 0,
                            "ticks": ""
                          }
                        },
                        "type": "scattergl"
                      }
                    ],
                    "scattermapbox": [
                      {
                        "marker": {
                          "colorbar": {
                            "outlinewidth": 0,
                            "ticks": ""
                          }
                        },
                        "type": "scattermapbox"
                      }
                    ],
                    "scatterpolargl": [
                      {
                        "marker": {
                          "colorbar": {
                            "outlinewidth": 0,
                            "ticks": ""
                          }
                        },
                        "type": "scatterpolargl"
                      }
                    ],
                    "scatterpolar": [
                      {
                        "marker": {
                          "colorbar": {
                            "outlinewidth": 0,
                            "ticks": ""
                          }
                        },
                        "type": "scatterpolar"
                      }
                    ],
                    "scatter": [
                      {
                        "fillpattern": {
                          "fillmode": "overlay",
                          "size": 10,
                          "solidity": 0.2
                        },
                        "type": "scatter"
                      }
                    ],
                    "scatterternary": [
                      {
                        "marker": {
                          "colorbar": {
                            "outlinewidth": 0,
                            "ticks": ""
                          }
                        },
                        "type": "scatterternary"
                      }
                    ],
                    "surface": [
                      {
                        "colorbar": {
                          "outlinewidth": 0,
                          "ticks": ""
                        },
                        "colorscale": [
                          [
                            0,
                            "#0d0887"
                          ],
                          [
                            0.1111111111111111,
                            "#46039f"
                          ],
                          [
                            0.2222222222222222,
                            "#7201a8"
                          ],
                          [
                            0.3333333333333333,
                            "#9c179e"
                          ],
                          [
                            0.4444444444444444,
                            "#bd3786"
                          ],
                          [
                            0.5555555555555556,
                            "#d8576b"
                          ],
                          [
                            0.6666666666666666,
                            "#ed7953"
                          ],
                          [
                            0.7777777777777778,
                            "#fb9f3a"
                          ],
                          [
                            0.8888888888888888,
                            "#fdca26"
                          ],
                          [
                            1,
                            "#f0f921"
                          ]
                        ],
                        "type": "surface"
                      }
                    ],
                    "table": [
                      {
                        "cells": {
                          "fill": {
                            "color": "#EBF0F8"
                          },
                          "line": {
                            "color": "white"
                          }
                        },
                        "header": {
                          "fill": {
                            "color": "#C8D4E3"
                          },
                          "line": {
                            "color": "white"
                          }
                        },
                        "type": "table"
                      }
                    ]
                  },
                  "layout": {
                    "annotationdefaults": {
                      "arrowcolor": "#2a3f5f",
                      "arrowhead": 0,
                      "arrowwidth": 1
                    },
                    "autotypenumbers": "strict",
                    "coloraxis": {
                      "colorbar": {
                        "outlinewidth": 0,
                        "ticks": ""
                      }
                    },
                    "colorscale": {
                      "diverging": [
                        [
                          0,
                          "#8e0152"
                        ],
                        [
                          0.1,
                          "#c51b7d"
                        ],
                        [
                          0.2,
                          "#de77ae"
                        ],
                        [
                          0.3,
                          "#f1b6da"
                        ],
                        [
                          0.4,
                          "#fde0ef"
                        ],
                        [
                          0.5,
                          "#f7f7f7"
                        ],
                        [
                          0.6,
                          "#e6f5d0"
                        ],
                        [
                          0.7,
                          "#b8e186"
                        ],
                        [
                          0.8,
                          "#7fbc41"
                        ],
                        [
                          0.9,
                          "#4d9221"
                        ],
                        [
                          1,
                          "#276419"
                        ]
                      ],
                      "sequential": [
                        [
                          0,
                          "#0d0887"
                        ],
                        [
                          0.1111111111111111,
                          "#46039f"
                        ],
                        [
                          0.2222222222222222,
                          "#7201a8"
                        ],
                        [
                          0.3333333333333333,
                          "#9c179e"
                        ],
                        [
                          0.4444444444444444,
                          "#bd3786"
                        ],
                        [
                          0.5555555555555556,
                          "#d8576b"
                        ],
                        [
                          0.6666666666666666,
                          "#ed7953"
                        ],
                        [
                          0.7777777777777778,
                          "#fb9f3a"
                        ],
                        [
                          0.8888888888888888,
                          "#fdca26"
                        ],
                        [
                          1,
                          "#f0f921"
                        ]
                      ],
                      "sequentialminus": [
                        [
                          0,
                          "#0d0887"
                        ],
                        [
                          0.1111111111111111,
                          "#46039f"
                        ],
                        [
                          0.2222222222222222,
                          "#7201a8"
                        ],
                        [
                          0.3333333333333333,
                          "#9c179e"
                        ],
                        [
                          0.4444444444444444,
                          "#bd3786"
                        ],
                        [
                          0.5555555555555556,
                          "#d8576b"
                        ],
                        [
                          0.6666666666666666,
                          "#ed7953"
                        ],
                        [
                          0.7777777777777778,
                          "#fb9f3a"
                        ],
                        [
                          0.8888888888888888,
                          "#fdca26"
                        ],
                        [
                          1,
                          "#f0f921"
                        ]
                      ]
                    },
                    "colorway": [
                      "#636efa",
                      "#EF553B",
                      "#00cc96",
                      "#ab63fa",
                      "#FFA15A",
                      "#19d3f3",
                      "#FF6692",
                      "#B6E880",
                      "#FF97FF",
                      "#FECB52"
                    ],
                    "font": {
                      "color": "#2a3f5f"
                    },
                    "geo": {
                      "bgcolor": "white",
                      "lakecolor": "white",
                      "landcolor": "#E5ECF6",
                      "showlakes": true,
                      "showland": true,
                      "subunitcolor": "white"
                    },
                    "hoverlabel": {
                      "align": "left"
                    },
                    "hovermode": "closest",
                    "mapbox": {
                      "style": "light"
                    },
                    "paper_bgcolor": "white",
                    "plot_bgcolor": "#E5ECF6",
                    "polar": {
                      "angularaxis": {
                        "gridcolor": "white",
                        "linecolor": "white",
                        "ticks": ""
                      },
                      "bgcolor": "#E5ECF6",
                      "radialaxis": {
                        "gridcolor": "white",
                        "linecolor": "white",
                        "ticks": ""
                      }
                    },
                    "scene": {
                      "xaxis": {
                        "backgroundcolor": "#E5ECF6",
                        "gridcolor": "white",
                        "gridwidth": 2,
                        "linecolor": "white",
                        "showbackground": true,
                        "ticks": "",
                        "zerolinecolor": "white"
                      },
                      "yaxis": {
                        "backgroundcolor": "#E5ECF6",
                        "gridcolor": "white",
                        "gridwidth": 2,
                        "linecolor": "white",
                        "showbackground": true,
                        "ticks": "",
                        "zerolinecolor": "white"
                      },
                      "zaxis": {
                        "backgroundcolor": "#E5ECF6",
                        "gridcolor": "white",
                        "gridwidth": 2,
                        "linecolor": "white",
                        "showbackground": true,
                        "ticks": "",
                        "zerolinecolor": "white"
                      }
                    },
                    "shapedefaults": {
                      "line": {
                        "color": "#2a3f5f"
                      }
                    },
                    "ternary": {
                      "aaxis": {
                        "gridcolor": "white",
                        "linecolor": "white",
                        "ticks": ""
                      },
                      "baxis": {
                        "gridcolor": "white",
                        "linecolor": "white",
                        "ticks": ""
                      },
                      "bgcolor": "#E5ECF6",
                      "caxis": {
                        "gridcolor": "white",
                        "linecolor": "white",
                        "ticks": ""
                      }
                    },
                    "title": {
                      "x": 0.05
                    },
                    "xaxis": {
                      "automargin": true,
                      "gridcolor": "white",
                      "linecolor": "white",
                      "ticks": "",
                      "title": {
                        "standoff": 15
                      },
                      "zerolinecolor": "white",
                      "zerolinewidth": 2
                    },
                    "yaxis": {
                      "automargin": true,
                      "gridcolor": "white",
                      "linecolor": "white",
                      "ticks": "",
                      "title": {
                        "standoff": 15
                      },
                      "zerolinecolor": "white",
                      "zerolinewidth": 2
                    }
                  }
                },
                "title": {
                  "text": "Latent Distance View Space"
                },
                "xaxis": {
                  "range": [
                    1.5,
                    12
                  ],
                  "title": {
                    "text": "u1"
                  }
                },
                "yaxis": {
                  "range": [
                    1.5,
                    12
                  ],
                  "title": {
                    "text": "u2"
                  }
                }
              },
              "config": {
                "showLink": false,
                "linkText": "Export to plot.ly",
                "plotlyServerURL": "https://plot.ly"
              }
            },
            "text/html": [
              "<div>                            <div id=\"bdf8e283-efc3-4aba-9df4-45f17bb0aa44\" class=\"plotly-graph-div\" style=\"height:400px; width:100%;\"></div>            <script type=\"text/javascript\">                require([\"plotly\"], function(Plotly) {                    window.PLOTLYENV=window.PLOTLYENV || {};                                    if (document.getElementById(\"bdf8e283-efc3-4aba-9df4-45f17bb0aa44\")) {                    Plotly.newPlot(                        \"bdf8e283-efc3-4aba-9df4-45f17bb0aa44\",                        [{\"mode\":\"markers\",\"x\":[2.0,2.163265306122449,2.326530612244898,2.489795918367347,2.6530612244897958,2.816326530612245,2.979591836734694,3.142857142857143,3.3061224489795915,3.4693877551020407,3.63265306122449,3.7959183673469385,3.9591836734693877,4.122448979591836,4.285714285714286,4.448979591836734,4.612244897959183,4.775510204081632,4.938775510204081,5.1020408163265305,5.26530612244898,5.428571428571429,5.591836734693877,5.755102040816326,5.918367346938775,6.081632653061225,6.244897959183673,6.408163265306122,6.571428571428571,6.73469387755102,6.897959183673469,7.061224489795918,7.224489795918367,7.387755102040816,7.551020408163265,7.7142857142857135,7.877551020408163,8.040816326530612,8.204081632653061,8.367346938775508,8.53061224489796,8.693877551020407,8.857142857142858,9.020408163265305,9.183673469387754,9.346938775510203,9.510204081632653,9.673469387755102,9.83673469387755,10.0],\"y\":[2.0,2.163265306122449,2.326530612244898,2.489795918367347,2.6530612244897958,2.816326530612245,2.979591836734694,3.142857142857143,3.3061224489795915,3.4693877551020407,3.63265306122449,3.7959183673469385,3.9591836734693877,4.122448979591836,4.285714285714286,4.448979591836734,4.612244897959183,4.775510204081632,4.938775510204081,5.1020408163265305,5.26530612244898,5.428571428571429,5.591836734693877,5.755102040816326,5.918367346938775,6.081632653061225,6.244897959183673,6.408163265306122,6.571428571428571,6.73469387755102,6.897959183673469,7.061224489795918,7.224489795918367,7.387755102040816,7.551020408163265,7.7142857142857135,7.877551020408163,8.040816326530612,8.204081632653061,8.367346938775508,8.53061224489796,8.693877551020407,8.857142857142858,9.020408163265305,9.183673469387754,9.346938775510203,9.510204081632653,9.673469387755102,9.83673469387755,10.0],\"type\":\"scatter\"},{\"mode\":\"lines\",\"x\":[2.0,2.163265306122449,2.326530612244898,2.489795918367347,2.6530612244897958,2.816326530612245,2.979591836734694,3.142857142857143,3.3061224489795915,3.4693877551020407,3.63265306122449,3.7959183673469385,3.9591836734693877,4.122448979591836,4.285714285714286,4.448979591836734,4.612244897959183,4.775510204081632,4.938775510204081,5.1020408163265305,5.26530612244898,5.428571428571429,5.591836734693877,5.755102040816326,5.918367346938775,6.081632653061225,6.244897959183673,6.408163265306122,6.571428571428571,6.73469387755102,6.897959183673469,7.061224489795918,7.224489795918367,7.387755102040816,7.551020408163265,7.7142857142857135,7.877551020408163,8.040816326530612,8.204081632653061,8.367346938775508,8.53061224489796,8.693877551020407,8.857142857142858,9.020408163265305,9.183673469387754,9.346938775510203,9.510204081632653,9.673469387755102,9.83673469387755,10.0],\"y\":[2.0,2.163265306122449,2.326530612244898,2.489795918367347,2.6530612244897958,2.816326530612245,2.979591836734694,3.142857142857143,3.3061224489795915,3.4693877551020407,3.63265306122449,3.7959183673469385,3.9591836734693877,4.122448979591836,4.285714285714286,4.448979591836734,4.612244897959183,4.775510204081632,4.938775510204081,5.1020408163265305,5.26530612244898,5.428571428571429,5.591836734693877,5.755102040816326,5.918367346938775,6.081632653061225,6.244897959183673,6.408163265306122,6.571428571428571,6.73469387755102,6.897959183673469,7.061224489795918,7.224489795918367,7.387755102040816,7.551020408163265,7.7142857142857135,7.877551020408163,8.040816326530612,8.204081632653061,8.367346938775508,8.53061224489796,8.693877551020407,8.857142857142858,9.020408163265305,9.183673469387754,9.346938775510203,9.510204081632653,9.673469387755102,9.83673469387755,10.0],\"type\":\"scatter\"},{\"mode\":\"lines\",\"x\":[2.0,2.163265306122449,2.326530612244898,2.489795918367347,2.6530612244897958,2.816326530612245,2.979591836734694,3.142857142857143,3.3061224489795915,3.4693877551020407,3.63265306122449,3.7959183673469385,3.9591836734693877,4.122448979591836,4.285714285714286,4.448979591836734,4.612244897959183,4.775510204081632,4.938775510204081,5.1020408163265305,5.26530612244898,5.428571428571429,5.591836734693877,5.755102040816326,5.918367346938775,6.081632653061225,6.244897959183673,6.408163265306122,6.571428571428571,6.73469387755102,6.897959183673469,7.061224489795918,7.224489795918367,7.387755102040816,7.551020408163265,7.7142857142857135,7.877551020408163,8.040816326530612,8.204081632653061,8.367346938775508,8.53061224489796,8.693877551020407,8.857142857142858,9.020408163265305,9.183673469387754,9.346938775510203,9.510204081632653,9.673469387755102,9.83673469387755,10.0],\"y\":[2,2,2,2,2,2,2,2,2,2,2,2,2,2,2,2,2,2,2,2,2,2,2,2,2,2,2,2,2,2,2,2,2,2,2,2,2,2,2,2,2,2,2,2,2,2,2,2,2,2,2,2,2,2,2,2,2,2,2,2,2,2,2,2,2,2,2,2,2,2,2,2,2,2,2,2,2,2,2,2,2,2,2,2,2,2,2,2,2,2,2,2,2,2,2,2,2,2,2,2],\"type\":\"scatter\"},{\"mode\":\"lines\",\"x\":[2.6530612244897958,2.816326530612245,2.979591836734694,3.142857142857143,3.3061224489795915,3.4693877551020407,3.63265306122449,3.7959183673469385,3.9591836734693877,4.122448979591836,4.285714285714286,4.448979591836734,4.612244897959183,4.775510204081632,4.938775510204081,5.1020408163265305,5.26530612244898,5.428571428571429,5.591836734693877,5.755102040816326],\"y\":[3.6530612244897958,3.816326530612245,3.979591836734694,4.142857142857142,4.3061224489795915,4.469387755102041,4.63265306122449,4.795918367346939,4.959183673469388,5.122448979591836,5.285714285714286,5.448979591836734,5.612244897959183,5.775510204081632,5.938775510204081,6.1020408163265305,6.26530612244898,6.428571428571429,6.591836734693877,6.755102040816326,6.918367346938775,7.081632653061225,7.244897959183673,7.408163265306122,7.571428571428571,7.73469387755102,7.897959183673469,8.061224489795919,8.224489795918366,8.387755102040817,8.551020408163264,8.714285714285714,8.877551020408163,9.040816326530612,9.204081632653061,9.367346938775508,9.53061224489796,9.693877551020407,9.857142857142858,10.020408163265305,10.183673469387754,10.346938775510203,10.510204081632653,10.673469387755102,10.83673469387755,11.0],\"type\":\"scatter\"}],                        {\"annotations\":[{\"align\":\"center\",\"arrowcolor\":\"#636363\",\"arrowhead\":2,\"arrowsize\":1,\"arrowwidth\":2,\"ax\":20,\"ay\":-30,\"bgcolor\":\"orange\",\"bordercolor\":\"#c7c7c7\",\"borderpad\":4,\"borderwidth\":2,\"opacity\":0.8,\"showarrow\":true,\"text\":\"A\",\"x\":2,\"xref\":\"x\",\"y\":2,\"yref\":\"y\"},{\"align\":\"center\",\"arrowcolor\":\"#636363\",\"arrowhead\":2,\"arrowsize\":1,\"arrowwidth\":2,\"ax\":20,\"ay\":-30,\"bgcolor\":\"yellow\",\"bordercolor\":\"#c7c7c7\",\"borderpad\":4,\"borderwidth\":2,\"opacity\":0.8,\"showarrow\":true,\"text\":\"B\",\"x\":6,\"xref\":\"x\",\"y\":6,\"yref\":\"y\"},{\"ay\":-40,\"text\":\"d\",\"x\":4,\"xref\":\"x\",\"y\":5,\"yref\":\"y\"},{\"ax\":80,\"ay\":-10,\"text\":\"angle L\",\"x\":2,\"xref\":\"x\",\"y\":2,\"yref\":\"y\"}],\"height\":400,\"showlegend\":false,\"template\":{\"data\":{\"barpolar\":[{\"marker\":{\"line\":{\"color\":\"#E5ECF6\",\"width\":0.5},\"pattern\":{\"fillmode\":\"overlay\",\"size\":10,\"solidity\":0.2}},\"type\":\"barpolar\"}],\"bar\":[{\"error_x\":{\"color\":\"#2a3f5f\"},\"error_y\":{\"color\":\"#2a3f5f\"},\"marker\":{\"line\":{\"color\":\"#E5ECF6\",\"width\":0.5},\"pattern\":{\"fillmode\":\"overlay\",\"size\":10,\"solidity\":0.2}},\"type\":\"bar\"}],\"carpet\":[{\"aaxis\":{\"endlinecolor\":\"#2a3f5f\",\"gridcolor\":\"white\",\"linecolor\":\"white\",\"minorgridcolor\":\"white\",\"startlinecolor\":\"#2a3f5f\"},\"baxis\":{\"endlinecolor\":\"#2a3f5f\",\"gridcolor\":\"white\",\"linecolor\":\"white\",\"minorgridcolor\":\"white\",\"startlinecolor\":\"#2a3f5f\"},\"type\":\"carpet\"}],\"choropleth\":[{\"colorbar\":{\"outlinewidth\":0,\"ticks\":\"\"},\"type\":\"choropleth\"}],\"contourcarpet\":[{\"colorbar\":{\"outlinewidth\":0,\"ticks\":\"\"},\"type\":\"contourcarpet\"}],\"contour\":[{\"colorbar\":{\"outlinewidth\":0,\"ticks\":\"\"},\"colorscale\":[[0.0,\"#0d0887\"],[0.1111111111111111,\"#46039f\"],[0.2222222222222222,\"#7201a8\"],[0.3333333333333333,\"#9c179e\"],[0.4444444444444444,\"#bd3786\"],[0.5555555555555556,\"#d8576b\"],[0.6666666666666666,\"#ed7953\"],[0.7777777777777778,\"#fb9f3a\"],[0.8888888888888888,\"#fdca26\"],[1.0,\"#f0f921\"]],\"type\":\"contour\"}],\"heatmapgl\":[{\"colorbar\":{\"outlinewidth\":0,\"ticks\":\"\"},\"colorscale\":[[0.0,\"#0d0887\"],[0.1111111111111111,\"#46039f\"],[0.2222222222222222,\"#7201a8\"],[0.3333333333333333,\"#9c179e\"],[0.4444444444444444,\"#bd3786\"],[0.5555555555555556,\"#d8576b\"],[0.6666666666666666,\"#ed7953\"],[0.7777777777777778,\"#fb9f3a\"],[0.8888888888888888,\"#fdca26\"],[1.0,\"#f0f921\"]],\"type\":\"heatmapgl\"}],\"heatmap\":[{\"colorbar\":{\"outlinewidth\":0,\"ticks\":\"\"},\"colorscale\":[[0.0,\"#0d0887\"],[0.1111111111111111,\"#46039f\"],[0.2222222222222222,\"#7201a8\"],[0.3333333333333333,\"#9c179e\"],[0.4444444444444444,\"#bd3786\"],[0.5555555555555556,\"#d8576b\"],[0.6666666666666666,\"#ed7953\"],[0.7777777777777778,\"#fb9f3a\"],[0.8888888888888888,\"#fdca26\"],[1.0,\"#f0f921\"]],\"type\":\"heatmap\"}],\"histogram2dcontour\":[{\"colorbar\":{\"outlinewidth\":0,\"ticks\":\"\"},\"colorscale\":[[0.0,\"#0d0887\"],[0.1111111111111111,\"#46039f\"],[0.2222222222222222,\"#7201a8\"],[0.3333333333333333,\"#9c179e\"],[0.4444444444444444,\"#bd3786\"],[0.5555555555555556,\"#d8576b\"],[0.6666666666666666,\"#ed7953\"],[0.7777777777777778,\"#fb9f3a\"],[0.8888888888888888,\"#fdca26\"],[1.0,\"#f0f921\"]],\"type\":\"histogram2dcontour\"}],\"histogram2d\":[{\"colorbar\":{\"outlinewidth\":0,\"ticks\":\"\"},\"colorscale\":[[0.0,\"#0d0887\"],[0.1111111111111111,\"#46039f\"],[0.2222222222222222,\"#7201a8\"],[0.3333333333333333,\"#9c179e\"],[0.4444444444444444,\"#bd3786\"],[0.5555555555555556,\"#d8576b\"],[0.6666666666666666,\"#ed7953\"],[0.7777777777777778,\"#fb9f3a\"],[0.8888888888888888,\"#fdca26\"],[1.0,\"#f0f921\"]],\"type\":\"histogram2d\"}],\"histogram\":[{\"marker\":{\"pattern\":{\"fillmode\":\"overlay\",\"size\":10,\"solidity\":0.2}},\"type\":\"histogram\"}],\"mesh3d\":[{\"colorbar\":{\"outlinewidth\":0,\"ticks\":\"\"},\"type\":\"mesh3d\"}],\"parcoords\":[{\"line\":{\"colorbar\":{\"outlinewidth\":0,\"ticks\":\"\"}},\"type\":\"parcoords\"}],\"pie\":[{\"automargin\":true,\"type\":\"pie\"}],\"scatter3d\":[{\"line\":{\"colorbar\":{\"outlinewidth\":0,\"ticks\":\"\"}},\"marker\":{\"colorbar\":{\"outlinewidth\":0,\"ticks\":\"\"}},\"type\":\"scatter3d\"}],\"scattercarpet\":[{\"marker\":{\"colorbar\":{\"outlinewidth\":0,\"ticks\":\"\"}},\"type\":\"scattercarpet\"}],\"scattergeo\":[{\"marker\":{\"colorbar\":{\"outlinewidth\":0,\"ticks\":\"\"}},\"type\":\"scattergeo\"}],\"scattergl\":[{\"marker\":{\"colorbar\":{\"outlinewidth\":0,\"ticks\":\"\"}},\"type\":\"scattergl\"}],\"scattermapbox\":[{\"marker\":{\"colorbar\":{\"outlinewidth\":0,\"ticks\":\"\"}},\"type\":\"scattermapbox\"}],\"scatterpolargl\":[{\"marker\":{\"colorbar\":{\"outlinewidth\":0,\"ticks\":\"\"}},\"type\":\"scatterpolargl\"}],\"scatterpolar\":[{\"marker\":{\"colorbar\":{\"outlinewidth\":0,\"ticks\":\"\"}},\"type\":\"scatterpolar\"}],\"scatter\":[{\"fillpattern\":{\"fillmode\":\"overlay\",\"size\":10,\"solidity\":0.2},\"type\":\"scatter\"}],\"scatterternary\":[{\"marker\":{\"colorbar\":{\"outlinewidth\":0,\"ticks\":\"\"}},\"type\":\"scatterternary\"}],\"surface\":[{\"colorbar\":{\"outlinewidth\":0,\"ticks\":\"\"},\"colorscale\":[[0.0,\"#0d0887\"],[0.1111111111111111,\"#46039f\"],[0.2222222222222222,\"#7201a8\"],[0.3333333333333333,\"#9c179e\"],[0.4444444444444444,\"#bd3786\"],[0.5555555555555556,\"#d8576b\"],[0.6666666666666666,\"#ed7953\"],[0.7777777777777778,\"#fb9f3a\"],[0.8888888888888888,\"#fdca26\"],[1.0,\"#f0f921\"]],\"type\":\"surface\"}],\"table\":[{\"cells\":{\"fill\":{\"color\":\"#EBF0F8\"},\"line\":{\"color\":\"white\"}},\"header\":{\"fill\":{\"color\":\"#C8D4E3\"},\"line\":{\"color\":\"white\"}},\"type\":\"table\"}]},\"layout\":{\"annotationdefaults\":{\"arrowcolor\":\"#2a3f5f\",\"arrowhead\":0,\"arrowwidth\":1},\"autotypenumbers\":\"strict\",\"coloraxis\":{\"colorbar\":{\"outlinewidth\":0,\"ticks\":\"\"}},\"colorscale\":{\"diverging\":[[0,\"#8e0152\"],[0.1,\"#c51b7d\"],[0.2,\"#de77ae\"],[0.3,\"#f1b6da\"],[0.4,\"#fde0ef\"],[0.5,\"#f7f7f7\"],[0.6,\"#e6f5d0\"],[0.7,\"#b8e186\"],[0.8,\"#7fbc41\"],[0.9,\"#4d9221\"],[1,\"#276419\"]],\"sequential\":[[0.0,\"#0d0887\"],[0.1111111111111111,\"#46039f\"],[0.2222222222222222,\"#7201a8\"],[0.3333333333333333,\"#9c179e\"],[0.4444444444444444,\"#bd3786\"],[0.5555555555555556,\"#d8576b\"],[0.6666666666666666,\"#ed7953\"],[0.7777777777777778,\"#fb9f3a\"],[0.8888888888888888,\"#fdca26\"],[1.0,\"#f0f921\"]],\"sequentialminus\":[[0.0,\"#0d0887\"],[0.1111111111111111,\"#46039f\"],[0.2222222222222222,\"#7201a8\"],[0.3333333333333333,\"#9c179e\"],[0.4444444444444444,\"#bd3786\"],[0.5555555555555556,\"#d8576b\"],[0.6666666666666666,\"#ed7953\"],[0.7777777777777778,\"#fb9f3a\"],[0.8888888888888888,\"#fdca26\"],[1.0,\"#f0f921\"]]},\"colorway\":[\"#636efa\",\"#EF553B\",\"#00cc96\",\"#ab63fa\",\"#FFA15A\",\"#19d3f3\",\"#FF6692\",\"#B6E880\",\"#FF97FF\",\"#FECB52\"],\"font\":{\"color\":\"#2a3f5f\"},\"geo\":{\"bgcolor\":\"white\",\"lakecolor\":\"white\",\"landcolor\":\"#E5ECF6\",\"showlakes\":true,\"showland\":true,\"subunitcolor\":\"white\"},\"hoverlabel\":{\"align\":\"left\"},\"hovermode\":\"closest\",\"mapbox\":{\"style\":\"light\"},\"paper_bgcolor\":\"white\",\"plot_bgcolor\":\"#E5ECF6\",\"polar\":{\"angularaxis\":{\"gridcolor\":\"white\",\"linecolor\":\"white\",\"ticks\":\"\"},\"bgcolor\":\"#E5ECF6\",\"radialaxis\":{\"gridcolor\":\"white\",\"linecolor\":\"white\",\"ticks\":\"\"}},\"scene\":{\"xaxis\":{\"backgroundcolor\":\"#E5ECF6\",\"gridcolor\":\"white\",\"gridwidth\":2,\"linecolor\":\"white\",\"showbackground\":true,\"ticks\":\"\",\"zerolinecolor\":\"white\"},\"yaxis\":{\"backgroundcolor\":\"#E5ECF6\",\"gridcolor\":\"white\",\"gridwidth\":2,\"linecolor\":\"white\",\"showbackground\":true,\"ticks\":\"\",\"zerolinecolor\":\"white\"},\"zaxis\":{\"backgroundcolor\":\"#E5ECF6\",\"gridcolor\":\"white\",\"gridwidth\":2,\"linecolor\":\"white\",\"showbackground\":true,\"ticks\":\"\",\"zerolinecolor\":\"white\"}},\"shapedefaults\":{\"line\":{\"color\":\"#2a3f5f\"}},\"ternary\":{\"aaxis\":{\"gridcolor\":\"white\",\"linecolor\":\"white\",\"ticks\":\"\"},\"baxis\":{\"gridcolor\":\"white\",\"linecolor\":\"white\",\"ticks\":\"\"},\"bgcolor\":\"#E5ECF6\",\"caxis\":{\"gridcolor\":\"white\",\"linecolor\":\"white\",\"ticks\":\"\"}},\"title\":{\"x\":0.05},\"xaxis\":{\"automargin\":true,\"gridcolor\":\"white\",\"linecolor\":\"white\",\"ticks\":\"\",\"title\":{\"standoff\":15},\"zerolinecolor\":\"white\",\"zerolinewidth\":2},\"yaxis\":{\"automargin\":true,\"gridcolor\":\"white\",\"linecolor\":\"white\",\"ticks\":\"\",\"title\":{\"standoff\":15},\"zerolinecolor\":\"white\",\"zerolinewidth\":2}}},\"title\":{\"text\":\"Latent Distance View Space\"},\"xaxis\":{\"range\":[1.5,12],\"title\":{\"text\":\"u1\"}},\"yaxis\":{\"range\":[1.5,12],\"title\":{\"text\":\"u2\"}}},                        {\"responsive\": true}                    ).then(function(){\n",
              "                            \n",
              "var gd = document.getElementById('bdf8e283-efc3-4aba-9df4-45f17bb0aa44');\n",
              "var x = new MutationObserver(function (mutations, observer) {{\n",
              "        var display = window.getComputedStyle(gd).display;\n",
              "        if (!display || display === 'none') {{\n",
              "            console.log([gd, 'removed!']);\n",
              "            Plotly.purge(gd);\n",
              "            observer.disconnect();\n",
              "        }}\n",
              "}});\n",
              "\n",
              "// Listen for the removal of the full notebook cells\n",
              "var notebookContainer = gd.closest('#notebook-container');\n",
              "if (notebookContainer) {{\n",
              "    x.observe(notebookContainer, {childList: true});\n",
              "}}\n",
              "\n",
              "// Listen for the clearing of the current output cell\n",
              "var outputEl = gd.closest('.output');\n",
              "if (outputEl) {{\n",
              "    x.observe(outputEl, {childList: true});\n",
              "}}\n",
              "\n",
              "                        })                };                });            </script>        </div>"
            ]
          },
          "metadata": {}
        }
      ]
    },
    {
      "cell_type": "markdown",
      "source": [
        "** 다른 데이터, 다른 규칙**\n",
        "\n",
        "- EX:  PCS(주성분분석)\n",
        "- 주성분 분석(PCA)와 같은 차원 축소 기법을 사용하여 데이터를 투영할 때, 원래의 고차원 데이터에 포함된 분산의 일부만을 캡처하는 주성분을 선택하게 된다. 이 경우, 선택되지 않은 주성분에 해당하는 정보는 손실되므로, 투영된 데이터는 원래의 데이터를 완전히 복구할 수 없게 된다."
      ],
      "metadata": {
        "id": "Xz2S4b1cqgD4"
      }
    },
    {
      "cell_type": "code",
      "source": [
        "import matplotlib.pyplot as plt\n",
        "import numpy as np\n",
        "fs = 100 # 샘플률(sample rate)를 100으로 설정한다. 즉, 1초 동안 100개의 데이터 포인트(데이터 위치)를 샘플링한다.\n",
        "f = 2 # 신호의 주파수를 2Hz로 설정, 1초에 2번의 주기를 가지는 사인 웨이브를 생성\n",
        "x = np.arange(fs) # \\0부터 fs-1까지의 정수 배열을 생성해서 x축의 값들로 사용\n",
        "y = [ np.sin(2*np.pi*f * (i/fs)) for i in x]\n",
        " #2*np.pi*f는 사인 함수의 주기를 조절,\n",
        " # (i/fs)는 각 샘플 포인트를 시간 단위로 변환.\n",
        " # 결과적으로 이 식은 주파수 f의 사인 웨이브를 생성\n",
        "%matplotlib inline\n",
        "plt.figure(figsize=(15,4))\n",
        "plt.stem(x,y, 'r', );\n",
        "plt.plot(x,y);"
      ],
      "metadata": {
        "colab": {
          "base_uri": "https://localhost:8080/",
          "height": 238
        },
        "id": "wQg0qJpw9JPt",
        "outputId": "0b613d39-4a92-4129-d657-7da151e9a42b"
      },
      "execution_count": null,
      "outputs": [
        {
          "output_type": "display_data",
          "data": {
            "text/plain": [
              "<Figure size 1500x400 with 1 Axes>"
            ],
            "image/png": "[encoded data removed]"
          },
          "metadata": {}
        }
      ]
    },
    {
      "cell_type": "markdown",
      "source": [
        "- 데이터의 차원을 축소하거나 데이터를 다른 공간으로 투영할 때 항상 정보의 손실이 발생할 수 있다.\n",
        "- 원본 데이터의 모든 정보를 완전히 유지하면서 차원을 줄이는 것은 불가능하다.\n",
        "- 예를 들어, 3차원의 데이터를 2차원 평면으로 투영하면, 그 투영된 데이터만으로는 원래 3차원의 위치를 완벽히 알아낼 수 없다.\n",
        "    - (데이터를 다른 공간으로 투영한다\"는 말은 데이터를 원래의 차원 또는 표현에서 다른 차원 또는 표현으로 변환한다는 의미)\n",
        "        - 3D 객체의 그림자는 2D 평면에 표시됩니다. 이렇게 3D 객체의 정보를 2D로 표현하는 것을 '투영’)\n",
        "- 같은 방식으로, 데이터를 압축하거나 인코딩할 때도 정보의 일부가 손실될 수 있다.\n",
        "- 이러한 정보 손실은 차원축소나 데이터 압축과 같은 기술을 사용할 때 항상 고려해야 하는 중요한 문제점이다.\n",
        "- 따라서 어떤 방법을 사용하든지, 그 방법의 장단점과 그로 인한 정보 손실에 대해 충분히 이해하고 있어야 한다."
      ],
      "metadata": {
        "id": "9SBvESpuqmme"
      }
    },
    {
      "cell_type": "markdown",
      "source": [
        "# **오토인코더(AutoEncoder) 실행**"
      ],
      "metadata": {
        "id": "RN-icpY2FK7M"
      }
    },
    {
      "cell_type": "markdown",
      "source": [
        "# UseCase 1 : Image Reconstruction"
      ],
      "metadata": {
        "id": "CZ1HNpmrVi3W"
      }
    },
    {
      "cell_type": "code",
      "source": [
        "##필요한 라이브러리 가져오기\n",
        "from keras.layers import Dense, Input, Conv2D, LSTM, MaxPool2D, UpSampling2D\n",
        "from sklearn.model_selection import train_test_split\n",
        "from keras.callbacks import EarlyStopping\n",
        "from keras.utils import to_categorical\n",
        "from numpy import argmax, array_equal\n",
        "import matplotlib.pyplot as plt\n",
        "from keras.models import Model\n",
        "from imgaug import augmenters\n",
        "from random import randint\n",
        "import pandas as pd\n",
        "import numpy as np\n"
      ],
      "metadata": {
        "id": "fYHkXsa5-GNa"
      },
      "execution_count": null,
      "outputs": []
    },
    {
      "cell_type": "code",
      "source": [
        "from google.colab import drive\n",
        "drive.mount('/content/drive/')"
      ],
      "metadata": {
        "colab": {
          "base_uri": "https://localhost:8080/"
        },
        "id": "pjNtVVad_VMO",
        "outputId": "4a119573-3870-4fb8-8475-cdaf1148236e"
      },
      "execution_count": null,
      "outputs": [
        {
          "output_type": "stream",
          "name": "stdout",
          "text": [
            "Mounted at /content/drive/\n"
          ]
        }
      ]
    },
    {
      "cell_type": "markdown",
      "source": [
        "**데이터 전처리**\n",
        "\n",
        "\n",
        "CSV 데이터셋을 읽어온 후 특성과 레이블을 분리하고 특성을 정규화한 다음,\n",
        "\n",
        "데이터를 훈련 및 검증 데이터로 분할하고 입력 데이터를 기계 학습 모델에서 사용할 수 있도록 준비하는 과정을 수행"
      ],
      "metadata": {
        "id": "1scBbYLSYlZG"
      }
    },
    {
      "cell_type": "code",
      "source": [
        "### 데이터셋\n",
        "train = pd.read_csv('/content/drive/My Drive/Colab Notebooks/fashion-mnist_test.csv')\n",
        "\n",
        "## 예측 변수와 타깃 분리\n",
        "train_x = train[list(train.columns)[1:]].values\n",
        "train_y = train['label'].values\n",
        "\n",
        "## 예측 변수 정규화(예측 변수의 값을 255로 나누어 정규화, 이미지 데이터의 픽셀 값을 [0, 1] 범위로 스케일링)\n",
        "train_x = train_x / 255\n",
        "\n",
        "## 훈련 및 검증 데이터셋 생성\n",
        "train_x, val_x, train_y, val_y = train_test_split(train_x, train_y, test_size=0.2)\n",
        "##train_test_split 함수를 사용, 훈련데이터 80%, 검증데이터 20%\n",
        "\n",
        "## 입력 데이터 재구성\n",
        "train_x = train_x.reshape(-1, 784)\n",
        "val_x = val_x.reshape(-1, 784)\n",
        "##  784는 일반적으로 28x28 픽셀 이미지에 사용\n",
        "## -1은 해당 차원의 크기가 데이터 크기를 기반으로 자동으로 결정\n"
      ],
      "metadata": {
        "id": "dMsOAu42-OVw"
      },
      "execution_count": null,
      "outputs": []
    },
    {
      "cell_type": "markdown",
      "source": [
        "**오토인코더 구조 만들기**\n",
        "\n",
        "3개 레이어로 구성 (2000, 1200, 500 노드)\n",
        "\n",
        "인코딩 구조는 잠재 공간에 10개의 노드로 연결되고, 이 10개는 다시 각각 500, 1200, 2000개의 노드로 구성된 3개의 디코딩 구조로 연결"
      ],
      "metadata": {
        "id": "LwyQuhReFaDd"
      }
    },
    {
      "cell_type": "markdown",
      "source": [
        " Keras를 사용하여 인코더-디코더 구조의 오토인코더(Autoencoder) 신경망 모델을 정의"
      ],
      "metadata": {
        "id": "bl3y8MIbY0SE"
      }
    },
    {
      "cell_type": "code",
      "source": [
        "## Input 레이어 정의\n",
        "input_layer = Input(shape=(784,))\n",
        "\n",
        "## 인코딩 아키텍처 정의 :500, 1000, 500개의 뉴런으로 구성된 완전 연결(Dense) 레이어\n",
        "encode_layer1 = Dense(1500, activation='relu')(input_layer)\n",
        "encode_layer2 = Dense(1000, activation='relu')(encode_layer1)\n",
        "encode_layer3 = Dense(500, activation='relu')(encode_layer2)\n",
        "### 각 레이어의 활성화 함수는 ReLU(Rectified Linear Unit)로 설정\n",
        "### 이는 비선형성을 도입하고, 모델이 비선형 데이터 패턴을 학습\n",
        "\n",
        "# 잠재공간(Latent View) 레이어 정의\n",
        "latent_view   = Dense(10, activation='sigmoid')(encode_layer3)\n",
        "## 10개의 뉴런을 가진 완전 연결 레이어로 정의\n",
        "## Sigmoid 함수가 사용\n",
        "\n",
        "## 디코딩 아키텍처 정의 : 각각 500, 1000, 1500개의 뉴런으로 구성된 완전 연결 레이어\n",
        "decode_layer1 = Dense(500, activation='relu')(latent_view)\n",
        "decode_layer2 = Dense(1000, activation='relu')(decode_layer1)\n",
        "decode_layer3 = Dense(1500, activation='relu')(decode_layer2)\n",
        "\n",
        "## output_layer 정의\n",
        "output_layer  = Dense(784)(decode_layer3)\n",
        "\n",
        "##전체 모델 구성 : 입력 레이어와 출력 레이어를 사용하여 전체 오토인코더 모델 생성\n",
        "model = Model(input_layer, output_layer)"
      ],
      "metadata": {
        "id": "NkiaXjBACyBH"
      },
      "execution_count": null,
      "outputs": []
    },
    {
      "cell_type": "code",
      "source": [
        "##모델확인\n",
        "model.summary()\n",
        "\n",
        "##이 모델을 훈련시켜 입력 데이터의 압축된 표현을 학습하고,\n",
        "##이를 사용하여 데이터 복원 및 다양한 응용 프로그램을 위해 사용"
      ],
      "metadata": {
        "colab": {
          "base_uri": "https://localhost:8080/"
        },
        "id": "NXaHQ0WLGTXE",
        "outputId": "11b673be-3854-422f-b02a-169a433b0248"
      },
      "execution_count": null,
      "outputs": [
        {
          "output_type": "stream",
          "name": "stdout",
          "text": [
            "Model: \"model\"\n",
            "_________________________________________________________________\n",
            " Layer (type)                Output Shape              Param #   \n",
            "=================================================================\n",
            " input_1 (InputLayer)        [(None, 784)]             0         \n",
            "                                                                 \n",
            " dense (Dense)               (None, 1500)              1177500   \n",
            "                                                                 \n",
            " dense_1 (Dense)             (None, 1000)              1501000   \n",
            "                                                                 \n",
            " dense_2 (Dense)             (None, 500)               500500    \n",
            "                                                                 \n",
            " dense_3 (Dense)             (None, 10)                5010      \n",
            "                                                                 \n",
            " dense_4 (Dense)             (None, 500)               5500      \n",
            "                                                                 \n",
            " dense_5 (Dense)             (None, 1000)              501000    \n",
            "                                                                 \n",
            " dense_6 (Dense)             (None, 1500)              1501500   \n",
            "                                                                 \n",
            " dense_7 (Dense)             (None, 784)               1176784   \n",
            "                                                                 \n",
            "=================================================================\n",
            "Total params: 6368794 (24.30 MB)\n",
            "Trainable params: 6368794 (24.30 MB)\n",
            "Non-trainable params: 0 (0.00 Byte)\n",
            "_________________________________________________________________\n"
          ]
        }
      ]
    },
    {
      "cell_type": "markdown",
      "source": [
        "**초기학습종료를 이용하여 훈련**"
      ],
      "metadata": {
        "id": "JeXw9VWjbQOD"
      }
    },
    {
      "cell_type": "code",
      "source": [
        "#(오토인코더 모델을 컴파인하고 훈련하는 부분)\n",
        "\n",
        "##오토인코더 모델을 컴파일\n",
        "model.compile(optimizer='adam', loss='mse')\n",
        "##옵티마이저로 'Adam'을 사용하는데 Adam은 경사 하강법 알고리즘의 변형 중 하나로,\n",
        "##모델을 효과적으로 최적화하는 데 사용\n",
        "##손실 함수로 'Mean Squared Error' (평균 제곱 오차)를 사용\n",
        "##모델의 출력과 원래 입력 간의 평균 제곱 차이를 최소화\n",
        "\n",
        "##조기 중지(Early Stopping) 콜백 설정\n",
        "early_stopping = EarlyStopping(monitor='val_loss', min_delta=0, patience=10, verbose=1, mode='auto')\n",
        "##검증 데이터의 손실 값을 모니터링하고, 이 손실이 줄어들다가 증가하기 시작하면 훈련을 중지\n",
        "##검증 손실이 개선되지 않는 에포크 수가 10으로 설정되어 있으므로,\n",
        "##10 에포크 동안 손실이 향상되지 않으면 훈련이 중지\n",
        "\n",
        "##모델 훈련\n",
        "model.fit(train_x, train_x, epochs=20, batch_size=2048, validation_data=(val_x, val_x), callbacks=[early_stopping])\n",
        "\n",
        "##입력과 출력이 동일한 데이터인 경우, 모델을 자기자신에게 학습시키는 오토인코더의 특성을 활용\n",
        "##전체 데이터셋을 20번 반복하여 훈련, 미니 배치 크기는 2048로 설정\n",
        "##검증 데이터는 val_x로 설정하고, 훈련 중 모델의 성능을 평가\n",
        "##검증 손실이 향상되지 않으면 훈련이 중지"
      ],
      "metadata": {
        "colab": {
          "base_uri": "https://localhost:8080/"
        },
        "id": "f17h7zDtGYZj",
        "outputId": "147655e8-3234-443a-dde6-def66408f2dc"
      },
      "execution_count": null,
      "outputs": [
        {
          "output_type": "stream",
          "name": "stdout",
          "text": [
            "Epoch 1/20\n",
            "4/4 [==============================] - 7s 1s/step - loss: 0.1614 - val_loss: 0.1197\n",
            "Epoch 2/20\n",
            "4/4 [==============================] - 8s 2s/step - loss: 0.0960 - val_loss: 0.0909\n",
            "Epoch 3/20\n",
            "4/4 [==============================] - 5s 1s/step - loss: 0.0881 - val_loss: 0.0817\n",
            "Epoch 4/20\n",
            "4/4 [==============================] - 6s 2s/step - loss: 0.0790 - val_loss: 0.0743\n",
            "Epoch 5/20\n",
            "4/4 [==============================] - 5s 1s/step - loss: 0.0742 - val_loss: 0.0726\n",
            "Epoch 6/20\n",
            "4/4 [==============================] - 5s 1s/step - loss: 0.0721 - val_loss: 0.0708\n",
            "Epoch 7/20\n",
            "4/4 [==============================] - 7s 2s/step - loss: 0.0698 - val_loss: 0.0681\n",
            "Epoch 8/20\n",
            "4/4 [==============================] - 5s 1s/step - loss: 0.0676 - val_loss: 0.0665\n",
            "Epoch 9/20\n",
            "4/4 [==============================] - 5s 1s/step - loss: 0.0660 - val_loss: 0.0641\n",
            "Epoch 10/20\n",
            "4/4 [==============================] - 6s 1s/step - loss: 0.0641 - val_loss: 0.0625\n",
            "Epoch 11/20\n",
            "4/4 [==============================] - 5s 1s/step - loss: 0.0616 - val_loss: 0.0586\n",
            "Epoch 12/20\n",
            "4/4 [==============================] - 6s 2s/step - loss: 0.0581 - val_loss: 0.0560\n",
            "Epoch 13/20\n",
            "4/4 [==============================] - 5s 1s/step - loss: 0.0555 - val_loss: 0.0531\n",
            "Epoch 14/20\n",
            "4/4 [==============================] - 5s 1s/step - loss: 0.0529 - val_loss: 0.0508\n",
            "Epoch 15/20\n",
            "4/4 [==============================] - 9s 3s/step - loss: 0.0502 - val_loss: 0.0489\n",
            "Epoch 16/20\n",
            "4/4 [==============================] - 5s 1s/step - loss: 0.0481 - val_loss: 0.0463\n",
            "Epoch 17/20\n",
            "4/4 [==============================] - 9s 3s/step - loss: 0.0460 - val_loss: 0.0443\n",
            "Epoch 18/20\n",
            "4/4 [==============================] - 5s 1s/step - loss: 0.0444 - val_loss: 0.0435\n",
            "Epoch 19/20\n",
            "4/4 [==============================] - 6s 2s/step - loss: 0.0434 - val_loss: 0.0421\n",
            "Epoch 20/20\n",
            "4/4 [==============================] - 6s 1s/step - loss: 0.0422 - val_loss: 0.0414\n"
          ]
        },
        {
          "output_type": "execute_result",
          "data": {
            "text/plain": [
              "<keras.src.callbacks.History at 0x7cefc96db0a0>"
            ]
          },
          "metadata": {},
          "execution_count": 9
        }
      ]
    },
    {
      "cell_type": "markdown",
      "source": [
        "**검증 데이터에 예측을 생성**"
      ],
      "metadata": {
        "id": "oWdKXWU6JTiy"
      }
    },
    {
      "cell_type": "code",
      "source": [
        "preds = model.predict(val_x)"
      ],
      "metadata": {
        "colab": {
          "base_uri": "https://localhost:8080/"
        },
        "id": "S2NGBLXYJUbY",
        "outputId": "33c3d223-49af-4350-a1f7-cd30ed746538"
      },
      "execution_count": null,
      "outputs": [
        {
          "output_type": "stream",
          "name": "stdout",
          "text": [
            "63/63 [==============================] - 1s 15ms/step\n"
          ]
        }
      ]
    },
    {
      "cell_type": "markdown",
      "source": [
        "**원본 이미지와 예측 이미지를 그리기**"
      ],
      "metadata": {
        "id": "HbkF4ZRXJXXE"
      }
    },
    {
      "cell_type": "code",
      "source": [
        "##원본 이미지\n",
        "##이미지 데이터를 시각적으로 검토하고, 모델의 입력 또는 출력 이미지를 확인\n",
        "\n",
        "from PIL import Image\n",
        "f, ax = plt.subplots(1,5) ##1x5 그리드 형태로 5개의 서브플롯(서브 그래프)을 생성\n",
        "f.set_size_inches(80, 40) ##그림(플롯)의 크기를 설정, 가로 80 단위, 세로 40 단위\n",
        "for i in range(5): ## 0부터 4까지의 숫자를 반복\n",
        "    ax[i].imshow(val_x[i].reshape(28, 28))\n",
        "\n",
        "##각 서브플롯(ax[i])에 이미지를 표시합니다. val_x[i]는 검증 데이터의 i번째 이미지를 나타내며,\n",
        "## .reshape(28, 28)를 사용하여 이미지를 28x28 크기로 변형\n",
        "\n",
        "plt.show()"
      ],
      "metadata": {
        "colab": {
          "base_uri": "https://localhost:8080/",
          "height": 155
        },
        "id": "JIzZskAGJYlM",
        "outputId": "d79e4b60-2c23-442a-d3c8-66192a56f510"
      },
      "execution_count": null,
      "outputs": [
        {
          "output_type": "display_data",
          "data": {
            "text/plain": [
              "<Figure size 8000x4000 with 5 Axes>"
            ],
            "image/png": "[encoded data removed]"
          },
          "metadata": {}
        }
      ]
    },
    {
      "cell_type": "code",
      "source": [
        "## 예측 이미지\n",
        "f, ax = plt.subplots(1,5)\n",
        "f.set_size_inches(80, 40)\n",
        "for i in range(5):\n",
        "    ax[i].imshow(preds[i].reshape(28, 28))\n",
        "plt.show()\n",
        "## 20 epochs 만으로 입력 이미지를 다시 잘 구성하는 것을 확인"
      ],
      "metadata": {
        "colab": {
          "base_uri": "https://localhost:8080/",
          "height": 155
        },
        "id": "3vCc4ItCJfJH",
        "outputId": "a1e2571e-f190-45fe-b8ac-ddee5a5c590d"
      },
      "execution_count": null,
      "outputs": [
        {
          "output_type": "display_data",
          "data": {
            "text/plain": [
              "<Figure size 8000x4000 with 5 Axes>"
            ],
            "image/png": "[encoded data removed]"
          },
          "metadata": {}
        }
      ]
    },
    {
      "cell_type": "markdown",
      "source": [
        "# UseCase 2 - Image Denoising"
      ],
      "metadata": {
        "id": "vHm0QHDNKgPM"
      }
    },
    {
      "cell_type": "code",
      "source": [
        "# 노이즈제거\n",
        "## 데이터셋 생성\n",
        "##recreate the train_x array and val_x array\n",
        "train_x = train[list(train.columns)[1:]].values\n",
        "\n",
        "## 데이터를 훈련 및 검증 데이터로 다시 나누기\n",
        "train_x, val_x = train_test_split(train_x, test_size=0.2)\n",
        "##이터의 80%가 훈련 데이터(train_x)로 할당되고, 나머지 20%가 검증 데이터(val_x)로 할당\n",
        "\n",
        "## 데이터 정규화(255로 나누면 0에서 255 범위의 값을 0에서 1 범위로 변환)\n",
        "train_x = train_x/255.\n",
        "val_x = val_x/255."
      ],
      "metadata": {
        "id": "4oNsYa3FKqL4"
      },
      "execution_count": null,
      "outputs": []
    },
    {
      "cell_type": "markdown",
      "source": [
        " convolutional layer을 추가하기 위해서, 28 * 28 matrix로 reshape"
      ],
      "metadata": {
        "id": "_aZf78apLDdP"
      }
    },
    {
      "cell_type": "code",
      "source": [
        "train_x = train_x.reshape(-1, 28, 28, 1)\n",
        "val_x = val_x.reshape(-1, 28, 28, 1)"
      ],
      "metadata": {
        "id": "zKIGebN_LIQO"
      },
      "execution_count": null,
      "outputs": []
    },
    {
      "cell_type": "markdown",
      "source": [
        "**Noisy Images**\n",
        "\n",
        "의도적으로 이미지에 노이즈를 추가도 가능함\n",
        "\n",
        "이미지를 보완하는 imaug 패키지를 이용하여, 반대로 이미지에 노이즈 생성도 가능함\n",
        "\n",
        "노이즈 종류\n",
        "\n",
        "Salt and Pepper Noise\n",
        "\n",
        "Gaussian Noise\n",
        "\n",
        "Periodic Noise\n",
        "\n",
        "Speckle Noise\n",
        "\n",
        "\n",
        "impulse noise라고 불리는 Salt and Pepper Noise를 사용\n",
        " 이 노이즈는 선명하고 갑작스러운 노이즈를 생성\n",
        " 희소하게 검정/흰 픽셀을 생성"
      ],
      "metadata": {
        "id": "hB24hQleOJ1c"
      }
    },
    {
      "cell_type": "code",
      "source": [
        "## Salt and Pepper 노이즈 생성:\n",
        "noise = augmenters.SaltAndPepper(0.1)\n",
        "##. 0.1은 잡음의 강도 또는 비율을 나타내며, 여기서는 10%의 픽셀에 노이즈가 추가\n",
        "\n",
        "##데이터 증강(augmentation) 시퀀스를 정의\n",
        "seq_object = augmenters.Sequential([noise])\n",
        "\n",
        "##훈련 및 검증 데이터에 노이즈 적용\n",
        "train_x_n = seq_object.augment_images(train_x * 255) / 255\n",
        "val_x_n = seq_object.augment_images(val_x * 255) / 255\n"
      ],
      "metadata": {
        "id": "MVfIp3WBOop6"
      },
      "execution_count": null,
      "outputs": []
    },
    {
      "cell_type": "code",
      "source": [
        "## 노이즈 생성전\n",
        "f, ax = plt.subplots(1,5)\n",
        "f.set_size_inches(80, 40)\n",
        "for i in range(5,10):\n",
        "    ax[i-5].imshow(train_x[i].reshape(28, 28))\n",
        "plt.show()"
      ],
      "metadata": {
        "colab": {
          "base_uri": "https://localhost:8080/",
          "height": 155
        },
        "id": "bMNK4al3PW__",
        "outputId": "d742f86f-8340-4181-f33d-748857791da1"
      },
      "execution_count": null,
      "outputs": [
        {
          "output_type": "display_data",
          "data": {
            "text/plain": [
              "<Figure size 8000x4000 with 5 Axes>"
            ],
            "image/png": "[encoded data removed]"
          },
          "metadata": {}
        }
      ]
    },
    {
      "cell_type": "code",
      "source": [
        "##노이즈 생성 후\n",
        "f, ax = plt.subplots(1,5)\n",
        "f.set_size_inches(80, 40)\n",
        "for i in range(5,10):\n",
        "    ax[i-5].imshow(train_x_n[i].reshape(28, 28))\n",
        "plt.show()"
      ],
      "metadata": {
        "colab": {
          "base_uri": "https://localhost:8080/",
          "height": 155
        },
        "id": "S8NKQLXKP0ed",
        "outputId": "3a2b74a5-fc25-48fc-c936-9793655066e4"
      },
      "execution_count": null,
      "outputs": [
        {
          "output_type": "display_data",
          "data": {
            "text/plain": [
              "<Figure size 8000x4000 with 5 Axes>"
            ],
            "image/png": "[encoded data removed]"
          },
          "metadata": {}
        }
      ]
    },
    {
      "cell_type": "markdown",
      "source": [
        "**오토인코더 모델 생성**"
      ],
      "metadata": {
        "id": "BBBCH9TyQSUV"
      }
    },
    {
      "cell_type": "markdown",
      "source": [
        "**Encoding Architecture**\n",
        "\n",
        "인코딩 구조는 3개의 Convolutional Layer과 3개의\n",
        "\n",
        "Max Pooling 레이어를 하나하나 쌓아 구성\n",
        "\n",
        "Relu를 활성화함수로 사용하고, same 매개변수로 이미지 크기를 패딩을 통해 유지\n",
        "\n",
        "**Max pooling layer**의 역할은 이미지 차원을 다운샘플링하기 위해 사용\n",
        "\n",
        "이 레이어는 초기 표현의 겹치지 않는 부분 영역에 최대 필터를 적용\n",
        "\n",
        "**Decoding Architecture**\n",
        "\n",
        "디코딩 구조에서도 거의 유사하게 3개의 Convolutional Layer를 사용\n",
        "\n",
        "하지만 Max Pooling layer 3개 대신에 unsampling layer 3개를 사용\n",
        "\n",
        "활성화함수와 패딩은 인코딩과 동일\n",
        "\n",
        "\n",
        "**Unsampling layer**의 역할은 입력 벡터를 더 높은 차원으로 업샘플링하기 위해 사용\n",
        "\n",
        "Max pooling 연산은 비가역이지만, 각 풀링 영역 내에 최대 값의 위치를 기록함으로써 근사 역을 구할 수 있음\n",
        "\n",
        "Umsampling 레이어는 이 속성을 사용하여 낮은 차원의 특징 공간에서 재구성합니다."
      ],
      "metadata": {
        "id": "4wg9BF0OQah1"
      }
    },
    {
      "cell_type": "code",
      "source": [
        "# input layer 정의\n",
        "input_layer = Input(shape=(28, 28, 1))\n",
        "##입력 이미지의 크기는 28x28 픽셀이며, 채널(channel) 수는 1로 설정\n",
        "##MNIST와 같은 흑백 이미지 데이터를 처리하기 위해 채널 수가 1로 설정\n",
        "\n",
        "# 인코딩 아키텍처 (Encoding Architecture) 정의 ;컨볼루션 레이어와 Max Pooling 레이어로 구성\n",
        "encoded_layer1 = Conv2D(64, (3, 3), activation='relu', padding='same')(input_layer)\n",
        "encoded_layer1 = MaxPool2D( (2, 2), padding='same')(encoded_layer1)\n",
        "encoded_layer2 = Conv2D(32, (3, 3), activation='relu', padding='same')(encoded_layer1)\n",
        "encoded_layer2 = MaxPool2D( (2, 2), padding='same')(encoded_layer2)\n",
        "encoded_layer3 = Conv2D(16, (3, 3), activation='relu', padding='same')(encoded_layer2)\n",
        "latent_view    = MaxPool2D( (2, 2), padding='same')(encoded_layer3)\n",
        "##ReLU(활성화 함수)를 사용하여 비선형성을 도입하고, 컨볼루션 필터로 이미지의 특징을 추출\n",
        "\n",
        "# 디코딩 아키텍처 (Decoding Architecture) 정의 ; 컨볼루션 레이어와 UpSampling 레이어로 구성\n",
        "decoded_layer1 = Conv2D(16, (3, 3), activation='relu', padding='same')(latent_view)\n",
        "decoded_layer1 = UpSampling2D((2, 2))(decoded_layer1)\n",
        "decoded_layer2 = Conv2D(32, (3, 3), activation='relu', padding='same')(decoded_layer1)\n",
        "decoded_layer2 = UpSampling2D((2, 2))(decoded_layer2)\n",
        "decoded_layer3 = Conv2D(64, (3, 3), activation='relu')(decoded_layer2)\n",
        "decoded_layer3 = UpSampling2D((2, 2))(decoded_layer3)\n",
        "output_layer   = Conv2D(1, (3, 3), padding='same')(decoded_layer3)\n",
        "\n",
        "# 전체 오토인코더 모델을 생성\n",
        "model_2 = Model(input_layer, output_layer)\n",
        "model_2.compile(optimizer='adam', loss='mse')"
      ],
      "metadata": {
        "id": "ulVqznBDQVgW"
      },
      "execution_count": null,
      "outputs": []
    },
    {
      "cell_type": "code",
      "source": [
        "model_2.summary()"
      ],
      "metadata": {
        "colab": {
          "base_uri": "https://localhost:8080/"
        },
        "id": "g7ok7GDAQdHh",
        "outputId": "a88f3066-70b3-4ac5-d20d-22ee0b7fae48"
      },
      "execution_count": null,
      "outputs": [
        {
          "output_type": "stream",
          "name": "stdout",
          "text": [
            "Model: \"model_1\"\n",
            "_________________________________________________________________\n",
            " Layer (type)                Output Shape              Param #   \n",
            "=================================================================\n",
            " input_2 (InputLayer)        [(None, 28, 28, 1)]       0         \n",
            "                                                                 \n",
            " conv2d (Conv2D)             (None, 28, 28, 64)        640       \n",
            "                                                                 \n",
            " max_pooling2d (MaxPooling2  (None, 14, 14, 64)        0         \n",
            " D)                                                              \n",
            "                                                                 \n",
            " conv2d_1 (Conv2D)           (None, 14, 14, 32)        18464     \n",
            "                                                                 \n",
            " max_pooling2d_1 (MaxPoolin  (None, 7, 7, 32)          0         \n",
            " g2D)                                                            \n",
            "                                                                 \n",
            " conv2d_2 (Conv2D)           (None, 7, 7, 16)          4624      \n",
            "                                                                 \n",
            " max_pooling2d_2 (MaxPoolin  (None, 4, 4, 16)          0         \n",
            " g2D)                                                            \n",
            "                                                                 \n",
            " conv2d_3 (Conv2D)           (None, 4, 4, 16)          2320      \n",
            "                                                                 \n",
            " up_sampling2d (UpSampling2  (None, 8, 8, 16)          0         \n",
            " D)                                                              \n",
            "                                                                 \n",
            " conv2d_4 (Conv2D)           (None, 8, 8, 32)          4640      \n",
            "                                                                 \n",
            " up_sampling2d_1 (UpSamplin  (None, 16, 16, 32)        0         \n",
            " g2D)                                                            \n",
            "                                                                 \n",
            " conv2d_5 (Conv2D)           (None, 14, 14, 64)        18496     \n",
            "                                                                 \n",
            " up_sampling2d_2 (UpSamplin  (None, 28, 28, 64)        0         \n",
            " g2D)                                                            \n",
            "                                                                 \n",
            " conv2d_6 (Conv2D)           (None, 28, 28, 1)         577       \n",
            "                                                                 \n",
            "=================================================================\n",
            "Total params: 49761 (194.38 KB)\n",
            "Trainable params: 49761 (194.38 KB)\n",
            "Non-trainable params: 0 (0.00 Byte)\n",
            "_________________________________________________________________\n"
          ]
        }
      ]
    },
    {
      "cell_type": "markdown",
      "source": [
        "조기 학습 종료로 훈련\n",
        "(더 좋은 결과를 원한다면 epochs 수를 늘리면 됌)\n",
        "\n",
        " 오토인코더 모델을 훈련하면서 검증 데이터의 손실을 모니터링하며, 손실이 개선되지 않으면 조기 종료하여 불필요한 훈련을 방지"
      ],
      "metadata": {
        "id": "A7eXzUfGQezu"
      }
    },
    {
      "cell_type": "code",
      "source": [
        "# EarlyStopping 콜백(callback)을 설정\n",
        "early_stopping = EarlyStopping(monitor='val_loss', min_delta=0, patience=10, verbose=5, mode='auto')\n",
        "##모니터링할 지표로 검증 데이터의 손실을 사용\n",
        "## 10 에포크 동안 개선되지 않을 경우 훈련이 중지\n",
        "##중간 결과를 출력하는 방식을 설정합니다. 여기서는 5로 설정하여 중간 결과를 자세하게 출력\n",
        "##최소화하려는 지표를 자동으로 결정\n",
        "\n",
        "# 모델을 훈련하고 히스토리(학습 곡선) 정보를 저장\n",
        "history = model_2.fit(train_x_n, train_x, epochs=20, batch_size=2048, validation_data=(val_x_n, val_x),\n",
        "                      callbacks=[early_stopping])\n",
        "##train_x_n은 노이즈가 추가된 훈련 데이터\n",
        "## 20 에포크 동안 모델을 훈련하겠다는 것을 의미\n",
        "##batch_sizesms 한 번의 반복(iteration)에서 처리되는 데이터의 미니배치 크기를 설정"
      ],
      "metadata": {
        "colab": {
          "base_uri": "https://localhost:8080/"
        },
        "id": "3yGonHSsQthZ",
        "outputId": "85fbe1a0-6e41-42f9-f5dd-1be3c791eba4"
      },
      "execution_count": null,
      "outputs": [
        {
          "output_type": "stream",
          "name": "stdout",
          "text": [
            "Epoch 1/20\n",
            "4/4 [==============================] - 30s 8s/step - loss: 0.1701 - val_loss: 0.1024\n",
            "Epoch 2/20\n",
            "4/4 [==============================] - 29s 7s/step - loss: 0.1066 - val_loss: 0.0935\n",
            "Epoch 3/20\n",
            "4/4 [==============================] - 36s 10s/step - loss: 0.0949 - val_loss: 0.0854\n",
            "Epoch 4/20\n",
            "4/4 [==============================] - 29s 7s/step - loss: 0.0780 - val_loss: 0.0739\n",
            "Epoch 5/20\n",
            "4/4 [==============================] - 29s 7s/step - loss: 0.0668 - val_loss: 0.0639\n",
            "Epoch 6/20\n",
            "4/4 [==============================] - 29s 7s/step - loss: 0.0583 - val_loss: 0.0558\n",
            "Epoch 7/20\n",
            "4/4 [==============================] - 30s 7s/step - loss: 0.0528 - val_loss: 0.0497\n",
            "Epoch 8/20\n",
            "4/4 [==============================] - 29s 7s/step - loss: 0.0481 - val_loss: 0.0448\n",
            "Epoch 9/20\n",
            "4/4 [==============================] - 29s 7s/step - loss: 0.0443 - val_loss: 0.0428\n",
            "Epoch 10/20\n",
            "4/4 [==============================] - 30s 7s/step - loss: 0.0419 - val_loss: 0.0410\n",
            "Epoch 11/20\n",
            "4/4 [==============================] - 31s 8s/step - loss: 0.0397 - val_loss: 0.0380\n",
            "Epoch 12/20\n",
            "4/4 [==============================] - 29s 8s/step - loss: 0.0375 - val_loss: 0.0369\n",
            "Epoch 13/20\n",
            "4/4 [==============================] - 34s 9s/step - loss: 0.0362 - val_loss: 0.0356\n",
            "Epoch 14/20\n",
            "4/4 [==============================] - 30s 7s/step - loss: 0.0351 - val_loss: 0.0344\n",
            "Epoch 15/20\n",
            "4/4 [==============================] - 29s 7s/step - loss: 0.0342 - val_loss: 0.0337\n",
            "Epoch 16/20\n",
            "4/4 [==============================] - 30s 7s/step - loss: 0.0333 - val_loss: 0.0331\n",
            "Epoch 17/20\n",
            "4/4 [==============================] - 29s 7s/step - loss: 0.0327 - val_loss: 0.0323\n",
            "Epoch 18/20\n",
            "4/4 [==============================] - 28s 7s/step - loss: 0.0320 - val_loss: 0.0316\n",
            "Epoch 19/20\n",
            "4/4 [==============================] - 29s 7s/step - loss: 0.0313 - val_loss: 0.0310\n",
            "Epoch 20/20\n",
            "4/4 [==============================] - 29s 7s/step - loss: 0.0307 - val_loss: 0.0304\n"
          ]
        }
      ]
    },
    {
      "cell_type": "code",
      "source": [
        "##노이즈 적용된 검증 데이터\n",
        "\n",
        "# 새로운 그림(플롯)을 생성하고 서브플롯을 설정\n",
        "f, ax = plt.subplots(1, 5)\n",
        "f.set_size_inches(80, 40)\n",
        "\n",
        "# 5부터 9까지의 인덱스를 사용하여 이미지 표시 루프를 실행\n",
        "for i in range(5, 10):\n",
        "    # 각 서브플롯(ax[i-5])에 노이즈가 추가된 검증 데이터 이미지 표시\n",
        "    ax[i-5].imshow(val_x_n[i].reshape(28, 28))\n",
        "\n",
        "# 그림(플롯)을 표시\n",
        "plt.show()"
      ],
      "metadata": {
        "colab": {
          "base_uri": "https://localhost:8080/",
          "height": 155
        },
        "id": "exnSNUM2Qvw9",
        "outputId": "e5cad84b-98e9-4cd6-ccdd-bca339f5cf42"
      },
      "execution_count": null,
      "outputs": [
        {
          "output_type": "display_data",
          "data": {
            "text/plain": [
              "<Figure size 8000x4000 with 5 Axes>"
            ],
            "image/png": "[encoded data removed]"
          },
          "metadata": {}
        }
      ]
    },
    {
      "cell_type": "code",
      "source": [
        "##노이즈를 없앤 오토인코딩 후 검증 데이터\n",
        "\n",
        "# 모델을 사용하여 노이즈를 없앤 검증 데이터 이미지(10개)를 재구성\n",
        "preds = model_2.predict(val_x_n[:10])\n",
        "\n",
        "# 새로운 그림(플롯)을 생성하고 서브플롯을 설정\n",
        "f, ax = plt.subplots(1, 5)\n",
        "f.set_size_inches(80, 40)\n",
        "\n",
        "# 5부터 9까지의 인덱스를 사용하여 이미지 표시 루프를 실행\n",
        "for i in range(5, 10):\n",
        "    # 각 서브플롯(ax[i-5])에 재구성된 이미지 표시\n",
        "    ax[i-5].imshow(preds[i].reshape(28, 28))\n",
        "\n",
        "# 그림(플롯)을 표시\n",
        "plt.show()"
      ],
      "metadata": {
        "colab": {
          "base_uri": "https://localhost:8080/"
        },
        "id": "RICDMv7TQ0Fa",
        "outputId": "3b2e24a7-4e34-448b-f310-c463f2ca9353"
      },
      "execution_count": null,
      "outputs": [
        {
          "output_type": "stream",
          "name": "stdout",
          "text": [
            "1/1 [==============================] - 0s 170ms/step\n"
          ]
        },
        {
          "output_type": "display_data",
          "data": {
            "text/plain": [
              "<Figure size 8000x4000 with 5 Axes>"
            ],
            "image/png": "[encoded data removed]"
          },
          "metadata": {}
        }
      ]
    },
    {
      "cell_type": "markdown",
      "source": [
        "여기서는 적은 epoch로 시도했기에 비교적 불충분한 결과가 나올 수 있지만,\n",
        "\n",
        "500~1000 epoch 정도로 시도하면 더 좋은 결과가 나올 것"
      ],
      "metadata": {
        "id": "uMfvzCZ_Q3cp"
      }
    },
    {
      "cell_type": "markdown",
      "source": [
        "# UseCase 3: Sequence to Sequence Prediction using AutoEncoders"
      ],
      "metadata": {
        "id": "c2VEX_5sRSpb"
      }
    },
    {
      "cell_type": "markdown",
      "source": [
        "sequence to sequence 예측 해보기\n",
        "\n",
        "앞의 예시에서는 기본적으로 2차원 데이터였고, 이번에는 sequence 데이터는 1차원 데이터\n",
        "\n",
        "시퀀스 데이터의 예시 : 시계열 데이터, 문자열 데이터\n",
        "\n",
        "이미지에 CNN을 사용했다면, 이 케이스에서는 LSTM을 사용"
      ],
      "metadata": {
        "id": "7OymAPUpRYho"
      }
    },
    {
      "cell_type": "markdown",
      "source": [
        "**Autoencoder Architecture**\n",
        "\n",
        "이 케이스의 오토인코더에서도 입력을 변환하는 인코더와 타겟으로 변환하는 디코더가 존재할 것입니다. 우선 LSTM이 이 구조에서 어떤식으로 작동하는지 알아봅시다.\n",
        "\n",
        "Long Short-Term Memory, LSTM은 내부 루프로 구성된 반복적 신경망입니다.(RNN)\n",
        "다른 RNN과 다르게 backpropagation throught time, BPTT를 활용하여 효과적으로 훈련하고, 사라지는 그래디언트 문제를 방지합니다.\n",
        "LSTM layer에서 메모리 유닛을 정의할 수 있고, layer에 속하지 않은 각 유닛은 셀의 상태를 나타내는 c와 숨겨진 상태이자 출력인 h 등이 있습니다.\n",
        "Keras를 사용하면, LSTM 레이어의 출력 상태와 LSTM 레이어의 현재 상태에 모두 접근 할 수 있습니다.\n",
        "\n",
        "이제 학습과 생성을 하는 오토인코더 구조를 만들어봅시다. 2가지의 요소로 이루어집니다.\n",
        "\n",
        "시퀀스를 입력으로 받아들이고 LSTM의 현재 상태를 출력으로 반환하는 인코더 아키텍처\n",
        "시퀀스 및 인코더 LSTM 상태를 입력으로 받아 디코딩 된 출력 시퀀스를 반환하는 디코더 아키텍처\n",
        "LSTM의 숨겨진 상태와 메모리 상태를 저장하고 (숨겨진 그리고 상태들을) 접근하므로,보이지 않는 데이터에 대한 예측을 생성하는 동안 LSTM을 사용할 수 있습니다.\n",
        "우선, 고정 길이의 무작위 시퀀스를 포함하는 시퀀스 데이터 세트를 생성합니다. 우리는 무작위 순서를 생성하는 함수를 생성 할 것입니다.\n",
        "\n",
        "X1은 난수를 포함하는 입력 시퀀스 의미합니다.\n",
        "X2는 시퀀스의 다른 요소를 재생산하기 위해 시드로 사용되는 패딩 된 시퀀스를 의미합니다.\n",
        "y는 대상 시퀀스 또는 실제 시퀀스를 나타냅니다."
      ],
      "metadata": {
        "id": "5XgndejmRcOA"
      }
    },
    {
      "cell_type": "code",
      "source": [
        "# 필요한 라이브러리 및 모듈을 import\n",
        "from random import randint\n",
        "from keras.utils import to_categorical\n",
        "import numpy as np\n",
        "\n",
        "# 데이터셋을 생성하는 함수 정의\n",
        "def dataset_preparation(n_in, n_out, n_unique, n_samples):\n",
        "    X1, X2, y = [], [], []\n",
        "    for _ in range(n_samples):\n",
        "        ## 입력 시퀀스를 생성(랜덤 시퀀스)\n",
        "        inp_seq = [randint(1, n_unique-1) for _ in range(n_in)]\n",
        "\n",
        "        ## 출력 시퀀스를 생성\n",
        "        target = inp_seq[:n_out]\n",
        "\n",
        "        ## create padded sequence / seed sequence\n",
        "        target_seq = list(reversed(target)) ##출력 시퀀스를 뒤집어서 target_seq를 생성하고\n",
        "        seed_seq = [0] + target_seq[:-1]  ##첫 번째 요소를 제외한 시퀀스를 생성\n",
        "\n",
        "        # 범주형(categorical)으로 변환\n",
        "        X1.append(to_categorical([inp_seq], num_classes=n_unique))\n",
        "        X2.append(to_categorical([seed_seq], num_classes=n_unique))\n",
        "        y.append(to_categorical([target_seq], num_classes=n_unique))\n",
        "\n",
        "    # 생성된 리스트들을 넘파이 배열로 변환하고 불필요한 차원을 제거\n",
        "    X1 = np.squeeze(np.array(X1), axis=1)\n",
        "    X2 = np.squeeze(np.array(X2), axis=1)\n",
        "    y  = np.squeeze(np.array(y), axis=1)\n",
        "    return X1, X2, y\n",
        "\n",
        "# 데이터셋 파라미터 설정: 생성할 데이터셋의 크기와 특성을 설정\n",
        "samples = 100000\n",
        "features = 51\n",
        "inp_size = 6\n",
        "out_size = 3\n",
        "\n",
        "# 데이터셋 생성: 생성된 입력, 시드, 출력 데이터의 모양(shape)을 출력\n",
        "inputs, seeds, outputs = dataset_preparation(inp_size, out_size, features, samples)\n",
        "\n",
        "# 생성된 데이터의 모양(shape) 출력\n",
        "print(\"Shapes: \", inputs.shape, seeds.shape, outputs.shape)\n",
        "\n",
        "# 첫 번째 categorically 인코딩된 입력 시퀀스 예시 출력\n",
        "print (\"Here is first categorically encoded input sequence looks like: \", )\n",
        "inputs[0][0]"
      ],
      "metadata": {
        "colab": {
          "base_uri": "https://localhost:8080/"
        },
        "id": "psykEEKORjvr",
        "outputId": "424d46f0-492c-4efd-b969-b29ead3eb8c1"
      },
      "execution_count": null,
      "outputs": [
        {
          "output_type": "stream",
          "name": "stdout",
          "text": [
            "Shapes:  (100000, 6, 51) (100000, 3, 51) (100000, 3, 51)\n",
            "Here is first categorically encoded input sequence looks like: \n"
          ]
        },
        {
          "output_type": "execute_result",
          "data": {
            "text/plain": [
              "array([0., 0., 0., 0., 0., 0., 0., 0., 0., 0., 0., 0., 0., 0., 0., 0., 0.,\n",
              "       0., 0., 0., 0., 0., 0., 0., 0., 0., 1., 0., 0., 0., 0., 0., 0., 0.,\n",
              "       0., 0., 0., 0., 0., 0., 0., 0., 0., 0., 0., 0., 0., 0., 0., 0., 0.],\n",
              "      dtype=float32)"
            ]
          },
          "metadata": {},
          "execution_count": 23
        }
      ]
    },
    {
      "cell_type": "markdown",
      "source": [
        "이제 케라스에서 모델을 만들어봅시다."
      ],
      "metadata": {
        "id": "yEf7mnyiRofo"
      }
    },
    {
      "cell_type": "code",
      "source": [
        "# 함수 정의: 입력 및 출력 시퀀스의 크기를 기반으로 LSTM 오토인코더 모델과 연관된 인코더, 디코더 모델을 정의\n",
        "def define_models(n_input, n_output):\n",
        "    ## 인코더 아키텍처 정의\n",
        "    ## 입력: 시퀀스\n",
        "    ## 출력: 인코더 상태\n",
        "    encoder_inputs = Input(shape=(None, n_input))\n",
        "    encoder = LSTM(128, return_state=True)\n",
        "    encoder_outputs, state_h, state_c = encoder(encoder_inputs)\n",
        "    encoder_states = [state_h, state_c]\n",
        "\n",
        "    ## 인코더-디코더 아키텍처 정의\n",
        "    ## 입력: 시드 시퀀스\n",
        "    ## 출력: 디코더 상태, 디코딩된 출력\n",
        "    decoder_inputs = Input(shape=(None, n_output))\n",
        "    decoder_lstm = LSTM(128, return_sequences=True, return_state=True)\n",
        "    decoder_outputs, _, _ = decoder_lstm(decoder_inputs, initial_state=encoder_states)\n",
        "    decoder_dense = Dense(n_output, activation='softmax')\n",
        "    decoder_outputs = decoder_dense(decoder_outputs)\n",
        "    model = Model([encoder_inputs, decoder_inputs], decoder_outputs)\n",
        "\n",
        "    ## 디코더 모델 정의\n",
        "    ## 입력: 현재 상태 + 인코딩된 시퀀스\n",
        "    ## 출력: 디코딩된 시퀀스\n",
        "    encoder_model = Model(encoder_inputs, encoder_states)\n",
        "    decoder_state_input_h = Input(shape=(128,))\n",
        "    decoder_state_input_c = Input(shape=(128,))\n",
        "    decoder_states_inputs = [decoder_state_input_h, decoder_state_input_c]\n",
        "    decoder_outputs, state_h, state_c = decoder_lstm(decoder_inputs, initial_state=decoder_states_inputs)\n",
        "    decoder_states = [state_h, state_c]\n",
        "    decoder_outputs = decoder_dense(decoder_outputs)\n",
        "    decoder_model = Model([decoder_inputs] + decoder_states_inputs, [decoder_outputs] + decoder_states)\n",
        "\n",
        "    return model, encoder_model, decoder_model\n",
        "\n",
        "# define_models 함수를 사용하여 모델 초기화\n",
        "autoencoder, encoder_model, decoder_model = define_models(features, features)\n"
      ],
      "metadata": {
        "id": "55YLiGrORqhp"
      },
      "execution_count": null,
      "outputs": []
    },
    {
      "cell_type": "code",
      "source": [
        "##모델확인하기\n",
        "\n",
        "encoder_model.summary()"
      ],
      "metadata": {
        "colab": {
          "base_uri": "https://localhost:8080/"
        },
        "id": "aTmNIYNoRrsb",
        "outputId": "7cfd05a1-08a6-4a1e-d353-afb1d5288369"
      },
      "execution_count": null,
      "outputs": [
        {
          "output_type": "stream",
          "name": "stdout",
          "text": [
            "Model: \"model_3\"\n",
            "_________________________________________________________________\n",
            " Layer (type)                Output Shape              Param #   \n",
            "=================================================================\n",
            " input_3 (InputLayer)        [(None, None, 51)]        0         \n",
            "                                                                 \n",
            " lstm (LSTM)                 [(None, 128),             92160     \n",
            "                              (None, 128),                       \n",
            "                              (None, 128)]                       \n",
            "                                                                 \n",
            "=================================================================\n",
            "Total params: 92160 (360.00 KB)\n",
            "Trainable params: 92160 (360.00 KB)\n",
            "Non-trainable params: 0 (0.00 Byte)\n",
            "_________________________________________________________________\n"
          ]
        }
      ]
    },
    {
      "cell_type": "code",
      "source": [
        "decoder_model.summary()"
      ],
      "metadata": {
        "colab": {
          "base_uri": "https://localhost:8080/"
        },
        "id": "fHwjC6IORvLA",
        "outputId": "58cc6299-050c-4ee5-f9e9-892fba287438"
      },
      "execution_count": null,
      "outputs": [
        {
          "output_type": "stream",
          "name": "stdout",
          "text": [
            "Model: \"model_4\"\n",
            "__________________________________________________________________________________________________\n",
            " Layer (type)                Output Shape                 Param #   Connected to                  \n",
            "==================================================================================================\n",
            " input_4 (InputLayer)        [(None, None, 51)]           0         []                            \n",
            "                                                                                                  \n",
            " input_5 (InputLayer)        [(None, 128)]                0         []                            \n",
            "                                                                                                  \n",
            " input_6 (InputLayer)        [(None, 128)]                0         []                            \n",
            "                                                                                                  \n",
            " lstm_1 (LSTM)               [(None, None, 128),          92160     ['input_4[0][0]',             \n",
            "                              (None, 128),                           'input_5[0][0]',             \n",
            "                              (None, 128)]                           'input_6[0][0]']             \n",
            "                                                                                                  \n",
            " dense_8 (Dense)             (None, None, 51)             6579      ['lstm_1[1][0]']              \n",
            "                                                                                                  \n",
            "==================================================================================================\n",
            "Total params: 98739 (385.70 KB)\n",
            "Trainable params: 98739 (385.70 KB)\n",
            "Non-trainable params: 0 (0.00 Byte)\n",
            "__________________________________________________________________________________________________\n"
          ]
        }
      ]
    },
    {
      "cell_type": "code",
      "source": [
        "autoencoder.summary()"
      ],
      "metadata": {
        "colab": {
          "base_uri": "https://localhost:8080/"
        },
        "id": "ER-VwdhURyGM",
        "outputId": "d3132998-6010-4712-ce5c-ff6b8a3b0685"
      },
      "execution_count": null,
      "outputs": [
        {
          "output_type": "stream",
          "name": "stdout",
          "text": [
            "Model: \"model_2\"\n",
            "__________________________________________________________________________________________________\n",
            " Layer (type)                Output Shape                 Param #   Connected to                  \n",
            "==================================================================================================\n",
            " input_3 (InputLayer)        [(None, None, 51)]           0         []                            \n",
            "                                                                                                  \n",
            " input_4 (InputLayer)        [(None, None, 51)]           0         []                            \n",
            "                                                                                                  \n",
            " lstm (LSTM)                 [(None, 128),                92160     ['input_3[0][0]']             \n",
            "                              (None, 128),                                                        \n",
            "                              (None, 128)]                                                        \n",
            "                                                                                                  \n",
            " lstm_1 (LSTM)               [(None, None, 128),          92160     ['input_4[0][0]',             \n",
            "                              (None, 128),                           'lstm[0][1]',                \n",
            "                              (None, 128)]                           'lstm[0][2]']                \n",
            "                                                                                                  \n",
            " dense_8 (Dense)             (None, None, 51)             6579      ['lstm_1[0][0]']              \n",
            "                                                                                                  \n",
            "==================================================================================================\n",
            "Total params: 190899 (745.70 KB)\n",
            "Trainable params: 190899 (745.70 KB)\n",
            "Non-trainable params: 0 (0.00 Byte)\n",
            "__________________________________________________________________________________________________\n"
          ]
        }
      ]
    },
    {
      "cell_type": "markdown",
      "source": [
        "이제 오토인코더 모델을 아담 옵티마이저와 Catgegorical Cross Entropy를 손실함수로 사용하여 훈련해봅시다."
      ],
      "metadata": {
        "id": "CA639PguRzcD"
      }
    },
    {
      "cell_type": "code",
      "source": [
        "# 모델 컴파일\n",
        "autoencoder.compile(optimizer='adam', loss='categorical_crossentropy', metrics=['acc'])\n",
        "\n",
        "# 모델 학습\n",
        "autoencoder.fit([inputs, seeds], outputs, epochs=1)"
      ],
      "metadata": {
        "colab": {
          "base_uri": "https://localhost:8080/"
        },
        "id": "Vayj1ljKR0lA",
        "outputId": "a8be09a3-6087-4c97-a7a7-8df5585f602b"
      },
      "execution_count": null,
      "outputs": [
        {
          "output_type": "stream",
          "name": "stdout",
          "text": [
            "3125/3125 [==============================] - 45s 13ms/step - loss: 0.6631 - acc: 0.7907\n"
          ]
        },
        {
          "output_type": "execute_result",
          "data": {
            "text/plain": [
              "<keras.src.callbacks.History at 0x7cefab5775e0>"
            ]
          },
          "metadata": {},
          "execution_count": 28
        }
      ]
    },
    {
      "cell_type": "markdown",
      "source": [
        "이제 입력 시퀀스를 이용해 시퀀스를 예측하는 함수를 만들어봅시다"
      ],
      "metadata": {
        "id": "lkVXSmX6R103"
      }
    },
    {
      "cell_type": "code",
      "source": [
        "# One-hot 인코딩된 시퀀스를 다시 원래 형식으로 변환하는 함수\n",
        "def reverse_onehot(encoded_seq):\n",
        "    return [np.argmax(vector) for vector in encoded_seq]\n",
        "\n",
        "# 디코더를 사용하여 시퀀스를 예측하는 함수\n",
        "def predict_sequence(encoder, decoder, sequence):\n",
        "    output = []\n",
        "    target_seq = np.array([0.0 for _ in range(features)])\n",
        "    target_seq = target_seq.reshape(1, 1, features)\n",
        "\n",
        "    current_state = encoder.predict(sequence)  # 인코더로부터 초기 상태를 얻습니다.\n",
        "\n",
        "    for t in range(out_size):\n",
        "        # 디코더로 현재 시드 시퀀스 및 상태를 전달하여 예측을 얻습니다.\n",
        "        pred, h, c = decoder.predict([target_seq] + current_state)\n",
        "        output.append(pred[0, 0, :])  # 디코딩된 출력을 저장합니다.\n",
        "        current_state = [h, c]  # 다음 반복에서 사용할 상태를 업데이트합니다.\n",
        "        target_seq = pred  # 다음 반복에서 입력으로 사용할 예측을 업데이트합니다.\n",
        "\n",
        "    return np.array(output)  # 예측된 시퀀스를 반환합니다."
      ],
      "metadata": {
        "id": "0Gx7Uqp1R2Sc"
      },
      "execution_count": null,
      "outputs": []
    },
    {
      "cell_type": "markdown",
      "source": [
        "이제 예측을 만들어 봅시다."
      ],
      "metadata": {
        "id": "H9koVie6R4Sr"
      }
    },
    {
      "cell_type": "code",
      "source": [
        "for k in range(5):\n",
        "    # 입력, 시드, 출력 시퀀스를 생성합니다 (각각 길이 1의 시퀀스)\n",
        "    X1, X2, y = dataset_preparation(inp_size, out_size, features, 1)\n",
        "\n",
        "    # 인코더 모델과 디코더 모델을 사용하여 시드 시퀀스에 대한 예측을 생성합니다\n",
        "    target = predict_sequence(encoder_model, decoder_model, X1)\n",
        "\n",
        "    # 예측 결과를 출력합니다\n",
        "    print('\\nInput Sequence=%s Seed Sequence=%s, Predicted Sequence=%s'\n",
        "          % (reverse_onehot(X1[0]), reverse_onehot(y[0]), reverse_onehot(target)))\n"
      ],
      "metadata": {
        "colab": {
          "base_uri": "https://localhost:8080/"
        },
        "id": "69n2dptZR5Qo",
        "outputId": "566f1975-5ef2-4942-e3d5-5166e747b235"
      },
      "execution_count": null,
      "outputs": [
        {
          "output_type": "stream",
          "name": "stdout",
          "text": [
            "1/1 [==============================] - 0s 365ms/step\n",
            "1/1 [==============================] - 0s 393ms/step\n",
            "1/1 [==============================] - 0s 27ms/step\n",
            "1/1 [==============================] - 0s 22ms/step\n",
            "\n",
            "Input Sequence=[32, 23, 9, 30, 49, 33] Seed Sequence=[9, 23, 32], Predicted Sequence=[9, 23, 32]\n",
            "1/1 [==============================] - 0s 25ms/step\n",
            "1/1 [==============================] - 0s 24ms/step\n",
            "1/1 [==============================] - 0s 23ms/step\n",
            "1/1 [==============================] - 0s 39ms/step\n",
            "\n",
            "Input Sequence=[45, 50, 36, 19, 19, 11] Seed Sequence=[36, 50, 45], Predicted Sequence=[36, 50, 45]\n",
            "1/1 [==============================] - 0s 37ms/step\n",
            "1/1 [==============================] - 0s 35ms/step\n",
            "1/1 [==============================] - 0s 31ms/step\n",
            "1/1 [==============================] - 0s 35ms/step\n",
            "\n",
            "Input Sequence=[2, 28, 14, 33, 23, 18] Seed Sequence=[14, 28, 2], Predicted Sequence=[14, 28, 2]\n",
            "1/1 [==============================] - 0s 29ms/step\n",
            "1/1 [==============================] - 0s 36ms/step\n",
            "1/1 [==============================] - 0s 35ms/step\n",
            "1/1 [==============================] - 0s 35ms/step\n",
            "\n",
            "Input Sequence=[41, 42, 1, 47, 1, 7] Seed Sequence=[1, 42, 41], Predicted Sequence=[1, 42, 41]\n",
            "1/1 [==============================] - 0s 29ms/step\n",
            "1/1 [==============================] - 0s 30ms/step\n",
            "1/1 [==============================] - 0s 33ms/step\n",
            "1/1 [==============================] - 0s 36ms/step\n",
            "\n",
            "Input Sequence=[48, 34, 24, 48, 41, 16] Seed Sequence=[24, 34, 48], Predicted Sequence=[24, 34, 48]\n"
          ]
        }
      ]
    }
  ]
}
