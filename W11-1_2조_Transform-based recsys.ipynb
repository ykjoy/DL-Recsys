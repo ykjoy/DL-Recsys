{
  "cells": [
    {
      "cell_type": "markdown",
      "id": "c9ec20eb",
      "metadata": {
        "id": "c9ec20eb"
      },
      "source": [
        "# A Transformer-based recommendation system\n",
        "\n",
        "- **사용 데이터** : movie lens 데이터\n",
        "https://grouplens.org/datasets/movielens/\n",
        "\n",
        "- **사용 모델** : BST(Behavior Sequence Transformer) 모델\n",
        "\n",
        "- **목표** : 영화별 사용자의 평가 예측\n",
        "\n",
        "<br>\n",
        "\n",
        "- **방법**\n",
        "1. 사용자가 시청한 영화movie_ids -> 고정길이 시퀀스\n",
        "2. 사용자가 시청한 영화에 매긴 평점 ratings -> 고정길이 시퀀스\n",
        "3. 유저 정보(유저 id, 성별, 직업, 나이대)\n",
        "4. 영화의 장르\n",
        "5. 타겟 영화 id의 평점 예측"
      ]
    },
    {
      "cell_type": "code",
      "execution_count": null,
      "id": "3ca20e88",
      "metadata": {
        "id": "3ca20e88"
      },
      "outputs": [],
      "source": [
        "# 필요 라이브러리 import\n",
        "\n",
        "import os\n",
        "import math\n",
        "from zipfile import ZipFile\n",
        "from urllib.request import urlretrieve\n",
        "import numpy as np\n",
        "import pandas as pd\n",
        "import tensorflow as tf\n",
        "from tensorflow import keras\n",
        "from tensorflow.keras import layers\n",
        "from tensorflow.keras.layers import StringLookup"
      ]
    },
    {
      "cell_type": "markdown",
      "id": "1101e112",
      "metadata": {
        "id": "1101e112"
      },
      "source": [
        "# 1. 데이터 불러오기 & 전처리"
      ]
    },
    {
      "cell_type": "code",
      "execution_count": null,
      "id": "d3d0a0f4",
      "metadata": {
        "id": "d3d0a0f4",
        "outputId": "a98f001f-25d3-4aab-9b9e-b9d6fd7271af"
      },
      "outputs": [
        {
          "name": "stderr",
          "output_type": "stream",
          "text": [
            "C:\\Users\\acw64\\AppData\\Local\\Temp\\ipykernel_18348\\1405511541.py:2: ParserWarning: Falling back to the 'python' engine because the 'c' engine does not support regex separators (separators > 1 char and different from '\\s+' are interpreted as regex); you can avoid this warning by specifying engine='python'.\n",
            "  users = pd.read_csv(\n",
            "C:\\Users\\acw64\\AppData\\Local\\Temp\\ipykernel_18348\\1405511541.py:9: ParserWarning: Falling back to the 'python' engine because the 'c' engine does not support regex separators (separators > 1 char and different from '\\s+' are interpreted as regex); you can avoid this warning by specifying engine='python'.\n",
            "  ratings = pd.read_csv(\n",
            "C:\\Users\\acw64\\AppData\\Local\\Temp\\ipykernel_18348\\1405511541.py:16: ParserWarning: Falling back to the 'python' engine because the 'c' engine does not support regex separators (separators > 1 char and different from '\\s+' are interpreted as regex); you can avoid this warning by specifying engine='python'.\n",
            "  movies = pd.read_csv(\n"
          ]
        }
      ],
      "source": [
        "# 유저 데이터 로드\n",
        "users = pd.read_csv(\n",
        "    \"ml-1m/users.dat\",\n",
        "    sep=\"::\",\n",
        "    names=[\"user_id\", \"sex\", \"age_group\", \"occupation\", \"zip_code\"], encoding='latin-1'\n",
        ")\n",
        "\n",
        "# 유저별 영화 평점 데이터 로드\n",
        "ratings = pd.read_csv(\n",
        "    \"ml-1m/ratings.dat\",\n",
        "    sep=\"::\",\n",
        "    names=[\"user_id\", \"movie_id\", \"rating\", \"unix_timestamp\"], encoding='latin-1'\n",
        ")\n",
        "\n",
        "#영화 데이터 로드\n",
        "movies = pd.read_csv(\n",
        "    \"ml-1m/movies.dat\", sep=\"::\", names=[\"movie_id\", \"title\", \"genres\"], encoding='latin-1'\n",
        ")"
      ]
    },
    {
      "cell_type": "code",
      "execution_count": null,
      "id": "70de2645",
      "metadata": {
        "id": "70de2645"
      },
      "outputs": [],
      "source": [
        "# 데이터 전처리\n",
        "\n",
        "users[\"user_id\"] = users[\"user_id\"].apply(lambda x: f\"user_{x}\") # 1 -> user_1로 변경\n",
        "users[\"age_group\"] = users[\"age_group\"].apply(lambda x: f\"group_{x}\") # 1 ->group_1로 변경\n",
        "users[\"occupation\"] = users[\"occupation\"].apply(lambda x: f\"occupation_{x}\") #1 ->occupation_1로 변경\n",
        "\n",
        "movies[\"movie_id\"] = movies[\"movie_id\"].apply(lambda x: f\"movie_{x}\") # 1 -> movie1로 변경\n",
        "\n",
        "ratings[\"movie_id\"] = ratings[\"movie_id\"].apply(lambda x: f\"movie_{x}\") # 1 -> movie1로 변경\n",
        "ratings[\"user_id\"] = ratings[\"user_id\"].apply(lambda x: f\"user_{x}\") # 1 -> user_1로 변경\n",
        "ratings[\"rating\"] = ratings[\"rating\"].apply(lambda x: float(x)) # 평점 실수형 변수로 변경"
      ]
    },
    {
      "cell_type": "code",
      "execution_count": null,
      "id": "21604440",
      "metadata": {
        "id": "21604440",
        "outputId": "8b764adb-e378-4d3c-dc17-30de3310f6a0"
      },
      "outputs": [
        {
          "name": "stdout",
          "output_type": "stream",
          "text": [
            "변경 전\n"
          ]
        },
        {
          "data": {
            "text/html": [
              "<div>\n",
              "<style scoped>\n",
              "    .dataframe tbody tr th:only-of-type {\n",
              "        vertical-align: middle;\n",
              "    }\n",
              "\n",
              "    .dataframe tbody tr th {\n",
              "        vertical-align: top;\n",
              "    }\n",
              "\n",
              "    .dataframe thead th {\n",
              "        text-align: right;\n",
              "    }\n",
              "</style>\n",
              "<table border=\"1\" class=\"dataframe\">\n",
              "  <thead>\n",
              "    <tr style=\"text-align: right;\">\n",
              "      <th></th>\n",
              "      <th>movie_id</th>\n",
              "      <th>title</th>\n",
              "      <th>genres</th>\n",
              "    </tr>\n",
              "  </thead>\n",
              "  <tbody>\n",
              "    <tr>\n",
              "      <th>0</th>\n",
              "      <td>movie_1</td>\n",
              "      <td>Toy Story (1995)</td>\n",
              "      <td>Animation|Children's|Comedy</td>\n",
              "    </tr>\n",
              "  </tbody>\n",
              "</table>\n",
              "</div>"
            ],
            "text/plain": [
              "  movie_id             title                       genres\n",
              "0  movie_1  Toy Story (1995)  Animation|Children's|Comedy"
            ]
          },
          "metadata": {},
          "output_type": "display_data"
        },
        {
          "name": "stdout",
          "output_type": "stream",
          "text": [
            "변경 후\n"
          ]
        },
        {
          "data": {
            "text/html": [
              "<div>\n",
              "<style scoped>\n",
              "    .dataframe tbody tr th:only-of-type {\n",
              "        vertical-align: middle;\n",
              "    }\n",
              "\n",
              "    .dataframe tbody tr th {\n",
              "        vertical-align: top;\n",
              "    }\n",
              "\n",
              "    .dataframe thead th {\n",
              "        text-align: right;\n",
              "    }\n",
              "</style>\n",
              "<table border=\"1\" class=\"dataframe\">\n",
              "  <thead>\n",
              "    <tr style=\"text-align: right;\">\n",
              "      <th></th>\n",
              "      <th>movie_id</th>\n",
              "      <th>title</th>\n",
              "      <th>genres</th>\n",
              "      <th>Action</th>\n",
              "      <th>Adventure</th>\n",
              "      <th>Animation</th>\n",
              "      <th>Children's</th>\n",
              "      <th>Comedy</th>\n",
              "      <th>Crime</th>\n",
              "      <th>Documentary</th>\n",
              "      <th>...</th>\n",
              "      <th>Fantasy</th>\n",
              "      <th>Film-Noir</th>\n",
              "      <th>Horror</th>\n",
              "      <th>Musical</th>\n",
              "      <th>Mystery</th>\n",
              "      <th>Romance</th>\n",
              "      <th>Sci-Fi</th>\n",
              "      <th>Thriller</th>\n",
              "      <th>War</th>\n",
              "      <th>Western</th>\n",
              "    </tr>\n",
              "  </thead>\n",
              "  <tbody>\n",
              "    <tr>\n",
              "      <th>0</th>\n",
              "      <td>movie_1</td>\n",
              "      <td>Toy Story (1995)</td>\n",
              "      <td>Animation|Children's|Comedy</td>\n",
              "      <td>0</td>\n",
              "      <td>0</td>\n",
              "      <td>1</td>\n",
              "      <td>1</td>\n",
              "      <td>1</td>\n",
              "      <td>0</td>\n",
              "      <td>0</td>\n",
              "      <td>...</td>\n",
              "      <td>0</td>\n",
              "      <td>0</td>\n",
              "      <td>0</td>\n",
              "      <td>0</td>\n",
              "      <td>0</td>\n",
              "      <td>0</td>\n",
              "      <td>0</td>\n",
              "      <td>0</td>\n",
              "      <td>0</td>\n",
              "      <td>0</td>\n",
              "    </tr>\n",
              "  </tbody>\n",
              "</table>\n",
              "<p>1 rows × 21 columns</p>\n",
              "</div>"
            ],
            "text/plain": [
              "  movie_id             title                       genres  Action  Adventure  \\\n",
              "0  movie_1  Toy Story (1995)  Animation|Children's|Comedy       0          0   \n",
              "\n",
              "   Animation  Children's  Comedy  Crime  Documentary  ...  Fantasy  Film-Noir  \\\n",
              "0          1           1       1      0            0  ...        0          0   \n",
              "\n",
              "   Horror  Musical  Mystery  Romance  Sci-Fi  Thriller  War  Western  \n",
              "0       0        0        0        0       0         0    0        0  \n",
              "\n",
              "[1 rows x 21 columns]"
            ]
          },
          "metadata": {},
          "output_type": "display_data"
        }
      ],
      "source": [
        "# 영화 데이터 장르 분할\n",
        "\n",
        "genres = [\n",
        "    \"Action\",\n",
        "    \"Adventure\",\n",
        "    \"Animation\",\n",
        "    \"Children's\",\n",
        "    \"Comedy\",\n",
        "    \"Crime\",\n",
        "    \"Documentary\",\n",
        "    \"Drama\",\n",
        "    \"Fantasy\",\n",
        "    \"Film-Noir\",\n",
        "    \"Horror\",\n",
        "    \"Musical\",\n",
        "    \"Mystery\",\n",
        "    \"Romance\",\n",
        "    \"Sci-Fi\",\n",
        "    \"Thriller\",\n",
        "    \"War\",\n",
        "    \"Western\",\n",
        "]\n",
        "\n",
        "print('변경 전')\n",
        "display(movies.head(1))\n",
        "\n",
        "for genre in genres:\n",
        "    movies[genre] = movies[\"genres\"].apply(\n",
        "        lambda values: int(genre in values.split(\"|\"))\n",
        "    )\n",
        "\n",
        "print('변경 후')\n",
        "display(movies.head(1))"
      ]
    },
    {
      "cell_type": "markdown",
      "id": "5210e7ec",
      "metadata": {
        "id": "5210e7ec"
      },
      "source": [
        "# 2. 영화 평점 데이터 시퀀스 변환"
      ]
    },
    {
      "cell_type": "markdown",
      "id": "5467b049",
      "metadata": {
        "id": "5467b049"
      },
      "source": [
        "평점 데이터에 존재하는 `unix_timestamp` 변수를 이용해 유저 아이디 별 평가 기록 그룹화"
      ]
    },
    {
      "cell_type": "code",
      "execution_count": null,
      "id": "8888473b",
      "metadata": {
        "id": "8888473b",
        "outputId": "3aff9337-272f-4b00-9f08-53567b40ed6c"
      },
      "outputs": [
        {
          "data": {
            "text/html": [
              "<div>\n",
              "<style scoped>\n",
              "    .dataframe tbody tr th:only-of-type {\n",
              "        vertical-align: middle;\n",
              "    }\n",
              "\n",
              "    .dataframe tbody tr th {\n",
              "        vertical-align: top;\n",
              "    }\n",
              "\n",
              "    .dataframe thead th {\n",
              "        text-align: right;\n",
              "    }\n",
              "</style>\n",
              "<table border=\"1\" class=\"dataframe\">\n",
              "  <thead>\n",
              "    <tr style=\"text-align: right;\">\n",
              "      <th></th>\n",
              "      <th>user_id</th>\n",
              "      <th>movie_id</th>\n",
              "      <th>rating</th>\n",
              "      <th>unix_timestamp</th>\n",
              "    </tr>\n",
              "  </thead>\n",
              "  <tbody>\n",
              "    <tr>\n",
              "      <th>0</th>\n",
              "      <td>user_1</td>\n",
              "      <td>movie_1193</td>\n",
              "      <td>5.0</td>\n",
              "      <td>978300760</td>\n",
              "    </tr>\n",
              "  </tbody>\n",
              "</table>\n",
              "</div>"
            ],
            "text/plain": [
              "  user_id    movie_id  rating  unix_timestamp\n",
              "0  user_1  movie_1193     5.0       978300760"
            ]
          },
          "execution_count": 17,
          "metadata": {},
          "output_type": "execute_result"
        }
      ],
      "source": [
        "# 기존 데이터\n",
        "ratings.head(1)"
      ]
    },
    {
      "cell_type": "code",
      "execution_count": null,
      "id": "2451665b",
      "metadata": {
        "id": "2451665b"
      },
      "outputs": [],
      "source": [
        "# 영화 평점 데이터 유저 id 별로 그룹화 + 시간 순서대로 sorting\n",
        "ratings_group = ratings.sort_values(by=[\"unix_timestamp\"]).groupby(\"user_id\")\n",
        "\n",
        "# 시간 순서대로 평가 sequence 데이터프레임 생성\n",
        "ratings_data = pd.DataFrame(\n",
        "    data={\n",
        "        \"user_id\": list(ratings_group.groups.keys()),\n",
        "        \"movie_ids\": list(ratings_group.movie_id.apply(list)),\n",
        "        \"ratings\": list(ratings_group.rating.apply(list)),\n",
        "        \"timestamps\": list(ratings_group.unix_timestamp.apply(list)),\n",
        "    }\n",
        ")"
      ]
    },
    {
      "cell_type": "code",
      "execution_count": null,
      "id": "0ad7eb6e",
      "metadata": {
        "id": "0ad7eb6e",
        "outputId": "6a1d8179-fd87-4122-e68b-844a3daa5e81"
      },
      "outputs": [
        {
          "data": {
            "text/html": [
              "<div>\n",
              "<style scoped>\n",
              "    .dataframe tbody tr th:only-of-type {\n",
              "        vertical-align: middle;\n",
              "    }\n",
              "\n",
              "    .dataframe tbody tr th {\n",
              "        vertical-align: top;\n",
              "    }\n",
              "\n",
              "    .dataframe thead th {\n",
              "        text-align: right;\n",
              "    }\n",
              "</style>\n",
              "<table border=\"1\" class=\"dataframe\">\n",
              "  <thead>\n",
              "    <tr style=\"text-align: right;\">\n",
              "      <th></th>\n",
              "      <th>user_id</th>\n",
              "      <th>movie_ids</th>\n",
              "      <th>ratings</th>\n",
              "      <th>timestamps</th>\n",
              "    </tr>\n",
              "  </thead>\n",
              "  <tbody>\n",
              "    <tr>\n",
              "      <th>0</th>\n",
              "      <td>user_1</td>\n",
              "      <td>[movie_3186, movie_1721, movie_1270, movie_102...</td>\n",
              "      <td>[4.0, 4.0, 5.0, 5.0, 3.0, 5.0, 4.0, 4.0, 5.0, ...</td>\n",
              "      <td>[978300019, 978300055, 978300055, 978300055, 9...</td>\n",
              "    </tr>\n",
              "    <tr>\n",
              "      <th>1</th>\n",
              "      <td>user_10</td>\n",
              "      <td>[movie_597, movie_858, movie_743, movie_1210, ...</td>\n",
              "      <td>[4.0, 3.0, 3.0, 4.0, 4.0, 5.0, 5.0, 5.0, 3.0, ...</td>\n",
              "      <td>[978224375, 978224375, 978224375, 978224400, 9...</td>\n",
              "    </tr>\n",
              "    <tr>\n",
              "      <th>2</th>\n",
              "      <td>user_100</td>\n",
              "      <td>[movie_260, movie_1676, movie_1198, movie_541,...</td>\n",
              "      <td>[4.0, 3.0, 4.0, 3.0, 4.0, 3.0, 1.0, 1.0, 5.0, ...</td>\n",
              "      <td>[977593595, 977593595, 977593607, 977593624, 9...</td>\n",
              "    </tr>\n",
              "  </tbody>\n",
              "</table>\n",
              "</div>"
            ],
            "text/plain": [
              "    user_id                                          movie_ids  \\\n",
              "0    user_1  [movie_3186, movie_1721, movie_1270, movie_102...   \n",
              "1   user_10  [movie_597, movie_858, movie_743, movie_1210, ...   \n",
              "2  user_100  [movie_260, movie_1676, movie_1198, movie_541,...   \n",
              "\n",
              "                                             ratings  \\\n",
              "0  [4.0, 4.0, 5.0, 5.0, 3.0, 5.0, 4.0, 4.0, 5.0, ...   \n",
              "1  [4.0, 3.0, 3.0, 4.0, 4.0, 5.0, 5.0, 5.0, 3.0, ...   \n",
              "2  [4.0, 3.0, 4.0, 3.0, 4.0, 3.0, 1.0, 1.0, 5.0, ...   \n",
              "\n",
              "                                          timestamps  \n",
              "0  [978300019, 978300055, 978300055, 978300055, 9...  \n",
              "1  [978224375, 978224375, 978224375, 978224400, 9...  \n",
              "2  [977593595, 977593595, 977593607, 977593624, 9...  "
            ]
          },
          "execution_count": 19,
          "metadata": {},
          "output_type": "execute_result"
        }
      ],
      "source": [
        "# 유저 id 별 평가한 영화, 평점을 시간 순으로 나타냄\n",
        "ratings_data.head(3)"
      ]
    },
    {
      "cell_type": "markdown",
      "id": "481cd169",
      "metadata": {
        "id": "481cd169"
      },
      "source": [
        "movie id, rating 목록을 고정 길이 sequence로 분할"
      ]
    },
    {
      "cell_type": "code",
      "execution_count": null,
      "id": "8a160075",
      "metadata": {
        "id": "8a160075"
      },
      "outputs": [],
      "source": [
        "# movie id, rating 목록을 고정 길이 sequence로 분할\n",
        "\n",
        "sequence_length = 4 # 시퀀스 길이 = 4 (수정 가능)\n",
        "step_size = 2 # 간격 사이즈 = 2 (수정 가능)\n",
        "\n",
        "\n",
        "def create_sequences(values, window_size, step_size):\n",
        "    sequences = []\n",
        "    start_index = 0\n",
        "    while True:\n",
        "        end_index = start_index + window_size # start 지점 +시퀀스 길이로 end 지점 정의\n",
        "        seq = values[start_index:end_index] # 시퀀스에 할당되는 값\n",
        "        if len(seq) < window_size: # 할당 값이 시퀀스 길이보다 작아지기 전에 종료 -> 모든 시퀀스의 길이를 동일하게 만듦\n",
        "            seq = values[-window_size:]\n",
        "            if len(seq) == window_size:\n",
        "                sequences.append(seq)\n",
        "            break\n",
        "        sequences.append(seq)\n",
        "        start_index += step_size\n",
        "    return sequences\n",
        "\n",
        "# 유저별 평가 데이터의 movie id를 sequence로 분할\n",
        "ratings_data.movie_ids = ratings_data.movie_ids.apply(\n",
        "    lambda ids: create_sequences(ids, sequence_length, step_size)\n",
        ")\n",
        "\n",
        "# 유저별 평가 데이터의 rating를 sequence로 분할\n",
        "\n",
        "ratings_data.ratings = ratings_data.ratings.apply(\n",
        "    lambda ids: create_sequences(ids, sequence_length, step_size)\n",
        ")\n",
        "\n",
        "# time stamp는 제거\n",
        "del ratings_data[\"timestamps\"]"
      ]
    },
    {
      "cell_type": "code",
      "execution_count": null,
      "id": "ce549537",
      "metadata": {
        "id": "ce549537",
        "outputId": "9749448f-72ff-4c2d-d6fd-52e5b485616a"
      },
      "outputs": [
        {
          "data": {
            "text/html": [
              "<div>\n",
              "<style scoped>\n",
              "    .dataframe tbody tr th:only-of-type {\n",
              "        vertical-align: middle;\n",
              "    }\n",
              "\n",
              "    .dataframe tbody tr th {\n",
              "        vertical-align: top;\n",
              "    }\n",
              "\n",
              "    .dataframe thead th {\n",
              "        text-align: right;\n",
              "    }\n",
              "</style>\n",
              "<table border=\"1\" class=\"dataframe\">\n",
              "  <thead>\n",
              "    <tr style=\"text-align: right;\">\n",
              "      <th></th>\n",
              "      <th>user_id</th>\n",
              "      <th>movie_ids</th>\n",
              "      <th>ratings</th>\n",
              "    </tr>\n",
              "  </thead>\n",
              "  <tbody>\n",
              "    <tr>\n",
              "      <th>0</th>\n",
              "      <td>user_1</td>\n",
              "      <td>[[movie_3186, movie_1721, movie_1270, movie_10...</td>\n",
              "      <td>[[4.0, 4.0, 5.0, 5.0], [5.0, 5.0, 3.0, 5.0], [...</td>\n",
              "    </tr>\n",
              "    <tr>\n",
              "      <th>1</th>\n",
              "      <td>user_10</td>\n",
              "      <td>[[movie_597, movie_858, movie_743, movie_1210]...</td>\n",
              "      <td>[[4.0, 3.0, 3.0, 4.0], [3.0, 4.0, 4.0, 5.0], [...</td>\n",
              "    </tr>\n",
              "    <tr>\n",
              "      <th>2</th>\n",
              "      <td>user_100</td>\n",
              "      <td>[[movie_260, movie_1676, movie_1198, movie_541...</td>\n",
              "      <td>[[4.0, 3.0, 4.0, 3.0], [4.0, 3.0, 4.0, 3.0], [...</td>\n",
              "    </tr>\n",
              "    <tr>\n",
              "      <th>3</th>\n",
              "      <td>user_1000</td>\n",
              "      <td>[[movie_971, movie_260, movie_2990, movie_2973...</td>\n",
              "      <td>[[4.0, 5.0, 4.0, 3.0], [4.0, 3.0, 5.0, 5.0], [...</td>\n",
              "    </tr>\n",
              "    <tr>\n",
              "      <th>4</th>\n",
              "      <td>user_1001</td>\n",
              "      <td>[[movie_1198, movie_1617, movie_2885, movie_39...</td>\n",
              "      <td>[[4.0, 4.0, 4.0, 2.0], [4.0, 2.0, 2.0, 1.0], [...</td>\n",
              "    </tr>\n",
              "  </tbody>\n",
              "</table>\n",
              "</div>"
            ],
            "text/plain": [
              "     user_id                                          movie_ids  \\\n",
              "0     user_1  [[movie_3186, movie_1721, movie_1270, movie_10...   \n",
              "1    user_10  [[movie_597, movie_858, movie_743, movie_1210]...   \n",
              "2   user_100  [[movie_260, movie_1676, movie_1198, movie_541...   \n",
              "3  user_1000  [[movie_971, movie_260, movie_2990, movie_2973...   \n",
              "4  user_1001  [[movie_1198, movie_1617, movie_2885, movie_39...   \n",
              "\n",
              "                                             ratings  \n",
              "0  [[4.0, 4.0, 5.0, 5.0], [5.0, 5.0, 3.0, 5.0], [...  \n",
              "1  [[4.0, 3.0, 3.0, 4.0], [3.0, 4.0, 4.0, 5.0], [...  \n",
              "2  [[4.0, 3.0, 4.0, 3.0], [4.0, 3.0, 4.0, 3.0], [...  \n",
              "3  [[4.0, 5.0, 4.0, 3.0], [4.0, 3.0, 5.0, 5.0], [...  \n",
              "4  [[4.0, 4.0, 4.0, 2.0], [4.0, 2.0, 2.0, 1.0], [...  "
            ]
          },
          "execution_count": 29,
          "metadata": {},
          "output_type": "execute_result"
        }
      ],
      "source": [
        "ratings_data.head()"
      ]
    },
    {
      "cell_type": "markdown",
      "id": "c4b9f579",
      "metadata": {
        "id": "c4b9f579"
      },
      "source": [
        "시퀀스와 유저 정보를 포함하는 최종 데이터셋 생성"
      ]
    },
    {
      "cell_type": "code",
      "execution_count": null,
      "id": "22608ec6",
      "metadata": {
        "id": "22608ec6"
      },
      "outputs": [],
      "source": [
        "# 유저 id - 평가 영화 id(4개) 시퀀스 데이터\n",
        "ratings_data_movies = ratings_data[[\"user_id\", \"movie_ids\"]].explode(\n",
        "    \"movie_ids\", ignore_index=True\n",
        ")\n",
        "\n",
        "# 유저 id - 평점(4개) 시퀀스 데이터\n",
        "ratings_data_rating = ratings_data[[\"ratings\"]].explode(\"ratings\", ignore_index=True)\n",
        "\n",
        "# 유저 id 별 평가 영화와 평점 시퀀스 데이터 병합\n",
        "ratings_data_transformed = pd.concat([ratings_data_movies, ratings_data_rating], axis=1)\n",
        "# 유저 데이터 병합 , 유저 id를 인덱스로 지정\n",
        "ratings_data_transformed = ratings_data_transformed.join(\n",
        "    users.set_index(\"user_id\"), on=\"user_id\"\n",
        ")\n",
        "\n",
        "# 영화 id 시퀀스 ','로 구분\n",
        "ratings_data_transformed.movie_ids = ratings_data_transformed.movie_ids.apply(\n",
        "    lambda x: \",\".join(x)\n",
        ")\n",
        "# 영화 평점 시퀀스 ','로 구분\n",
        "ratings_data_transformed.ratings = ratings_data_transformed.ratings.apply(\n",
        "    lambda x: \",\".join([str(v) for v in x])\n",
        ")\n",
        "\n",
        "# 우편 번호 데이터 삭제\n",
        "del ratings_data_transformed[\"zip_code\"]\n",
        "\n",
        "# 컬럼명 변경\n",
        "ratings_data_transformed.rename(\n",
        "    columns={\"movie_ids\": \"sequence_movie_ids\", \"ratings\": \"sequence_ratings\"},\n",
        "    inplace=True,\n",
        ")"
      ]
    },
    {
      "cell_type": "code",
      "execution_count": null,
      "id": "ea2b1033",
      "metadata": {
        "id": "ea2b1033",
        "outputId": "ca301710-527b-4782-f9c6-d8ae150d078a"
      },
      "outputs": [
        {
          "data": {
            "text/html": [
              "<div>\n",
              "<style scoped>\n",
              "    .dataframe tbody tr th:only-of-type {\n",
              "        vertical-align: middle;\n",
              "    }\n",
              "\n",
              "    .dataframe tbody tr th {\n",
              "        vertical-align: top;\n",
              "    }\n",
              "\n",
              "    .dataframe thead th {\n",
              "        text-align: right;\n",
              "    }\n",
              "</style>\n",
              "<table border=\"1\" class=\"dataframe\">\n",
              "  <thead>\n",
              "    <tr style=\"text-align: right;\">\n",
              "      <th></th>\n",
              "      <th>user_id</th>\n",
              "      <th>sequence_movie_ids</th>\n",
              "      <th>sequence_ratings</th>\n",
              "      <th>sex</th>\n",
              "      <th>age_group</th>\n",
              "      <th>occupation</th>\n",
              "    </tr>\n",
              "  </thead>\n",
              "  <tbody>\n",
              "    <tr>\n",
              "      <th>0</th>\n",
              "      <td>user_1</td>\n",
              "      <td>movie_3186,movie_1721,movie_1270,movie_1022</td>\n",
              "      <td>4.0,4.0,5.0,5.0</td>\n",
              "      <td>F</td>\n",
              "      <td>group_1</td>\n",
              "      <td>occupation_10</td>\n",
              "    </tr>\n",
              "    <tr>\n",
              "      <th>1</th>\n",
              "      <td>user_1</td>\n",
              "      <td>movie_1270,movie_1022,movie_2340,movie_1836</td>\n",
              "      <td>5.0,5.0,3.0,5.0</td>\n",
              "      <td>F</td>\n",
              "      <td>group_1</td>\n",
              "      <td>occupation_10</td>\n",
              "    </tr>\n",
              "    <tr>\n",
              "      <th>2</th>\n",
              "      <td>user_1</td>\n",
              "      <td>movie_2340,movie_1836,movie_3408,movie_1207</td>\n",
              "      <td>3.0,5.0,4.0,4.0</td>\n",
              "      <td>F</td>\n",
              "      <td>group_1</td>\n",
              "      <td>occupation_10</td>\n",
              "    </tr>\n",
              "    <tr>\n",
              "      <th>3</th>\n",
              "      <td>user_1</td>\n",
              "      <td>movie_3408,movie_1207,movie_2804,movie_260</td>\n",
              "      <td>4.0,4.0,5.0,4.0</td>\n",
              "      <td>F</td>\n",
              "      <td>group_1</td>\n",
              "      <td>occupation_10</td>\n",
              "    </tr>\n",
              "    <tr>\n",
              "      <th>4</th>\n",
              "      <td>user_1</td>\n",
              "      <td>movie_2804,movie_260,movie_720,movie_1193</td>\n",
              "      <td>5.0,4.0,3.0,5.0</td>\n",
              "      <td>F</td>\n",
              "      <td>group_1</td>\n",
              "      <td>occupation_10</td>\n",
              "    </tr>\n",
              "  </tbody>\n",
              "</table>\n",
              "</div>"
            ],
            "text/plain": [
              "  user_id                           sequence_movie_ids sequence_ratings sex  \\\n",
              "0  user_1  movie_3186,movie_1721,movie_1270,movie_1022  4.0,4.0,5.0,5.0   F   \n",
              "1  user_1  movie_1270,movie_1022,movie_2340,movie_1836  5.0,5.0,3.0,5.0   F   \n",
              "2  user_1  movie_2340,movie_1836,movie_3408,movie_1207  3.0,5.0,4.0,4.0   F   \n",
              "3  user_1   movie_3408,movie_1207,movie_2804,movie_260  4.0,4.0,5.0,4.0   F   \n",
              "4  user_1    movie_2804,movie_260,movie_720,movie_1193  5.0,4.0,3.0,5.0   F   \n",
              "\n",
              "  age_group     occupation  \n",
              "0   group_1  occupation_10  \n",
              "1   group_1  occupation_10  \n",
              "2   group_1  occupation_10  \n",
              "3   group_1  occupation_10  \n",
              "4   group_1  occupation_10  "
            ]
          },
          "metadata": {},
          "output_type": "display_data"
        },
        {
          "name": "stdout",
          "output_type": "stream",
          "text": [
            "총 시퀀스 개수 :  498623\n"
          ]
        }
      ],
      "source": [
        "display(ratings_data_transformed.head())\n",
        "print('총 시퀀스 개수 : ', len(ratings_data_transformed))"
      ]
    },
    {
      "cell_type": "markdown",
      "id": "9de5f3ab",
      "metadata": {
        "id": "9de5f3ab"
      },
      "source": [
        "최종 데이터의 85%를 train 데이터로, 15%를 test 데이터 분할하고 csv 파일로 저장"
      ]
    },
    {
      "cell_type": "code",
      "execution_count": null,
      "id": "ead0d7c5",
      "metadata": {
        "id": "ead0d7c5"
      },
      "outputs": [],
      "source": [
        "random_selection = np.random.rand(len(ratings_data_transformed.index)) <= 0.85 # 전체 데이터의 85% 랜덤 지정\n",
        "train_data = ratings_data_transformed[random_selection] # 85%의 데이터 train 데이터로 지정\n",
        "test_data = ratings_data_transformed[~random_selection] # 15%의 데이터 test 데이터로 지정\n",
        "\n",
        "#test, train 데이터 csv로 저장\n",
        "train_data.to_csv(\"train_data.csv\", index=False, sep=\"|\", header=False)\n",
        "test_data.to_csv(\"test_data.csv\", index=False, sep=\"|\", header=False)"
      ]
    },
    {
      "cell_type": "markdown",
      "id": "6c1369e2",
      "metadata": {
        "id": "6c1369e2"
      },
      "source": [
        "메타데이터 정의"
      ]
    },
    {
      "cell_type": "code",
      "execution_count": null,
      "id": "811bab88",
      "metadata": {
        "id": "811bab88"
      },
      "outputs": [],
      "source": [
        "\n",
        "# 컬럼 명 정의\n",
        "CSV_HEADER = list(ratings_data_transformed.columns)\n",
        "\n",
        "# 유저, 영화, 성별, 나이 그룹, 직업 그룹 정의\n",
        "CATEGORICAL_FEATURES_WITH_VOCABULARY = {\n",
        "    \"user_id\": list(users.user_id.unique()),\n",
        "    \"movie_id\": list(movies.movie_id.unique()),\n",
        "    \"sex\": list(users.sex.unique()),\n",
        "    \"age_group\": list(users.age_group.unique()),\n",
        "    \"occupation\": list(users.occupation.unique()),\n",
        "}\n",
        "\n",
        "# 유저 정보 - 성별, 나이, 직업\n",
        "USER_FEATURES = [\"sex\", \"age_group\", \"occupation\"]\n",
        "# 영화 정보 - 장르\n",
        "MOVIE_FEATURES = [\"genres\"]"
      ]
    },
    {
      "cell_type": "markdown",
      "id": "eb1f2c62",
      "metadata": {
        "id": "eb1f2c62"
      },
      "source": [
        "# 3. training과 평가를 위한 tf.data.Dataset 생성"
      ]
    },
    {
      "cell_type": "code",
      "execution_count": null,
      "id": "5726b5c0",
      "metadata": {
        "id": "5726b5c0"
      },
      "outputs": [],
      "source": [
        "# get_dataset_from_csv 함수 생성\n",
        "\n",
        "def get_dataset_from_csv(csv_file_path, shuffle=False, batch_size=128):\n",
        "    def process(features):\n",
        "        # 영화 id 시퀀스 ',' 기준으로 분할 후 tensor로 저장\n",
        "        movie_ids_string = features[\"sequence_movie_ids\"]\n",
        "        sequence_movie_ids = tf.strings.split(movie_ids_string, \",\").to_tensor()\n",
        "\n",
        "        # 시퀀스 별 마지막 영화 id를 target movie로 지정 (이전 3개의 영화로 마지막 1개의 영화 예측)\n",
        "        features[\"target_movie_id\"] = sequence_movie_ids[:, -1]\n",
        "        features[\"sequence_movie_ids\"] = sequence_movie_ids[:, :-1]\n",
        "\n",
        "        # 평점 시퀀스 ','를 기준으로 분할 후 tensor로 저장\n",
        "        ratings_string = features[\"sequence_ratings\"]\n",
        "        sequence_ratings = tf.strings.to_number(\n",
        "            tf.strings.split(ratings_string, \",\"), tf.dtypes.float32\n",
        "        ).to_tensor()\n",
        "\n",
        "        # The last rating in the sequence is the target for the model to predict.\n",
        "        # 시퀀스 별 마지막 평점을 target rating으로 지정 (이전 3 평점으로 마지막 1개의 평점 예측)\n",
        "        target = sequence_ratings[:, -1]\n",
        "        features[\"sequence_ratings\"] = sequence_ratings[:, :-1]\n",
        "\n",
        "        return features, target\n",
        "\n",
        "    # 배치 사이즈에 따른 데이터 set 지정\n",
        "    dataset = tf.data.experimental.make_csv_dataset(\n",
        "        csv_file_path,\n",
        "        batch_size=batch_size,\n",
        "        column_names=CSV_HEADER,\n",
        "        num_epochs=1,\n",
        "        header=False,\n",
        "        field_delim=\"|\",\n",
        "        shuffle=shuffle,\n",
        "    ).map(process)\n",
        "\n",
        "    return dataset"
      ]
    },
    {
      "cell_type": "markdown",
      "id": "6ac4ac7b",
      "metadata": {
        "id": "6ac4ac7b"
      },
      "source": [
        "# 4. 입력 모델 생성"
      ]
    },
    {
      "cell_type": "code",
      "execution_count": null,
      "id": "4f7bbf68",
      "metadata": {
        "id": "4f7bbf68"
      },
      "outputs": [],
      "source": [
        "def create_model_inputs():\n",
        "    return {\n",
        "        # 유저 id layer\n",
        "        \"user_id\": layers.Input(name=\"user_id\", shape=(1,), dtype=tf.string),\n",
        "        # 영화 id 시퀀스 layer :길이(3)\n",
        "        \"sequence_movie_ids\": layers.Input(\n",
        "            name=\"sequence_movie_ids\", shape=(sequence_length - 1,), dtype=tf.string\n",
        "        ),\n",
        "        # 타겟 영화 id layer : 길이(1)\n",
        "        \"target_movie_id\": layers.Input(\n",
        "            name=\"target_movie_id\", shape=(1,), dtype=tf.string\n",
        "        ),\n",
        "        # 영화 평점 시퀀스 layer : 길이(3)\n",
        "        \"sequence_ratings\": layers.Input(\n",
        "            name=\"sequence_ratings\", shape=(sequence_length - 1,), dtype=tf.float32\n",
        "        ),\n",
        "        # 유저 정보 layer\n",
        "        \"sex\": layers.Input(name=\"sex\", shape=(1,), dtype=tf.string),\n",
        "        \"age_group\": layers.Input(name=\"age_group\", shape=(1,), dtype=tf.string),\n",
        "        \"occupation\": layers.Input(name=\"occupation\", shape=(1,), dtype=tf.string),\n",
        "    }"
      ]
    },
    {
      "cell_type": "markdown",
      "id": "e7935dbf",
      "metadata": {
        "id": "e7935dbf"
      },
      "source": [
        "# 인코딩 입력 기능"
      ]
    },
    {
      "cell_type": "markdown",
      "id": "b686ab7d",
      "metadata": {
        "id": "b686ab7d"
      },
      "source": [
        "**작동 방법**\n",
        "\n",
        "1. 각 범주형 유저의 정보를 `layers.Embedding`를 이용해 인코딩 - 단일 입력 tensor\n",
        "2. 각 영화의 시퀀스와 타겟 영화를 `layers.Embedding`를 이용해 인코딩 (크기 : 영화 수 제곱)\n",
        "3. multi hot encoding 된 영화 장르 벡터를 임베딩 벡터와 연결, 비선형 `layers.Dense`를 이용하여 영화 임베딩 차원과 같은 크기의 벡터 출력\n",
        "4. 각 영화의 임베딩에 위치 임베딩을 추가하고 평점 시퀀스 multiply\n",
        "5. 시퀀스 영화 임베딩에 타겟 영화 임베딩을 연결하고 `[batch size, sequence length, embedding size]` 모양으로 tensor를 생성 -> transformer 구조의 attention 매커니즘으로 예측\n",
        "6. 두 개의 element 반환 : encoded_transformer_features(영화, 평점 정보), encoded_other_features(유저 정보)"
      ]
    },
    {
      "cell_type": "markdown",
      "source": [
        "## ATTENTION 설명"
      ],
      "metadata": {
        "id": "oQ6SOAqiJnMI"
      },
      "id": "oQ6SOAqiJnMI"
    },
    {
      "cell_type": "markdown",
      "source": [
        "https://diagnostic-relation-659.notion.site/ATTENTION-MECHANISM-c440c4e70b1749f88faa37e8d53ab311"
      ],
      "metadata": {
        "id": "QBdhyG9dJqad"
      },
      "id": "QBdhyG9dJqad"
    },
    {
      "cell_type": "code",
      "execution_count": null,
      "id": "35c779a7",
      "metadata": {
        "id": "35c779a7"
      },
      "outputs": [],
      "source": [
        "def encode_input_features(\n",
        "    inputs,\n",
        "    include_user_id=True,\n",
        "    include_user_features=True,\n",
        "    include_movie_features=True,\n",
        "):\n",
        "\n",
        "    encoded_transformer_features = []\n",
        "    encoded_other_features = []\n",
        "\n",
        "    other_feature_names = []\n",
        "    # 유저 정보(id, user feature)는 other_features로 지정\n",
        "    if include_user_id:\n",
        "        other_feature_names.append(\"user_id\")\n",
        "    if include_user_features:\n",
        "        other_feature_names.extend(USER_FEATURES)\n",
        "\n",
        "    ## 1.1 유저 정보 임베딩 인코더 생성\n",
        "    for feature_name in other_feature_names:\n",
        "        # 문자 변수를 숫자 index로 매핑 (unique 값 <-> 숫자 index로 연결)\n",
        "        vocabulary = CATEGORICAL_FEATURES_WITH_VOCABULARY[feature_name]\n",
        "        idx = StringLookup(vocabulary=vocabulary, mask_token=None, num_oov_indices=0)(\n",
        "            inputs[feature_name]\n",
        "        )\n",
        "        # 임베딩 차원 지정 (unique 값의 제곱근)\n",
        "        embedding_dims = int(math.sqrt(len(vocabulary)))\n",
        "        # 임베딩 레이어 생성\n",
        "        embedding_encoder = layers.Embedding(\n",
        "            input_dim=len(vocabulary), # input layer 길이 : 변수 별 unique 값\n",
        "            output_dim=embedding_dims, # output layer 길이 : 변수 별 유니크 값의 제곱근\n",
        "            name=f\"{feature_name}_embedding\",\n",
        "        )\n",
        "        # 임베딩 표현을 숫자 index에 매핑\n",
        "        encoded_other_features.append(embedding_encoder(idx))\n",
        "\n",
        "    ## 1.2 유저 정보를 단일 임베딩 벡터로 생성\n",
        "    if len(encoded_other_features) > 1:\n",
        "        encoded_other_features = layers.concatenate(encoded_other_features)\n",
        "    elif len(encoded_other_features) == 1:\n",
        "        encoded_other_features = encoded_other_features[0]\n",
        "    else:\n",
        "        encoded_other_features = None\n",
        "\n",
        "    ## 2. 영화 임베딩 인코더 생성\n",
        "    movie_vocabulary = CATEGORICAL_FEATURES_WITH_VOCABULARY[\"movie_id\"]\n",
        "    movie_embedding_dims = int(math.sqrt(len(movie_vocabulary))) # 영화 id 개수의 제곱근 값으로 임베딩 차원 지정\n",
        "    # 문자형 영화 id를 숫자 index에 매핑\n",
        "    movie_index_lookup = StringLookup(\n",
        "        vocabulary=movie_vocabulary,\n",
        "        mask_token=None,\n",
        "        num_oov_indices=0,\n",
        "        name=\"movie_index_lookup\",\n",
        "    )\n",
        "    # 임베딩 레이어 생성\n",
        "    movie_embedding_encoder = layers.Embedding(\n",
        "        input_dim=len(movie_vocabulary), # input layer 길이 : unique한 영화 id 개수\n",
        "        output_dim=movie_embedding_dims, # output layer 길이 : unique한 영화 id 개수의 제곱근\n",
        "        name=f\"movie_embedding\",\n",
        "    )\n",
        "    # 3.1.  문자형 영화 장르를 숫자 index에 매핑\n",
        "    genre_vectors = movies[genres].to_numpy()\n",
        "    movie_genres_lookup = layers.Embedding(\n",
        "        input_dim=genre_vectors.shape[0],\n",
        "        output_dim=genre_vectors.shape[1],\n",
        "        embeddings_initializer=tf.keras.initializers.Constant(genre_vectors),\n",
        "        trainable=False,\n",
        "        name=\"genres_vector\",\n",
        "    )\n",
        "    # 3.2 장르 embedding을 위한 dense 레이어 생성\n",
        "    movie_embedding_processor = layers.Dense(\n",
        "        units=movie_embedding_dims,\n",
        "        activation=\"relu\", # 활성화 함수 relu 사용\n",
        "        name=\"process_movie_embedding_with_genres\",\n",
        "    )\n",
        "\n",
        "    #3.3 입력된 영화 id를  인코딩하는 함수 정의\n",
        "    def encode_movie(movie_id):\n",
        "        # 문자형 입력을 매핑 된 정수로 변환\n",
        "        movie_idx = movie_index_lookup(movie_id)\n",
        "        movie_embedding = movie_embedding_encoder(movie_idx)\n",
        "        encoded_movie = movie_embedding\n",
        "        if include_movie_features:\n",
        "            movie_genres_vector = movie_genres_lookup(movie_idx)\n",
        "            encoded_movie = movie_embedding_processor(\n",
        "                layers.concatenate([movie_embedding, movie_genres_vector])\n",
        "            )\n",
        "        return encoded_movie\n",
        "\n",
        "    ## 4.1 타겟 영화 인코딩\n",
        "    target_movie_id = inputs[\"target_movie_id\"]\n",
        "    encoded_target_movie = encode_movie(target_movie_id)\n",
        "\n",
        "    ## 4.2. 시퀀스 영화 id 인코딩\n",
        "    sequence_movies_ids = inputs[\"sequence_movie_ids\"]\n",
        "    encoded_sequence_movies = encode_movie(sequence_movies_ids)\n",
        "\n",
        "    # 4.3 위치 임베딩 생성\n",
        "    position_embedding_encoder = layers.Embedding(\n",
        "        input_dim=sequence_length, # input layer 길이 : 시퀀스 길이\n",
        "        output_dim=movie_embedding_dims, # output layer 길이 : 영화 임베딩 차원\n",
        "        name=\"position_embedding\",\n",
        "    )\n",
        "    positions = tf.range(start=0, limit=sequence_length - 1, delta=1) # 위치 지정(0,1,2)\n",
        "    encodded_positions = position_embedding_encoder(positions) #인코딩 위치 지정\n",
        "\n",
        "    ## 4.4 평점 시퀀스를 모델에 통합\n",
        "    sequence_ratings = tf.expand_dims(inputs[\"sequence_ratings\"], -1) # 평점 시퀀스의 차원을 하나 늘림\n",
        "    encoded_sequence_movies_with_poistion_and_rating = layers.Multiply()(\n",
        "        [(encoded_sequence_movies + encodded_positions), sequence_ratings]\n",
        "    ) # 영화 시퀀스 인코딩 + 위치 인코딩에 시퀀스 평점을 곱해 새로운 인코딩 생성\n",
        "\n",
        "    ## 5. transformer 입력 데이터 구성\n",
        "    for encoded_movie in tf.unstack(\n",
        "        encoded_sequence_movies_with_poistion_and_rating, axis=1\n",
        "    ): # 축을 따라 언스택(unstack) 반복\n",
        "        encoded_transformer_features.append(tf.expand_dims(encoded_movie, 1)) # 인코딩 된 영화의 차원 추가 후 리스트에 추가\n",
        "    encoded_transformer_features.append(encoded_target_movie) # 타겟 영화 리스트에 추가\n",
        "\n",
        "    encoded_transformer_features = layers.concatenate(\n",
        "        encoded_transformer_features, axis=1\n",
        "    ) # 리스트의 인코딩된 영화와 타겟 영화를 연결 - 하나의 tensor로 생성\n",
        "\n",
        "    ## 6. transformer로 연결된 encoded_transformer_features와 다른 유저 정보인 encoded_other_features 반환\n",
        "    return encoded_transformer_features, encoded_other_features"
      ]
    },
    {
      "cell_type": "markdown",
      "id": "17aac7f1",
      "metadata": {
        "id": "17aac7f1"
      },
      "source": [
        "# 5. BST 모델 생성"
      ]
    },
    {
      "cell_type": "code",
      "execution_count": null,
      "id": "c64846f6",
      "metadata": {
        "id": "c64846f6"
      },
      "outputs": [],
      "source": [
        "# 입력 변수 설정\n",
        "include_user_id = False\n",
        "include_user_features = False\n",
        "include_movie_features = False\n",
        "\n",
        "hidden_units = [256, 128] # 은닉층 유닛 수 지정\n",
        "dropout_rate = 0.1 # 드롭아웃 비율 지정\n",
        "num_heads = 3 # MULTI HEAD ATTENTION에서 사용할 어텐션 헤드 수 지정\n",
        "\n",
        "\n",
        "# 트랜스포머 구조의 BST 함수 정의\n",
        "def create_model():\n",
        "    inputs = create_model_inputs() # 모델 입력 생성\n",
        "    transformer_features, other_features = encode_input_features(\n",
        "        inputs, include_user_id, include_user_features, include_movie_features\n",
        "    )\n",
        "\n",
        "    # MULTI-HEAD ATTENTION 레이어 생성\n",
        "    attention_output = layers.MultiHeadAttention(\n",
        "        num_heads=num_heads, key_dim=transformer_features.shape[2], dropout=dropout_rate\n",
        "    )(transformer_features, transformer_features)\n",
        "\n",
        "    # Transformer 블록\n",
        "    attention_output = layers.Dropout(dropout_rate)(attention_output) # 어텐션 출력의 드롭아웃 적용\n",
        "    x1 = layers.Add()([transformer_features, attention_output]) # transformer feature과 어텐션 출력 더함\n",
        "    x1 = layers.LayerNormalization()(x1) # 출력 정규화\n",
        "    x2 = layers.LeakyReLU()(x1) #LeakyReLU 활성화 함수 적용\n",
        "    x2 = layers.Dense(units=x2.shape[-1])(x2) # 완전 연결 레이어 추가\n",
        "    x2 = layers.Dropout(dropout_rate)(x2) # 드롭아웃 적용\n",
        "    transformer_features = layers.Add()([x1, x2]) # x1과 x2 더함\n",
        "    transformer_features = layers.LayerNormalization()(transformer_features) # 출력 정규화\n",
        "    features = layers.Flatten()(transformer_features) # 트랜스포머 출력 Flatten\n",
        "\n",
        "    # 다른 feature(유저 정보) 추가\n",
        "    if other_features is not None:\n",
        "        features = layers.concatenate(\n",
        "            [features, layers.Reshape([other_features.shape[-1]])(other_features)]\n",
        "        )\n",
        "\n",
        "    # 완전 연결 레이어 생성\n",
        "    for num_units in hidden_units:\n",
        "        features = layers.Dense(num_units)(features) # 은닉층에 따른 여러 개의 완전 연결 레이어 추가\n",
        "        features = layers.BatchNormalization()(features) # 배치 정규화\n",
        "        features = layers.LeakyReLU()(features) # LeakyReLU 활성화 함수 추가\n",
        "        features = layers.Dropout(dropout_rate)(features) # 드롭아웃 적용\n",
        "\n",
        "\n",
        "    # 출력 레이어 생성\n",
        "    outputs = layers.Dense(units=1)(features) # 출력 유닛 1개\n",
        "    model = keras.Model(inputs=inputs, outputs=outputs) # 모델 생성\n",
        "    return model\n",
        "\n",
        "# 모델 생성\n",
        "model = create_model()"
      ]
    },
    {
      "cell_type": "markdown",
      "id": "5611e4b2",
      "metadata": {
        "id": "5611e4b2"
      },
      "source": [
        "# 6. TRAINING & 평가"
      ]
    },
    {
      "cell_type": "code",
      "execution_count": null,
      "id": "6f55eeeb",
      "metadata": {
        "id": "6f55eeeb",
        "outputId": "1dff91f7-6803-4557-fede-d213a02d217c"
      },
      "outputs": [
        {
          "name": "stdout",
          "output_type": "stream",
          "text": [
            "Epoch 1/5\n",
            "1600/1600 [==============================] - 52s 32ms/step - loss: 1.3075 - mean_absolute_error: 0.9039\n",
            "Epoch 2/5\n",
            "1600/1600 [==============================] - 42s 26ms/step - loss: 1.0273 - mean_absolute_error: 0.8087\n",
            "Epoch 3/5\n",
            "1600/1600 [==============================] - 39s 24ms/step - loss: 0.9688 - mean_absolute_error: 0.7846\n",
            "Epoch 4/5\n",
            "1600/1600 [==============================] - 37s 23ms/step - loss: 0.9366 - mean_absolute_error: 0.7709\n",
            "Epoch 5/5\n",
            "1600/1600 [==============================] - 39s 24ms/step - loss: 0.9143 - mean_absolute_error: 0.7613\n",
            "Test MAE: 0.767\n"
          ]
        }
      ],
      "source": [
        "# 모델 컴파일\n",
        "model.compile(\n",
        "    optimizer=keras.optimizers.Adagrad(learning_rate=0.01), # 최적화 Adagrad\n",
        "    loss=keras.losses.MeanSquaredError(), # LOSS : MSE\n",
        "    metrics=[keras.metrics.MeanAbsoluteError()], # 측정 : MAE\n",
        ")\n",
        "\n",
        "# Train 데이터 불러오기\n",
        "train_dataset = get_dataset_from_csv(\"train_data.csv\", shuffle=True, batch_size=265)\n",
        "\n",
        "# train 데이터 모델에 적용\n",
        "model.fit(train_dataset, epochs=5) # 에포크 5\n",
        "\n",
        "# 테스트 데이터 불러오기\n",
        "test_dataset = get_dataset_from_csv(\"test_data.csv\", batch_size=265)\n",
        "\n",
        "# 테스트 데이터로 모델 평가\n",
        "_, rmse = model.evaluate(test_dataset, verbose=0) # RMSE 사용\n",
        "print(f\"Test MAE: {round(rmse, 3)}\")"
      ]
    },
    {
      "cell_type": "markdown",
      "id": "5a39d9bd",
      "metadata": {
        "id": "5a39d9bd"
      },
      "source": [
        "MAE 약 0.76"
      ]
    },
    {
      "cell_type": "markdown",
      "source": [
        "<BR>"
      ],
      "metadata": {
        "id": "v2mqYdgfKJIW"
      },
      "id": "v2mqYdgfKJIW"
    },
    {
      "cell_type": "code",
      "source": [],
      "metadata": {
        "id": "NoUeVEVqKcf8"
      },
      "id": "NoUeVEVqKcf8",
      "execution_count": null,
      "outputs": []
    },
    {
      "cell_type": "markdown",
      "source": [
        "<BR>\n"
      ],
      "metadata": {
        "id": "vbxaxw6DKLT5"
      },
      "id": "vbxaxw6DKLT5"
    },
    {
      "cell_type": "markdown",
      "source": [
        "BST가 사용된 논문\n",
        "\n",
        "## Behavior Sequence Transformer for E-commerce Recommendation in Alibaba (2019)\n",
        "\n",
        "이전"
      ],
      "metadata": {
        "id": "tBRo9KLsKNde"
      },
      "id": "tBRo9KLsKNde"
    },
    {
      "cell_type": "markdown",
      "source": [
        "https://arxiv.org/abs/1905.06874"
      ],
      "metadata": {
        "id": "q8ICDF7VKdFc"
      },
      "id": "q8ICDF7VKdFc"
    },
    {
      "cell_type": "markdown",
      "source": [
        "### 서론\n",
        "\n",
        "•\t추천 시스템의 유행으로 지난 5년 동안 딥러닝 기반 방식들이 시장에서 많이 사용 됨 (구글과 에어비앤비)\n",
        "\n",
        "\n",
        "•\t중국에서 가장 큰 이커머스 플랫폼인 **알리바바**의 경우, 추천시스템이 GMV(총 상품 판매량)과 수입에 핵심 요소\n",
        "\n",
        "•\t알리바바의 추천 시스템은 **match & rank** 두 단계의 파이프라인으로 구성\n",
        "\n",
        "> **match**: 유저와 연관 있는 아이템에 따라  유사한 아이템 세트 선택.\n",
        "\n",
        "> 파인 튜닝된 예측 모델 사용 -> 주어진 후보 아이템 세트를 클릭할 가능성을 예측하기 위한 학습\n",
        "\n",
        "\n",
        "•\t해당 논문에서는 알리바바의 타오바오(C2C 플랫폼)의 **rank 단계에 집중**-> 유저의 이전 행동을 바탕으로 이후 유저는 어떤 후보 아이템을 클릭할 것인가?\n",
        "\n",
        "\n",
        "•\t소비자 행동 시퀀스의 근본적인 sequential signal -> 주문에 있어서는 유저의 **미래 클릭을 예측하는 것이 중요** ex) 바지 사고 나서 그것과 잘 맞는 신발을 주문하는 것\n",
        "\n",
        "\n",
        "•\t그러므로 타오바오 추천 시스템에 소비자 행동 시퀀스의 sequential signal을 포함시키고자 함\n",
        "\n",
        "\n",
        "•\trank 단계에서 CTR(ClickThrough Rate/클릭률) 예측을 이행\n"
      ],
      "metadata": {
        "id": "_PNOAW8iKgur"
      },
      "id": "_PNOAW8iKgur"
    },
    {
      "cell_type": "markdown",
      "source": [
        "### 데이터& 방법론\n",
        "\n",
        "타오바오 어플 로그\n",
        "\n",
        "→ 8일 간 사용자 행동에 기반한 오프라인 데이터셋 구축\n",
        "\n",
        "→ 첫 일주일은 train으로, 마지막 날 데이터를 test로 사용 (window=7)\n",
        "\n",
        "-offline experiment와 online A/B Test 구성\n",
        "\n",
        "**BST 모델 사용**"
      ],
      "metadata": {
        "id": "Myqq_0jfLong"
      },
      "id": "Myqq_0jfLong"
    },
    {
      "cell_type": "markdown",
      "source": [
        "![image.png](data:image/png;base64,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)"
      ],
      "metadata": {
        "id": "LrqXhXbbMDUH"
      },
      "id": "LrqXhXbbMDUH"
    },
    {
      "cell_type": "markdown",
      "source": [
        "### 결과"
      ],
      "metadata": {
        "id": "G5BEE2fULx4I"
      },
      "id": "G5BEE2fULx4I"
    },
    {
      "cell_type": "markdown",
      "source": [
        "![image.png](data:image/png;base64,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)\n"
      ],
      "metadata": {
        "id": "Zg_BJYrFLzov"
      },
      "id": "Zg_BJYrFLzov"
    }
  ],
  "metadata": {
    "kernelspec": {
      "display_name": "Python 3 (ipykernel)",
      "language": "python",
      "name": "python3"
    },
    "language_info": {
      "codemirror_mode": {
        "name": "ipython",
        "version": 3
      },
      "file_extension": ".py",
      "mimetype": "text/x-python",
      "name": "python",
      "nbconvert_exporter": "python",
      "pygments_lexer": "ipython3",
      "version": "3.10.9"
    },
    "colab": {
      "provenance": []
    }
  },
  "nbformat": 4,
  "nbformat_minor": 5
}