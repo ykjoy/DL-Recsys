{
  "nbformat": 4,
  "nbformat_minor": 0,
  "metadata": {
    "colab": {
      "provenance": []
    },
    "kernelspec": {
      "name": "python3",
      "display_name": "Python 3"
    },
    "language_info": {
      "name": "python"
    },
    "accelerator": "GPU"
  },
  "cells": [
    {
      "cell_type": "markdown",
      "source": [
        "# 코드 출처\n",
        "https://github.com/SeongBeomLEE/RecsysTutorial"
      ],
      "metadata": {
        "id": "ctnVJWrm4NAt"
      }
    },
    {
      "cell_type": "markdown",
      "source": [
        "# 환경설정"
      ],
      "metadata": {
        "id": "vEv67iRh1NT6"
      }
    },
    {
      "cell_type": "code",
      "source": [
        "!pip install kaggle --upgrade"
      ],
      "metadata": {
        "colab": {
          "base_uri": "https://localhost:8080/"
        },
        "id": "JyAoK3Jk1POy",
        "outputId": "354c4586-a466-4fc9-c1f3-4ffdbef6296c"
      },
      "execution_count": null,
      "outputs": [
        {
          "output_type": "stream",
          "name": "stdout",
          "text": [
            "Requirement already satisfied: kaggle in /usr/local/lib/python3.10/dist-packages (1.5.16)\n",
            "Requirement already satisfied: six>=1.10 in /usr/local/lib/python3.10/dist-packages (from kaggle) (1.16.0)\n",
            "Requirement already satisfied: certifi in /usr/local/lib/python3.10/dist-packages (from kaggle) (2023.7.22)\n",
            "Requirement already satisfied: python-dateutil in /usr/local/lib/python3.10/dist-packages (from kaggle) (2.8.2)\n",
            "Requirement already satisfied: requests in /usr/local/lib/python3.10/dist-packages (from kaggle) (2.31.0)\n",
            "Requirement already satisfied: tqdm in /usr/local/lib/python3.10/dist-packages (from kaggle) (4.66.1)\n",
            "Requirement already satisfied: python-slugify in /usr/local/lib/python3.10/dist-packages (from kaggle) (8.0.1)\n",
            "Requirement already satisfied: urllib3 in /usr/local/lib/python3.10/dist-packages (from kaggle) (2.0.7)\n",
            "Requirement already satisfied: bleach in /usr/local/lib/python3.10/dist-packages (from kaggle) (6.1.0)\n",
            "Requirement already satisfied: webencodings in /usr/local/lib/python3.10/dist-packages (from bleach->kaggle) (0.5.1)\n",
            "Requirement already satisfied: text-unidecode>=1.3 in /usr/local/lib/python3.10/dist-packages (from python-slugify->kaggle) (1.3)\n",
            "Requirement already satisfied: charset-normalizer<4,>=2 in /usr/local/lib/python3.10/dist-packages (from requests->kaggle) (3.3.2)\n",
            "Requirement already satisfied: idna<4,>=2.5 in /usr/local/lib/python3.10/dist-packages (from requests->kaggle) (3.4)\n"
          ]
        }
      ]
    },
    {
      "cell_type": "code",
      "source": [
        "from google.colab import files\n",
        "\n",
        "files.upload()  #본인의 kaggle.json 파일업로드"
      ],
      "metadata": {
        "id": "2chzbUWt1PRS"
      },
      "execution_count": null,
      "outputs": []
    },
    {
      "cell_type": "code",
      "source": [
        "!mkdir -p ~/.kaggle\n",
        "!cp kaggle.json ~/.kaggle/\n",
        "!chmod 600 ~/.kaggle/kaggle.json\n",
        "\n",
        "!ls -1ha kaggle.json"
      ],
      "metadata": {
        "colab": {
          "base_uri": "https://localhost:8080/"
        },
        "id": "ZOSuRgwC1jnf",
        "outputId": "8815f1cc-e19f-40f3-d511-618b914eb1cf"
      },
      "execution_count": null,
      "outputs": [
        {
          "output_type": "stream",
          "name": "stdout",
          "text": [
            "kaggle.json\n"
          ]
        }
      ]
    },
    {
      "cell_type": "markdown",
      "source": [
        "## 데이터로드"
      ],
      "metadata": {
        "id": "XWY6fo5u77DY"
      }
    },
    {
      "cell_type": "code",
      "source": [
        "!kaggle datasets download -d rajmehra03/movielens100k  #MovieLens-100k 데이터 가져오기"
      ],
      "metadata": {
        "colab": {
          "base_uri": "https://localhost:8080/"
        },
        "id": "D0CQ8_cD1jpy",
        "outputId": "a371d861-6581-4b4b-c22b-7fe69038dad2"
      },
      "execution_count": null,
      "outputs": [
        {
          "output_type": "stream",
          "name": "stdout",
          "text": [
            "Downloading movielens100k.zip to /content\n",
            "\r  0% 0.00/1.69M [00:00<?, ?B/s]\n",
            "\r100% 1.69M/1.69M [00:00<00:00, 115MB/s]\n"
          ]
        }
      ]
    },
    {
      "cell_type": "code",
      "source": [
        "!unzip 'movielens100k.zip'"
      ],
      "metadata": {
        "colab": {
          "base_uri": "https://localhost:8080/"
        },
        "id": "HS3oqFIJ1jsC",
        "outputId": "659a455b-fb9a-48fc-90b8-1abb8d79ee40"
      },
      "execution_count": null,
      "outputs": [
        {
          "output_type": "stream",
          "name": "stdout",
          "text": [
            "Archive:  movielens100k.zip\n",
            "  inflating: links.csv               \n",
            "  inflating: movies.csv              \n",
            "  inflating: ratings.csv             \n",
            "  inflating: tags.csv                \n",
            "  inflating: u.data                  \n"
          ]
        }
      ]
    },
    {
      "cell_type": "markdown",
      "source": [
        "# BERT4Rec"
      ],
      "metadata": {
        "id": "JOWgGDpw1Ob8"
      }
    },
    {
      "cell_type": "code",
      "source": [
        "!pip install python-box"
      ],
      "metadata": {
        "colab": {
          "base_uri": "https://localhost:8080/"
        },
        "id": "xzJgxsrewLBy",
        "outputId": "cd8ea758-fb7f-4e11-c307-2cca32a07d5b"
      },
      "execution_count": null,
      "outputs": [
        {
          "output_type": "stream",
          "name": "stdout",
          "text": [
            "Requirement already satisfied: python-box in /usr/local/lib/python3.10/dist-packages (7.1.1)\n"
          ]
        }
      ]
    },
    {
      "cell_type": "code",
      "execution_count": null,
      "metadata": {
        "id": "Ug-br-pPu9vZ"
      },
      "outputs": [],
      "source": [
        "import math\n",
        "import random\n",
        "import numpy as np\n",
        "import pandas as pd\n",
        "from tqdm import tqdm\n",
        "from collections import defaultdict\n",
        "import os\n",
        "\n",
        "import torch\n",
        "import torch.nn as nn\n",
        "import torch.nn.functional as F\n",
        "from torch.utils.data import Dataset, DataLoader\n",
        "\n",
        "from box import Box\n",
        "\n",
        "import warnings\n",
        "\n",
        "warnings.filterwarnings(action='ignore')\n",
        "torch.set_printoptions(sci_mode=True)"
      ]
    },
    {
      "cell_type": "markdown",
      "metadata": {
        "id": "pbRKDSg4u9vc"
      },
      "source": [
        "## 1. 학습 설정"
      ]
    },
    {
      "cell_type": "code",
      "execution_count": null,
      "metadata": {
        "id": "mlm1UrKvoC_O"
      },
      "outputs": [],
      "source": [
        "config = {\n",
        "    'data_path' : \"/content\" , # 데이터 경로\n",
        "\n",
        "    'max_len' : 50,\n",
        "    'hidden_units' : 50, # Embedding size\n",
        "    'num_heads' : 1, # Multi-head layer 의 수 (병렬 처리)\n",
        "    'num_layers': 2, # block의 개수 (encoder layer의 개수)\n",
        "    'dropout_rate' : 0.5, # dropout 비율\n",
        "    'lr' : 0.001,\n",
        "    'batch_size' : 128,\n",
        "    'num_epochs' : 50,\n",
        "    'num_workers' : 2,\n",
        "    'mask_prob' : 0.15, # for cloze task\n",
        "}\n",
        "\n",
        "device = 'cuda' if torch.cuda.is_available() else 'cpu'\n",
        "\n",
        "config = Box(config)"
      ]
    },
    {
      "cell_type": "markdown",
      "metadata": {
        "id": "wjDxy0fJu9vf"
      },
      "source": [
        "## 2. 데이터 전처리"
      ]
    },
    {
      "cell_type": "code",
      "execution_count": null,
      "metadata": {
        "id": "W64BYWl0u9vg"
      },
      "outputs": [],
      "source": [
        "class MakeSequenceDataSet():\n",
        "    \"\"\"\n",
        "    SequenceData 생성\n",
        "    \"\"\"\n",
        "    def __init__(self, config):\n",
        "        self.config = config\n",
        "        self.df = pd.read_csv(os.path.join(self.config.data_path, 'ratings.csv'))\n",
        "\n",
        "        self.item_encoder, self.item_decoder = self.generate_encoder_decoder('movieId')\n",
        "        self.user_encoder, self.user_decoder = self.generate_encoder_decoder('userId')\n",
        "        self.num_item, self.num_user = len(self.item_encoder), len(self.user_encoder)\n",
        "\n",
        "        self.df['item_idx'] = self.df['movieId'].apply(lambda x : self.item_encoder[x] + 1)\n",
        "        self.df['user_idx'] = self.df['userId'].apply(lambda x : self.user_encoder[x])\n",
        "        self.df = self.df.sort_values(['user_idx', 'timestamp']) # 시간에 따라 정렬\n",
        "        self.user_train, self.user_valid = self.generate_sequence_data()\n",
        "\n",
        "    def generate_encoder_decoder(self, col : str) -> dict:\n",
        "        \"\"\"\n",
        "        encoder, decoder 생성\n",
        "\n",
        "        Args:\n",
        "            col (str): 생성할 columns 명\n",
        "        Returns:\n",
        "            dict: 생성된 user encoder, decoder\n",
        "        \"\"\"\n",
        "\n",
        "        encoder = {}\n",
        "        decoder = {}\n",
        "        ids = self.df[col].unique()\n",
        "\n",
        "        for idx, _id in enumerate(ids):\n",
        "            encoder[_id] = idx\n",
        "            decoder[idx] = _id\n",
        "\n",
        "        return encoder, decoder\n",
        "\n",
        "    def generate_sequence_data(self) -> dict:\n",
        "        \"\"\"\n",
        "        sequence_data 생성\n",
        "\n",
        "        Returns:\n",
        "            dict: train user sequence / valid user sequence\n",
        "        \"\"\"\n",
        "        users = defaultdict(list)\n",
        "        user_train = {}\n",
        "        user_valid = {}\n",
        "        group_df = self.df.groupby('user_idx')\n",
        "        for user, item in group_df:\n",
        "            users[user].extend(item['item_idx'].tolist())\n",
        "\n",
        "        for user in users:\n",
        "            user_train[user] = users[user][:-1]\n",
        "            user_valid[user] = [users[user][-1]] # 마지막 아이템을 예측\n",
        "\n",
        "        return user_train, user_valid\n",
        "\n",
        "    def get_train_valid_data(self):\n",
        "        return self.user_train, self.user_valid"
      ]
    },
    {
      "cell_type": "code",
      "execution_count": null,
      "metadata": {
        "id": "IldCGmY8u9vh"
      },
      "outputs": [],
      "source": [
        "class BERTRecDataSet(Dataset):\n",
        "    def __init__(self, user_train, max_len, num_user, num_item, mask_prob):\n",
        "        self.user_train = user_train\n",
        "        self.max_len = max_len\n",
        "        self.num_user = num_user\n",
        "        self.num_item = num_item\n",
        "        self.mask_prob = mask_prob\n",
        "        self._all_items = set([i for i in range(1, self.num_item + 1)])\n",
        "\n",
        "    def __len__(self):\n",
        "        # 총 user의 수 = 학습에 사용할 sequence의 수\n",
        "        return self.num_user\n",
        "\n",
        "    def __getitem__(self, user):\n",
        "\n",
        "        user_seq = self.user_train[user]\n",
        "        tokens = []\n",
        "        labels = []\n",
        "        for s in user_seq[-self.max_len:]:\n",
        "            prob = np.random.random()\n",
        "            if prob < self.mask_prob:\n",
        "                prob /= self.mask_prob\n",
        "                if prob < 0.8:\n",
        "                    # masking\n",
        "                    tokens.append(self.num_item + 1)  # mask_index: num_item + 1, 0: pad, 1~num_item: item index\n",
        "                elif prob < 0.9:\n",
        "                    # noise\n",
        "                    tokens.extend(self.random_neg_sampling(rated_item = user_seq, num_item_sample = 1))  # item random sampling\n",
        "                else:\n",
        "                    tokens.append(s)\n",
        "                labels.append(s) # 학습에 사용 O\n",
        "            else:\n",
        "                tokens.append(s)\n",
        "                labels.append(0) # 학습에 사용 X\n",
        "\n",
        "        mask_len = self.max_len - len(tokens)\n",
        "        tokens = [0] * mask_len + tokens\n",
        "        labels = [0] * mask_len + labels\n",
        "\n",
        "        return torch.LongTensor(tokens), torch.LongTensor(labels)\n",
        "\n",
        "    def random_neg_sampling(self, rated_item : list, num_item_sample : int):\n",
        "        nge_samples = random.sample(list(self._all_items - set(rated_item)), num_item_sample)\n",
        "        return nge_samples"
      ]
    },
    {
      "cell_type": "markdown",
      "metadata": {
        "id": "Jtf1I824nx5V"
      },
      "source": [
        "## 3. 모델"
      ]
    },
    {
      "cell_type": "code",
      "source": [
        "class ScaledDotProductAttention(nn.Module):\n",
        "    def __init__(self, hidden_units, dropout_rate):\n",
        "        super(ScaledDotProductAttention, self).__init__()\n",
        "        self.hidden_units = hidden_units\n",
        "        self.dropout = nn.Dropout(dropout_rate)\n",
        "\n",
        "    def forward(self, Q, K, V, mask):\n",
        "        \"\"\"\n",
        "        Q, K, V : (batch_size, num_heads, max_len, hidden_units)\n",
        "        mask : (batch_size, 1, max_len, max_len)\n",
        "        \"\"\"\n",
        "        attn_score = torch.matmul(Q, K.transpose(2, 3)) / math.sqrt(self.hidden_units) # (batch_size, num_heads, max_len, max_len)\n",
        "        attn_score = attn_score.masked_fill(mask == 0, -1e9)  # 유사도가 0인 지점은 -infinity로 보내 softmax 결과가 0이 되도록 함\n",
        "        attn_dist = self.dropout(F.softmax(attn_score, dim=-1))  # attention distribution\n",
        "        output = torch.matmul(attn_dist, V)  # (batch_size, num_heads, max_len, hidden_units) / # dim of output : batchSize x num_head x seqLen x hidden_units\n",
        "        return output, attn_dist\n",
        "\n",
        "\n",
        "class MultiHeadAttention(nn.Module):\n",
        "    def __init__(self, num_heads, hidden_units, dropout_rate):\n",
        "        super(MultiHeadAttention, self).__init__()\n",
        "        self.num_heads = num_heads # head의 수\n",
        "        self.hidden_units = hidden_units\n",
        "\n",
        "        # query, key, value, output 생성을 위해 Linear 모델 생성\n",
        "        self.W_Q = nn.Linear(hidden_units, hidden_units * num_heads, bias=False)\n",
        "        self.W_K = nn.Linear(hidden_units, hidden_units * num_heads, bias=False)\n",
        "        self.W_V = nn.Linear(hidden_units, hidden_units * num_heads, bias=False)\n",
        "        self.W_O = nn.Linear(hidden_units * num_heads, hidden_units, bias=False)\n",
        "\n",
        "        self.attention = ScaledDotProductAttention(hidden_units, dropout_rate)\n",
        "        self.dropout = nn.Dropout(dropout_rate) # dropout rate\n",
        "        self.layerNorm = nn.LayerNorm(hidden_units, 1e-6) # layer normalization\n",
        "\n",
        "    def forward(self, enc, mask):\n",
        "        \"\"\"\n",
        "        enc : (batch_size, max_len, hidden_units)\n",
        "        mask : (batch_size, 1, max_len, max_len)\n",
        "\n",
        "        \"\"\"\n",
        "        residual = enc # residual connection을 위해 residual 부분을 저장\n",
        "        batch_size, seqlen = enc.size(0), enc.size(1)\n",
        "\n",
        "        # Query, Key, Value를 (num_head)개의 Head로 나누어 각기 다른 Linear projection을 통과시킴\n",
        "        Q = self.W_Q(enc).view(batch_size, seqlen, self.num_heads, self.hidden_units) # (batch_size, max_len, num_heads, hidden_units)\n",
        "        K = self.W_K(enc).view(batch_size, seqlen, self.num_heads, self.hidden_units) # (batch_size, max_len, num_heads, hidden_units)\n",
        "        V = self.W_V(enc).view(batch_size, seqlen, self.num_heads, self.hidden_units) # (batch_size, max_len, num_heads, hidden_units)\n",
        "\n",
        "        # Head별로 각기 다른 attention이 가능하도록 Transpose 후 각각 attention에 통과시킴\n",
        "        Q, K, V = Q.transpose(1, 2), K.transpose(1, 2), V.transpose(1, 2) # (batch_size, num_heads, max_len, hidden_units)\n",
        "        output, attn_dist = self.attention(Q, K, V, mask) # output : (batch_size, num_heads, max_len, hidden_units) / attn_dist : (batch_size, num_heads, max_len, max_len)\n",
        "\n",
        "        # 다시 Transpose한 후 모든 head들의 attention 결과를 합칩니다.\n",
        "        output = output.transpose(1, 2).contiguous() # (batch_size, max_len, num_heads, hidden_units) / contiguous() : 가변적 메모리 할당\n",
        "        output = output.view(batch_size, seqlen, -1) # (batch_size, max_len, hidden_units * num_heads)\n",
        "\n",
        "        # Linear Projection, Dropout, Residual sum, and Layer Normalization\n",
        "        output = self.layerNorm(self.dropout(self.W_O(output)) + residual) # (batch_size, max_len, hidden_units)\n",
        "        return output, attn_dist\n",
        "\n",
        "\n",
        "class PositionwiseFeedForward(nn.Module):\n",
        "    def __init__(self, hidden_units, dropout_rate):\n",
        "        super(PositionwiseFeedForward, self).__init__()\n",
        "\n",
        "        self.W_1 = nn.Linear(hidden_units, hidden_units)\n",
        "        self.W_2 = nn.Linear(hidden_units, hidden_units)\n",
        "        self.dropout = nn.Dropout(dropout_rate)\n",
        "        self.layerNorm = nn.LayerNorm(hidden_units, 1e-6) # layer normalization\n",
        "\n",
        "    def forward(self, x):\n",
        "        residual = x\n",
        "        output = self.W_2(F.relu(self.dropout(self.W_1(x))))\n",
        "        output = self.layerNorm(self.dropout(output) + residual)\n",
        "        return output\n",
        "\n",
        "\n",
        "class BERT4RecBlock(nn.Module):\n",
        "    def __init__(self, num_heads, hidden_units, dropout_rate):\n",
        "        super(BERT4RecBlock, self).__init__()\n",
        "        self.attention = MultiHeadAttention(num_heads, hidden_units, dropout_rate)\n",
        "        self.pointwise_feedforward = PositionwiseFeedForward(hidden_units, dropout_rate)\n",
        "\n",
        "    def forward(self, input_enc, mask):\n",
        "        output_enc, attn_dist = self.attention(input_enc, mask)\n",
        "        output_enc = self.pointwise_feedforward(output_enc)\n",
        "        return output_enc, attn_dist\n",
        "\n",
        "\n",
        "class BERT4Rec(nn.Module):\n",
        "    def __init__(self, num_user, num_item, hidden_units, num_heads, num_layers, max_len, dropout_rate, device):\n",
        "        super(BERT4Rec, self).__init__()\n",
        "\n",
        "        self.num_user = num_user\n",
        "        self.num_item = num_item\n",
        "        self.hidden_units = hidden_units\n",
        "        self.num_heads = num_heads\n",
        "        self.num_layers = num_layers\n",
        "        self.device = device\n",
        "\n",
        "        self.item_emb = nn.Embedding(num_item + 2, hidden_units, padding_idx=0) # padding : 0 / item : 1 ~ num_item + 1 /  mask : num_item + 2\n",
        "        self.pos_emb = nn.Embedding(max_len, hidden_units) # learnable positional encoding\n",
        "        self.dropout = nn.Dropout(dropout_rate)\n",
        "        self.emb_layernorm = nn.LayerNorm(hidden_units, eps=1e-6)\n",
        "\n",
        "        self.blocks = nn.ModuleList([BERT4RecBlock(num_heads, hidden_units, dropout_rate) for _ in range(num_layers)])\n",
        "        self.out = nn.Linear(hidden_units, num_item + 1)\n",
        "\n",
        "    def forward(self, log_seqs):\n",
        "        \"\"\"\n",
        "        log_seqs : (batch_size, max_len)\n",
        "\n",
        "        ex)\n",
        "        log_seqs = [\n",
        "                [1, 2, 3, 4, 5],\n",
        "                [0, 0, 0, 1, 2],\n",
        "                [0, 0, 1, 2, 3]\n",
        "        ]\n",
        "\n",
        "        \"\"\"\n",
        "        seqs = self.item_emb(torch.LongTensor(log_seqs).to(self.device)) # (batch_size, max_len, hidden_units)\n",
        "        positions = np.tile(np.array(range(log_seqs.shape[1])), [log_seqs.shape[0], 1]) # (batch_size, max_len)\n",
        "        seqs += self.pos_emb(torch.LongTensor(positions).to(self.device)) # (batch_size, max_len, hidden_units)\n",
        "        seqs = self.emb_layernorm(self.dropout(seqs)) # LayerNorm\n",
        "\n",
        "        mask_pad = torch.BoolTensor(log_seqs > 0).unsqueeze(1).repeat(1, log_seqs.shape[1], 1).unsqueeze(1).to(self.device) # mask for zero pad / (batch_size, 1, max_len, max_len)\n",
        "        for block in self.blocks:\n",
        "            seqs, attn_dist = block(seqs, mask_pad)\n",
        "        out = self.out(seqs) # (batch_size, max_len, num_item + 1)\n",
        "        return out"
      ],
      "metadata": {
        "id": "YHtV72JbFX7M"
      },
      "execution_count": null,
      "outputs": []
    },
    {
      "cell_type": "markdown",
      "metadata": {
        "id": "dk-bL5p4nx5W"
      },
      "source": [
        "## 4. 학습 함수"
      ]
    },
    {
      "cell_type": "code",
      "source": [
        "def train(model, criterion, optimizer, data_loader):\n",
        "    model.train()\n",
        "    loss_val = 0\n",
        "    for seq, labels in data_loader:\n",
        "        logits = model(seq)\n",
        "\n",
        "        logits = logits.view(-1, logits.size(-1))\n",
        "        labels = labels.view(-1).to(device)\n",
        "\n",
        "        optimizer.zero_grad()\n",
        "        loss = criterion(logits, labels)\n",
        "\n",
        "        loss_val += loss.item()\n",
        "\n",
        "        loss.backward()\n",
        "        optimizer.step()\n",
        "\n",
        "    loss_val /= len(data_loader)\n",
        "\n",
        "    return loss_val\n",
        "\n",
        "def evaluate(model, user_train, user_valid, max_len, bert4rec_dataset, make_sequence_dataset):\n",
        "    model.eval()\n",
        "\n",
        "    NDCG = 0.0 # NDCG@10\n",
        "    HIT = 0.0 # HIT@10\n",
        "\n",
        "    num_item_sample = 100\n",
        "\n",
        "    users = [user for user in range(make_sequence_dataset.num_user)]\n",
        "\n",
        "    for user in users:\n",
        "        seq = (user_train[user] + [make_sequence_dataset.num_item + 1])[-max_len:]\n",
        "        rated = user_train[user] + user_valid[user]\n",
        "        items = user_valid[user] + bert4rec_dataset.random_neg_sampling(rated_item = rated, num_item_sample = num_item_sample)\n",
        "\n",
        "        with torch.no_grad():\n",
        "            predictions = -model(np.array([seq]))\n",
        "            predictions = predictions[0][-1][items] # sampling\n",
        "            rank = predictions.argsort().argsort()[0].item()\n",
        "\n",
        "        if rank < 10: #Top10\n",
        "            NDCG += 1 / np.log2(rank + 2)\n",
        "            HIT += 1\n",
        "\n",
        "    NDCG /= len(users)\n",
        "    HIT /= len(users)\n",
        "\n",
        "    return NDCG, HIT"
      ],
      "metadata": {
        "id": "9YGrj0ztii9u"
      },
      "execution_count": null,
      "outputs": []
    },
    {
      "cell_type": "markdown",
      "metadata": {
        "id": "ozBvgarCnx5W"
      },
      "source": [
        "## 5. 학습"
      ]
    },
    {
      "cell_type": "code",
      "source": [
        "make_sequence_dataset = MakeSequenceDataSet(config = config)\n",
        "user_train, user_valid = make_sequence_dataset.get_train_valid_data()"
      ],
      "metadata": {
        "id": "tb8nwGb-Lufv"
      },
      "execution_count": null,
      "outputs": []
    },
    {
      "cell_type": "code",
      "source": [
        "bert4rec_dataset = BERTRecDataSet(\n",
        "    user_train = user_train,\n",
        "    max_len = config.max_len,\n",
        "    num_user = make_sequence_dataset.num_user,\n",
        "    num_item = make_sequence_dataset.num_item,\n",
        "    mask_prob = config.mask_prob,\n",
        "    )"
      ],
      "metadata": {
        "id": "6mkKkbLtYYJd"
      },
      "execution_count": null,
      "outputs": []
    },
    {
      "cell_type": "code",
      "source": [
        "data_loader = DataLoader(\n",
        "    bert4rec_dataset,\n",
        "    batch_size = config.batch_size,\n",
        "    shuffle = True,\n",
        "    pin_memory = True,\n",
        "    num_workers = config.num_workers,\n",
        "    )"
      ],
      "metadata": {
        "id": "hzMIEy4kYY9l"
      },
      "execution_count": null,
      "outputs": []
    },
    {
      "cell_type": "code",
      "source": [
        "model = BERT4Rec(\n",
        "    num_user = make_sequence_dataset.num_user,\n",
        "    num_item = make_sequence_dataset.num_item,\n",
        "    hidden_units = config.hidden_units,\n",
        "    num_heads = config.num_heads,\n",
        "    num_layers = config.num_layers,\n",
        "    max_len = config.max_len,\n",
        "    dropout_rate = config.dropout_rate,\n",
        "    device = device,\n",
        "    ).to(device)\n",
        "\n",
        "criterion = nn.CrossEntropyLoss(ignore_index=0) # label이 0인 경우 무시\n",
        "optimizer = torch.optim.Adam(model.parameters(), lr=config.lr)"
      ],
      "metadata": {
        "id": "FrphMwGbYaFK"
      },
      "execution_count": null,
      "outputs": []
    },
    {
      "cell_type": "code",
      "source": [
        "loss_list = []\n",
        "ndcg_list = []\n",
        "hit_list = []\n",
        "for epoch in range(1, config.num_epochs + 1):\n",
        "    tbar = tqdm(range(1))\n",
        "    for _ in tbar:\n",
        "        train_loss = train(\n",
        "            model = model,\n",
        "            criterion = criterion,\n",
        "            optimizer = optimizer,\n",
        "            data_loader = data_loader)\n",
        "\n",
        "        ndcg, hit = evaluate(\n",
        "            model = model,\n",
        "            user_train = user_train,\n",
        "            user_valid = user_valid,\n",
        "            max_len = config.max_len,\n",
        "            bert4rec_dataset = bert4rec_dataset,\n",
        "            make_sequence_dataset = make_sequence_dataset,\n",
        "            )\n",
        "\n",
        "        loss_list.append(train_loss)\n",
        "        ndcg_list.append(ndcg)\n",
        "        hit_list.append(hit)\n",
        "\n",
        "        tbar.set_description(f'Epoch: {epoch:3d}| Train loss: {train_loss:.5f}| NDCG@10: {ndcg:.5f}| HIT@10: {hit:.5f}')"
      ],
      "metadata": {
        "colab": {
          "base_uri": "https://localhost:8080/"
        },
        "id": "OyNfpRIAYdAC",
        "outputId": "c8187973-9fd9-4d44-bc1e-4527abc8abdd"
      },
      "execution_count": null,
      "outputs": [
        {
          "output_type": "stream",
          "name": "stderr",
          "text": [
            "Epoch:   1| Train loss: 9.28005| NDCG@10: 0.07211| HIT@10: 0.15052: 100%|██████████| 1/1 [00:05<00:00,  5.49s/it]\n",
            "Epoch:   2| Train loss: 9.15410| NDCG@10: 0.09644| HIT@10: 0.19076: 100%|██████████| 1/1 [00:02<00:00,  2.41s/it]\n",
            "Epoch:   3| Train loss: 9.04470| NDCG@10: 0.14269| HIT@10: 0.27571: 100%|██████████| 1/1 [00:01<00:00,  1.85s/it]\n",
            "Epoch:   4| Train loss: 8.90169| NDCG@10: 0.16863| HIT@10: 0.33085: 100%|██████████| 1/1 [00:01<00:00,  1.82s/it]\n",
            "Epoch:   5| Train loss: 8.71392| NDCG@10: 0.20692| HIT@10: 0.40387: 100%|██████████| 1/1 [00:01<00:00,  1.79s/it]\n",
            "Epoch:   6| Train loss: 8.55004| NDCG@10: 0.23400| HIT@10: 0.45156: 100%|██████████| 1/1 [00:01<00:00,  1.96s/it]\n",
            "Epoch:   7| Train loss: 8.36596| NDCG@10: 0.25217| HIT@10: 0.46945: 100%|██████████| 1/1 [00:02<00:00,  2.35s/it]\n",
            "Epoch:   8| Train loss: 8.23033| NDCG@10: 0.27121| HIT@10: 0.49627: 100%|██████████| 1/1 [00:01<00:00,  1.83s/it]\n",
            "Epoch:   9| Train loss: 8.12809| NDCG@10: 0.29234| HIT@10: 0.51267: 100%|██████████| 1/1 [00:01<00:00,  1.83s/it]\n",
            "Epoch:  10| Train loss: 8.00817| NDCG@10: 0.28964| HIT@10: 0.51118: 100%|██████████| 1/1 [00:01<00:00,  1.82s/it]\n",
            "Epoch:  11| Train loss: 7.98940| NDCG@10: 0.29330| HIT@10: 0.51416: 100%|██████████| 1/1 [00:01<00:00,  1.77s/it]\n",
            "Epoch:  12| Train loss: 7.96086| NDCG@10: 0.30506| HIT@10: 0.53949: 100%|██████████| 1/1 [00:01<00:00,  1.80s/it]\n",
            "Epoch:  13| Train loss: 7.89986| NDCG@10: 0.30424| HIT@10: 0.52906: 100%|██████████| 1/1 [00:02<00:00,  2.41s/it]\n",
            "Epoch:  14| Train loss: 7.86931| NDCG@10: 0.31722| HIT@10: 0.54098: 100%|██████████| 1/1 [00:01<00:00,  1.86s/it]\n",
            "Epoch:  15| Train loss: 7.88716| NDCG@10: 0.32832| HIT@10: 0.53949: 100%|██████████| 1/1 [00:01<00:00,  1.86s/it]\n",
            "Epoch:  16| Train loss: 7.85897| NDCG@10: 0.32973| HIT@10: 0.54993: 100%|██████████| 1/1 [00:01<00:00,  1.88s/it]\n",
            "Epoch:  17| Train loss: 7.83161| NDCG@10: 0.31699| HIT@10: 0.54098: 100%|██████████| 1/1 [00:01<00:00,  1.83s/it]\n",
            "Epoch:  18| Train loss: 7.80720| NDCG@10: 0.31652| HIT@10: 0.54247: 100%|██████████| 1/1 [00:01<00:00,  1.84s/it]\n",
            "Epoch:  19| Train loss: 7.83657| NDCG@10: 0.32647| HIT@10: 0.55589: 100%|██████████| 1/1 [00:02<00:00,  2.22s/it]\n",
            "Epoch:  20| Train loss: 7.84216| NDCG@10: 0.30663| HIT@10: 0.53651: 100%|██████████| 1/1 [00:02<00:00,  2.03s/it]\n",
            "Epoch:  21| Train loss: 7.75374| NDCG@10: 0.31521| HIT@10: 0.54098: 100%|██████████| 1/1 [00:01<00:00,  1.82s/it]\n",
            "Epoch:  22| Train loss: 7.78034| NDCG@10: 0.31643| HIT@10: 0.53800: 100%|██████████| 1/1 [00:01<00:00,  1.83s/it]\n",
            "Epoch:  23| Train loss: 7.80855| NDCG@10: 0.32552| HIT@10: 0.56185: 100%|██████████| 1/1 [00:01<00:00,  1.98s/it]\n",
            "Epoch:  24| Train loss: 7.82360| NDCG@10: 0.32378| HIT@10: 0.54545: 100%|██████████| 1/1 [00:01<00:00,  1.82s/it]\n",
            "Epoch:  25| Train loss: 7.76187| NDCG@10: 0.33126| HIT@10: 0.54993: 100%|██████████| 1/1 [00:03<00:00,  3.84s/it]\n",
            "Epoch:  26| Train loss: 7.83487| NDCG@10: 0.31734| HIT@10: 0.54396: 100%|██████████| 1/1 [00:02<00:00,  2.06s/it]\n",
            "Epoch:  27| Train loss: 7.79023| NDCG@10: 0.31457| HIT@10: 0.53353: 100%|██████████| 1/1 [00:01<00:00,  1.84s/it]\n",
            "Epoch:  28| Train loss: 7.79785| NDCG@10: 0.32124| HIT@10: 0.55589: 100%|██████████| 1/1 [00:01<00:00,  1.82s/it]\n",
            "Epoch:  29| Train loss: 7.73547| NDCG@10: 0.32255| HIT@10: 0.53651: 100%|██████████| 1/1 [00:01<00:00,  1.80s/it]\n",
            "Epoch:  30| Train loss: 7.79018| NDCG@10: 0.31334| HIT@10: 0.53353: 100%|██████████| 1/1 [00:01<00:00,  1.81s/it]\n",
            "Epoch:  31| Train loss: 7.79827| NDCG@10: 0.32395| HIT@10: 0.53651: 100%|██████████| 1/1 [00:02<00:00,  2.37s/it]\n",
            "Epoch:  32| Train loss: 7.80694| NDCG@10: 0.32119| HIT@10: 0.54396: 100%|██████████| 1/1 [00:01<00:00,  1.91s/it]\n",
            "Epoch:  33| Train loss: 7.77740| NDCG@10: 0.31509| HIT@10: 0.54247: 100%|██████████| 1/1 [00:01<00:00,  1.84s/it]\n",
            "Epoch:  34| Train loss: 7.76932| NDCG@10: 0.32202| HIT@10: 0.54844: 100%|██████████| 1/1 [00:01<00:00,  1.84s/it]\n",
            "Epoch:  35| Train loss: 7.78349| NDCG@10: 0.31911| HIT@10: 0.55142: 100%|██████████| 1/1 [00:01<00:00,  1.79s/it]\n",
            "Epoch:  36| Train loss: 7.73186| NDCG@10: 0.32501| HIT@10: 0.53353: 100%|██████████| 1/1 [00:01<00:00,  1.81s/it]\n",
            "Epoch:  37| Train loss: 7.77509| NDCG@10: 0.32426| HIT@10: 0.54247: 100%|██████████| 1/1 [00:02<00:00,  2.10s/it]\n",
            "Epoch:  38| Train loss: 7.74189| NDCG@10: 0.31622| HIT@10: 0.55440: 100%|██████████| 1/1 [00:02<00:00,  2.19s/it]\n",
            "Epoch:  39| Train loss: 7.72560| NDCG@10: 0.32410| HIT@10: 0.54098: 100%|██████████| 1/1 [00:01<00:00,  1.81s/it]\n",
            "Epoch:  40| Train loss: 7.76187| NDCG@10: 0.31630| HIT@10: 0.53502: 100%|██████████| 1/1 [00:01<00:00,  1.80s/it]\n",
            "Epoch:  41| Train loss: 7.77118| NDCG@10: 0.32194| HIT@10: 0.54694: 100%|██████████| 1/1 [00:01<00:00,  1.86s/it]\n",
            "Epoch:  42| Train loss: 7.74984| NDCG@10: 0.32020| HIT@10: 0.53949: 100%|██████████| 1/1 [00:01<00:00,  1.86s/it]\n",
            "Epoch:  43| Train loss: 7.76890| NDCG@10: 0.31476| HIT@10: 0.53800: 100%|██████████| 1/1 [00:01<00:00,  1.95s/it]\n",
            "Epoch:  44| Train loss: 7.76781| NDCG@10: 0.31788| HIT@10: 0.54396: 100%|██████████| 1/1 [00:02<00:00,  2.38s/it]\n",
            "Epoch:  45| Train loss: 7.74852| NDCG@10: 0.32237| HIT@10: 0.55142: 100%|██████████| 1/1 [00:01<00:00,  1.87s/it]\n",
            "Epoch:  46| Train loss: 7.72387| NDCG@10: 0.31930| HIT@10: 0.54993: 100%|██████████| 1/1 [00:01<00:00,  1.84s/it]\n",
            "Epoch:  47| Train loss: 7.77737| NDCG@10: 0.32074| HIT@10: 0.54396: 100%|██████████| 1/1 [00:01<00:00,  1.80s/it]\n",
            "Epoch:  48| Train loss: 7.84781| NDCG@10: 0.32605| HIT@10: 0.55589: 100%|██████████| 1/1 [00:01<00:00,  1.82s/it]\n",
            "Epoch:  49| Train loss: 7.76835| NDCG@10: 0.31927| HIT@10: 0.54993: 100%|██████████| 1/1 [00:01<00:00,  1.82s/it]\n",
            "Epoch:  50| Train loss: 7.71217| NDCG@10: 0.32867| HIT@10: 0.55887: 100%|██████████| 1/1 [00:02<00:00,  2.40s/it]\n"
          ]
        }
      ]
    },
    {
      "cell_type": "code",
      "source": [
        "import matplotlib.pyplot as plt\n",
        "\n",
        "fig, ax = plt.subplots(1, 3, figsize = (15, 5))\n",
        "ax = ax.flatten()\n",
        "epochs = [i for i in range(1, config.num_epochs + 1)]\n",
        "\n",
        "ax[0].plot(epochs, loss_list)\n",
        "ax[0].set_title('Loss')\n",
        "\n",
        "ax[1].plot(epochs, ndcg_list)\n",
        "ax[1].set_title('NDCG')\n",
        "\n",
        "ax[2].plot(epochs, hit_list)\n",
        "ax[2].set_title('HIT')\n",
        "plt.show()"
      ],
      "metadata": {
        "colab": {
          "base_uri": "https://localhost:8080/",
          "height": 487
        },
        "id": "QR_pOciFYtT7",
        "outputId": "022eff0d-89da-4821-8bc0-24079d5b0af2"
      },
      "execution_count": null,
      "outputs": [
        {
          "output_type": "display_data",
          "data": {
            "text/plain": [
              "<Figure size 1500x500 with 3 Axes>"
            ],
            "image/png": "[encoded data removed]"
          },
          "metadata": {}
        }
      ]
    },
    {
      "cell_type": "markdown",
      "source": [
        "**정보 검색 및 추천 시스템 성능 측정 지표**\n",
        "* NDCG (Normalized Discounted Cumulative Gain): 검색 결과나 추천 아이템이 사용자의 관심에 얼마나 잘 부합하는지를 평가한다. 검색 결과나 추천 리스트의 순서와 해당 아이템의 관려도를 고려하여 평가하며, 이 지표가 높을수록 검색이나 추천이 더 정확하고 유용하다고 볼 수 있다. 0~1까지의 범위를 가지며, 1에 가까울수록 더 나은 성능을 나타낸다.\n",
        "* HIT (Hit Rate): 추천 시스템에서 특정 사용자에게 추천된 아이템이 사용자가 실제로 선택한 아이템과 일치하는 비율을 나타낸다. 즉, 추천 시스템이 사용자가 선호하는 아이템을 몇 개나 정확하게 찾아냈는지를 나타낸다. HIT 값은 0부터 1까지의 범위를 가지며, 1에 가까울수록 더 나은 성능을 나타낸다."
      ],
      "metadata": {
        "id": "TdAWsq9o55Ro"
      }
    }
  ]
}
